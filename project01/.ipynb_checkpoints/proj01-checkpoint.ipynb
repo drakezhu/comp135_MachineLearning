{
 "cells": [
  {
   "cell_type": "markdown",
   "metadata": {},
   "source": [
    "## Yunke Zhu and 1330327"
   ]
  },
  {
   "cell_type": "markdown",
   "metadata": {},
   "source": [
    "## Project 1\n",
    "\n",
    "\n",
    "### Import required libraries."
   ]
  },
  {
   "cell_type": "code",
   "execution_count": 321,
   "metadata": {},
   "outputs": [],
   "source": [
    "import os\n",
    "import numpy as np\n",
    "import pandas as pd\n",
    "import csv\n",
    "from sklearn.linear_model import LogisticRegression\n",
    "import warnings\n",
    "\n",
    "import sklearn.linear_model\n",
    "import sklearn.tree\n",
    "import sklearn.metrics\n",
    "import operator\n",
    "from matplotlib import pyplot as plt\n",
    "import seaborn as sns\n",
    "%matplotlib inline\n",
    "plt.style.use('seaborn') # pretty matplotlib plots\n",
    "\n",
    "import graphviz"
   ]
  },
  {
   "cell_type": "markdown",
   "metadata": {},
   "source": [
    "# Part One: Logistic Regression for Digit Classification\n",
    "First of all, we upload the data from csv files, we ignore the first line of the headers."
   ]
  },
  {
   "cell_type": "code",
   "execution_count": 269,
   "metadata": {},
   "outputs": [],
   "source": [
    "x_tr = np.loadtxt('./data_digits_8_vs_9_noisy/x_train.csv', delimiter=',', skiprows=1)\n",
    "x_te = np.loadtxt('./data_digits_8_vs_9_noisy/x_test.csv', delimiter=',', skiprows=1)\n",
    "y_tr = np.loadtxt('./data_digits_8_vs_9_noisy/y_train.csv', delimiter=',', skiprows=1)\n",
    "y_te = np.loadtxt('./data_digits_8_vs_9_noisy/y_test.csv', delimiter=',', skiprows=1)"
   ]
  },
  {
   "cell_type": "code",
   "execution_count": 270,
   "metadata": {},
   "outputs": [],
   "source": [
    "# small_reader = csv.reader(open('./data_digits_8_vs_9_noisy/x_train.csv','rt'))\n",
    "# small_headers = next(small_reader)"
   ]
  },
  {
   "cell_type": "code",
   "execution_count": 281,
   "metadata": {},
   "outputs": [],
   "source": [
    "def calc_confusion_matrix_for_threshold(ytrue_N, yproba1_N, thresh):\n",
    "    ''' Compute the confusion matrix for a given probabilistic classifier and threshold\n",
    "    \n",
    "    Args\n",
    "    ----\n",
    "    ytrue_N : 1D array of floats\n",
    "        Each entry represents the binary value (0 or 1) of 'true' label of one example\n",
    "        One entry per example in current dataset\n",
    "    yproba1_N : 1D array of floats\n",
    "        Each entry represents a probability (between 0 and 1) that correct label is positive (1)\n",
    "        One entry per example in current dataset\n",
    "        Needs to be same size as ytrue_N\n",
    "    thresh : float\n",
    "        Scalar threshold for converting probabilities into hard decisions\n",
    "        Calls an example \"positive\" if yproba1 >= thresh\n",
    "\n",
    "    Returns\n",
    "    -------\n",
    "    cm_df : Pandas DataFrame\n",
    "        Can be printed like print(cm_df) to easily display results\n",
    "    '''\n",
    "    cm = sklearn.metrics.confusion_matrix(ytrue_N, yproba1_N >= thresh)\n",
    "    cm_df = pd.DataFrame(data=cm, columns=[0, 1], index=[0, 1])\n",
    "    cm_df.columns.name = 'Predicted'\n",
    "    cm_df.index.name = 'True'\n",
    "    return cm_df"
   ]
  },
  {
   "cell_type": "code",
   "execution_count": 185,
   "metadata": {},
   "outputs": [],
   "source": [
    "def transform(X,div):\n",
    "    re = []\n",
    "    counter = 1\n",
    "    tmp = []\n",
    "    for i in range(len(X)):\n",
    "        tmp.append(X[i])\n",
    "        if counter % div == 0:\n",
    "            re.append(np.array(tmp))\n",
    "            tmp = []\n",
    "        counter += 1\n",
    "    #print (np.array(re).shape)\n",
    "    return np.array(re)"
   ]
  },
  {
   "cell_type": "markdown",
   "metadata": {},
   "source": [
    "### 1.1 Compare the score and log loss with different iterations"
   ]
  },
  {
   "cell_type": "code",
   "execution_count": 272,
   "metadata": {},
   "outputs": [
    {
     "name": "stderr",
     "output_type": "stream",
     "text": [
      "/usr/local/lib/python3.7/site-packages/sklearn/svm/_base.py:947: ConvergenceWarning: Liblinear failed to converge, increase the number of iterations.\n",
      "  \"the number of iterations.\", ConvergenceWarning)\n",
      "/usr/local/lib/python3.7/site-packages/sklearn/svm/_base.py:947: ConvergenceWarning: Liblinear failed to converge, increase the number of iterations.\n",
      "  \"the number of iterations.\", ConvergenceWarning)\n",
      "/usr/local/lib/python3.7/site-packages/sklearn/svm/_base.py:947: ConvergenceWarning: Liblinear failed to converge, increase the number of iterations.\n",
      "  \"the number of iterations.\", ConvergenceWarning)\n",
      "/usr/local/lib/python3.7/site-packages/sklearn/svm/_base.py:947: ConvergenceWarning: Liblinear failed to converge, increase the number of iterations.\n",
      "  \"the number of iterations.\", ConvergenceWarning)\n",
      "/usr/local/lib/python3.7/site-packages/sklearn/svm/_base.py:947: ConvergenceWarning: Liblinear failed to converge, increase the number of iterations.\n",
      "  \"the number of iterations.\", ConvergenceWarning)\n",
      "/usr/local/lib/python3.7/site-packages/sklearn/svm/_base.py:947: ConvergenceWarning: Liblinear failed to converge, increase the number of iterations.\n",
      "  \"the number of iterations.\", ConvergenceWarning)\n",
      "/usr/local/lib/python3.7/site-packages/sklearn/svm/_base.py:947: ConvergenceWarning: Liblinear failed to converge, increase the number of iterations.\n",
      "  \"the number of iterations.\", ConvergenceWarning)\n",
      "/usr/local/lib/python3.7/site-packages/sklearn/svm/_base.py:947: ConvergenceWarning: Liblinear failed to converge, increase the number of iterations.\n",
      "  \"the number of iterations.\", ConvergenceWarning)\n",
      "/usr/local/lib/python3.7/site-packages/sklearn/svm/_base.py:947: ConvergenceWarning: Liblinear failed to converge, increase the number of iterations.\n",
      "  \"the number of iterations.\", ConvergenceWarning)\n",
      "/usr/local/lib/python3.7/site-packages/sklearn/svm/_base.py:947: ConvergenceWarning: Liblinear failed to converge, increase the number of iterations.\n",
      "  \"the number of iterations.\", ConvergenceWarning)\n",
      "/usr/local/lib/python3.7/site-packages/sklearn/svm/_base.py:947: ConvergenceWarning: Liblinear failed to converge, increase the number of iterations.\n",
      "  \"the number of iterations.\", ConvergenceWarning)\n",
      "/usr/local/lib/python3.7/site-packages/sklearn/svm/_base.py:947: ConvergenceWarning: Liblinear failed to converge, increase the number of iterations.\n",
      "  \"the number of iterations.\", ConvergenceWarning)\n",
      "/usr/local/lib/python3.7/site-packages/sklearn/svm/_base.py:947: ConvergenceWarning: Liblinear failed to converge, increase the number of iterations.\n",
      "  \"the number of iterations.\", ConvergenceWarning)\n",
      "/usr/local/lib/python3.7/site-packages/sklearn/svm/_base.py:947: ConvergenceWarning: Liblinear failed to converge, increase the number of iterations.\n",
      "  \"the number of iterations.\", ConvergenceWarning)\n",
      "/usr/local/lib/python3.7/site-packages/sklearn/svm/_base.py:947: ConvergenceWarning: Liblinear failed to converge, increase the number of iterations.\n",
      "  \"the number of iterations.\", ConvergenceWarning)\n",
      "/usr/local/lib/python3.7/site-packages/sklearn/svm/_base.py:947: ConvergenceWarning: Liblinear failed to converge, increase the number of iterations.\n",
      "  \"the number of iterations.\", ConvergenceWarning)\n",
      "/usr/local/lib/python3.7/site-packages/sklearn/svm/_base.py:947: ConvergenceWarning: Liblinear failed to converge, increase the number of iterations.\n",
      "  \"the number of iterations.\", ConvergenceWarning)\n",
      "/usr/local/lib/python3.7/site-packages/sklearn/svm/_base.py:947: ConvergenceWarning: Liblinear failed to converge, increase the number of iterations.\n",
      "  \"the number of iterations.\", ConvergenceWarning)\n"
     ]
    }
   ],
   "source": [
    "accuracy = [] # accuracy stores the score from the model using training data.\n",
    "weight_000 = [] # weight_000 stores the weight of the first pixel for each iteration\n",
    "loss = [] # loss stores the log loss from the model using testing data\n",
    "for max_iter in range(1,41):\n",
    "    clf = LogisticRegression(solver='liblinear',max_iter=max_iter).fit(x_tr, y_tr)\n",
    "    weight_000.append(clf.coef_[0][0])\n",
    "    accuracy.append(clf.score(x_tr,y_tr))\n",
    "    y_pred = clf.predict_proba(x_tr)\n",
    "    loss.append(sklearn.metrics.log_loss(y_tr,y_pred))"
   ]
  },
  {
   "cell_type": "markdown",
   "metadata": {},
   "source": [
    "After we build different models from iteration 1 till iteration 40, we have 40 models with different iterations and corresponding log loss, scores, and weight of piexl000. Then we build two figure two show the result of how log loss and score goes with different iterations."
   ]
  },
  {
   "cell_type": "code",
   "execution_count": 274,
   "metadata": {},
   "outputs": [
    {
     "data": {
      "image/png": "[encoded data removed]",
      "text/plain": [
       "<Figure size 576x396 with 1 Axes>"
      ]
     },
     "metadata": {},
     "output_type": "display_data"
    },
    {
     "data": {
      "image/png": "[encoded data removed]",
      "text/plain": [
       "<Figure size 576x396 with 1 Axes>"
      ]
     },
     "metadata": {},
     "output_type": "display_data"
    }
   ],
   "source": [
    "# TODO make plot\n",
    "plt.figure()\n",
    "plt.subplot(211)\n",
    "plt.xlabel('max_iter')\n",
    "plt.ylabel('score')\n",
    "plt.plot([_ for _ in range(1,41)],accuracy, color='blue',label = \"Score Curve\")\n",
    "plt.legend()\n",
    "plt.show()\n",
    "\n",
    "plt.subplot(212)\n",
    "plt.xlabel('max_iter')\n",
    "plt.ylabel('loss')\n",
    "plt.plot([_ for _ in range(1,41)],loss, color='red',label = \"Loss Curve\")\n",
    "plt.legend()\n",
    "plt.show()\n"
   ]
  },
  {
   "cell_type": "markdown",
   "metadata": {},
   "source": [
    "### discussion: \n",
    "from the two figures above we can see that, the accuracy increase as max_iter increase; the loss decrease as max_iter increase. But both become flat after about 7-8 times of iterations. We can conclude that, the amount of iterations can help us improve the accuracy of our model and decrease the loss. But after several times of iterations, we don't have to do more iterations since our model already becomes stable. And for some large models, the number of iterations affect a lot to the time coplexity. We can find a optimal iterations which can build the model accurately and not that time consuming."
   ]
  },
  {
   "cell_type": "markdown",
   "metadata": {},
   "source": [
    "## 1.2: plot the trends of the weight on pixel 000"
   ]
  },
  {
   "cell_type": "code",
   "execution_count": 277,
   "metadata": {},
   "outputs": [
    {
     "data": {
      "image/png": "[encoded data removed]",
      "text/plain": [
       "<Figure size 576x396 with 1 Axes>"
      ]
     },
     "metadata": {},
     "output_type": "display_data"
    }
   ],
   "source": [
    "# TODO make plot\n",
    "plt.xlabel('max_iter')\n",
    "plt.ylabel('weight')\n",
    "plt.plot([_ for _ in range(1,41)],weight_000, color='blue',label = \"weight on pixel000\")\n",
    "plt.legend()\n",
    "plt.show()"
   ]
  },
  {
   "cell_type": "markdown",
   "metadata": {},
   "source": [
    "### Discussion:\n",
    "We already collect the weight of piexl000 when building the model. Basically, pixel000 can be treated as the first feature from our dataset, and the plot above shows how its weight changes as max_iter increases. We can see that quite similar to loss and accuracy plots, after 7-8 iterations, the line becomes flat, which means this feature adjust itself to a relatively stable value after 7-8 iterations. And the final weight of pixel000 is around -0.45, which shows how this features dominate the model."
   ]
  },
  {
   "cell_type": "markdown",
   "metadata": {},
   "source": [
    "## 1.3 Find the Best Penalty Strength C"
   ]
  },
  {
   "cell_type": "code",
   "execution_count": 280,
   "metadata": {},
   "outputs": [],
   "source": [
    "C_grid = np.logspace(-9, 6, 31)\n",
    "C_accuracy = []\n",
    "C_loss = []\n",
    "for C in C_grid:\n",
    "    LRM = LogisticRegression(solver='liblinear',C=C).fit(x_tr, y_tr)\n",
    "    pred_te = LRM.predict_proba(x_te)\n",
    "    C_accuracy.append(clf.score(x_te,y_te))\n",
    "    C_loss.append(sklearn.metrics.log_loss(y_te,pred_te))"
   ]
  },
  {
   "cell_type": "code",
   "execution_count": 282,
   "metadata": {},
   "outputs": [
    {
     "data": {
      "image/png": "[encoded data removed]",
      "text/plain": [
       "<Figure size 576x396 with 1 Axes>"
      ]
     },
     "metadata": {},
     "output_type": "display_data"
    },
    {
     "name": "stdout",
     "output_type": "stream",
     "text": [
      "Best C-value for LR with 2-feature data: 0.032\n",
      "Validation set log-loss at best C-value: 0.0897\n",
      "The accuracy under the best C value: 0.8174\n"
     ]
    }
   ],
   "source": [
    "plt.xscale('log')\n",
    "plt.xlabel('log10(C)')\n",
    "plt.ylabel('logistic loss')\n",
    "plt.plot(C_grid,C_loss, color='red',label = \"Log Loss\")\n",
    "\n",
    "plt.legend()\n",
    "plt.show()\n",
    "print(\"Best C-value for LR with 784-feature data: %.7f\" % C_grid[np.argmin(C_loss)]) # TODO\n",
    "print(\"Log-loss at best C-value: %.4f\" % min(C_loss))\n",
    "print(\"The accuracy under the best C value: %.4f\" % C_accuracy[np.argmin(C_loss)])"
   ]
  },
  {
   "cell_type": "code",
   "execution_count": 283,
   "metadata": {},
   "outputs": [
    {
     "name": "stdout",
     "output_type": "stream",
     "text": [
      "Predicted    0    1\n",
      "True               \n",
      "0          942   32\n",
      "1           33  976\n"
     ]
    }
   ],
   "source": [
    "bestC = C_grid[np.argmin(C_loss)]\n",
    "clf = LogisticRegression(C=bestC,solver='liblinear').fit(x_tr, y_tr)\n",
    "ypred_te = clf.predict(x_te)\n",
    "print(calc_confusion_matrix_for_threshold(y_te,ypred_te,0.5))"
   ]
  },
  {
   "cell_type": "markdown",
   "metadata": {},
   "source": [
    "### Discussion:\n",
    "The best C-value from the given grid is 0.0316227, and the log loss and accuracy under such C value is 0.0897 and 0.8174.\n",
    "From the confusion matrix, we can know that the amount of True Positive is: 976; True Negative: 942; False Positive: 32; False Negative: 33."
   ]
  },
  {
   "cell_type": "markdown",
   "metadata": {},
   "source": [
    "## 1.4 Plot False Cases"
   ]
  },
  {
   "cell_type": "code",
   "execution_count": 187,
   "metadata": {},
   "outputs": [],
   "source": [
    "false_pos = []\n",
    "false_neg = []\n",
    "for i in range(len(ypred_te)):\n",
    "    if ypred_te[i] == 1 and y_te[i] == 0:\n",
    "        false_pos.append(transform(x_te[i],28))\n",
    "    if ypred_te[i] == 0 and y_te[i] == 1:\n",
    "        false_neg.append(transform(x_te[i],28))\n"
   ]
  },
  {
   "cell_type": "code",
   "execution_count": 206,
   "metadata": {},
   "outputs": [
    {
     "data": {
      "image/png": "[encoded data removed]",
      "text/plain": [
       "<Figure size 576x396 with 1 Axes>"
      ]
     },
     "metadata": {},
     "output_type": "display_data"
    }
   ],
   "source": [
    "f = plt.figure()\n",
    "#for i in range(9):\n",
    "plt.imshow(X = false_pos[4],cmap='gray', vmin=0.0, vmax=1.0)\n",
    "f.savefig(\"foo.pdf\", bbox_inches='tight')"
   ]
  },
  {
   "cell_type": "code",
   "execution_count": 207,
   "metadata": {},
   "outputs": [
    {
     "data": {
      "text/plain": [
       "<matplotlib.image.AxesImage at 0x1236038d0>"
      ]
     },
     "execution_count": 207,
     "metadata": {},
     "output_type": "execute_result"
    },
    {
     "data": {
      "image/png": "[encoded data removed]",
      "text/plain": [
       "<Figure size 576x396 with 1 Axes>"
      ]
     },
     "metadata": {},
     "output_type": "display_data"
    }
   ],
   "source": [
    "matplotlib.pyplot.imshow(X = false_neg[0],cmap='gray', vmin=0.0, vmax=1.0)"
   ]
  },
  {
   "cell_type": "markdown",
   "metadata": {},
   "source": [
    "## 1.5"
   ]
  },
  {
   "cell_type": "code",
   "execution_count": 232,
   "metadata": {},
   "outputs": [],
   "source": [
    "\n",
    "tt = transform(clf.coef_[0].transpose(),28)"
   ]
  },
  {
   "cell_type": "code",
   "execution_count": 233,
   "metadata": {},
   "outputs": [
    {
     "data": {
      "text/plain": [
       "(28, 28)"
      ]
     },
     "execution_count": 233,
     "metadata": {},
     "output_type": "execute_result"
    }
   ],
   "source": [
    "tt.shape"
   ]
  },
  {
   "cell_type": "code",
   "execution_count": 234,
   "metadata": {},
   "outputs": [
    {
     "data": {
      "text/plain": [
       "<matplotlib.image.AxesImage at 0x122b94350>"
      ]
     },
     "execution_count": 234,
     "metadata": {},
     "output_type": "execute_result"
    },
    {
     "data": {
      "image/png": "[encoded data removed]",
      "text/plain": [
       "<Figure size 576x396 with 1 Axes>"
      ]
     },
     "metadata": {},
     "output_type": "display_data"
    }
   ],
   "source": [
    "matplotlib.pyplot.imshow(X = tt,cmap='RdYlBu', vmin=-0.5, vmax=0.5)"
   ]
  },
  {
   "cell_type": "markdown",
   "metadata": {},
   "source": [
    "# Part Two: Sneakers versus Sandals\n",
    "\n"
   ]
  },
  {
   "cell_type": "markdown",
   "metadata": {},
   "source": [
    "## STEP 1: Upload Data\n",
    "Read data from csv file eliminate the first header line. Then try to plot the figure in the data. Since the "
   ]
  },
  {
   "cell_type": "code",
   "execution_count": 284,
   "metadata": {},
   "outputs": [],
   "source": [
    "x_tr = np.loadtxt('./data_sneaker_vs_sandal/x_train.csv', delimiter=',', skiprows=1)\n",
    "x_te = np.loadtxt('./data_sneaker_vs_sandal/x_test.csv', delimiter=',', skiprows=1)\n",
    "y_tr = np.loadtxt('./data_sneaker_vs_sandal/y_train.csv', delimiter=',', skiprows=1)\n"
   ]
  },
  {
   "cell_type": "code",
   "execution_count": 444,
   "metadata": {},
   "outputs": [],
   "source": [
    "img = transform(x_tr[0],28)"
   ]
  },
  {
   "cell_type": "code",
   "execution_count": 445,
   "metadata": {},
   "outputs": [
    {
     "data": {
      "text/plain": [
       "<matplotlib.image.AxesImage at 0x14dcfce50>"
      ]
     },
     "execution_count": 445,
     "metadata": {},
     "output_type": "execute_result"
    },
    {
     "data": {
      "image/png": "[encoded data removed]",
      "text/plain": [
       "<Figure size 576x396 with 1 Axes>"
      ]
     },
     "metadata": {},
     "output_type": "display_data"
    }
   ],
   "source": [
    "matplotlib.pyplot.imshow(X = img,cmap='gray', vmin=0.0, vmax=1.0)"
   ]
  },
  {
   "cell_type": "code",
   "execution_count": 286,
   "metadata": {},
   "outputs": [
    {
     "name": "stderr",
     "output_type": "stream",
     "text": [
      "/usr/local/lib/python3.7/site-packages/sklearn/svm/_base.py:947: ConvergenceWarning: Liblinear failed to converge, increase the number of iterations.\n",
      "  \"the number of iterations.\", ConvergenceWarning)\n",
      "/usr/local/lib/python3.7/site-packages/sklearn/svm/_base.py:947: ConvergenceWarning: Liblinear failed to converge, increase the number of iterations.\n",
      "  \"the number of iterations.\", ConvergenceWarning)\n",
      "/usr/local/lib/python3.7/site-packages/sklearn/svm/_base.py:947: ConvergenceWarning: Liblinear failed to converge, increase the number of iterations.\n",
      "  \"the number of iterations.\", ConvergenceWarning)\n",
      "/usr/local/lib/python3.7/site-packages/sklearn/svm/_base.py:947: ConvergenceWarning: Liblinear failed to converge, increase the number of iterations.\n",
      "  \"the number of iterations.\", ConvergenceWarning)\n",
      "/usr/local/lib/python3.7/site-packages/sklearn/svm/_base.py:947: ConvergenceWarning: Liblinear failed to converge, increase the number of iterations.\n",
      "  \"the number of iterations.\", ConvergenceWarning)\n",
      "/usr/local/lib/python3.7/site-packages/sklearn/svm/_base.py:947: ConvergenceWarning: Liblinear failed to converge, increase the number of iterations.\n",
      "  \"the number of iterations.\", ConvergenceWarning)\n",
      "/usr/local/lib/python3.7/site-packages/sklearn/svm/_base.py:947: ConvergenceWarning: Liblinear failed to converge, increase the number of iterations.\n",
      "  \"the number of iterations.\", ConvergenceWarning)\n",
      "/usr/local/lib/python3.7/site-packages/sklearn/svm/_base.py:947: ConvergenceWarning: Liblinear failed to converge, increase the number of iterations.\n",
      "  \"the number of iterations.\", ConvergenceWarning)\n",
      "/usr/local/lib/python3.7/site-packages/sklearn/svm/_base.py:947: ConvergenceWarning: Liblinear failed to converge, increase the number of iterations.\n",
      "  \"the number of iterations.\", ConvergenceWarning)\n",
      "/usr/local/lib/python3.7/site-packages/sklearn/svm/_base.py:947: ConvergenceWarning: Liblinear failed to converge, increase the number of iterations.\n",
      "  \"the number of iterations.\", ConvergenceWarning)\n",
      "/usr/local/lib/python3.7/site-packages/sklearn/svm/_base.py:947: ConvergenceWarning: Liblinear failed to converge, increase the number of iterations.\n",
      "  \"the number of iterations.\", ConvergenceWarning)\n",
      "/usr/local/lib/python3.7/site-packages/sklearn/svm/_base.py:947: ConvergenceWarning: Liblinear failed to converge, increase the number of iterations.\n",
      "  \"the number of iterations.\", ConvergenceWarning)\n",
      "/usr/local/lib/python3.7/site-packages/sklearn/svm/_base.py:947: ConvergenceWarning: Liblinear failed to converge, increase the number of iterations.\n",
      "  \"the number of iterations.\", ConvergenceWarning)\n",
      "/usr/local/lib/python3.7/site-packages/sklearn/svm/_base.py:947: ConvergenceWarning: Liblinear failed to converge, increase the number of iterations.\n",
      "  \"the number of iterations.\", ConvergenceWarning)\n",
      "/usr/local/lib/python3.7/site-packages/sklearn/svm/_base.py:947: ConvergenceWarning: Liblinear failed to converge, increase the number of iterations.\n",
      "  \"the number of iterations.\", ConvergenceWarning)\n",
      "/usr/local/lib/python3.7/site-packages/sklearn/svm/_base.py:947: ConvergenceWarning: Liblinear failed to converge, increase the number of iterations.\n",
      "  \"the number of iterations.\", ConvergenceWarning)\n",
      "/usr/local/lib/python3.7/site-packages/sklearn/svm/_base.py:947: ConvergenceWarning: Liblinear failed to converge, increase the number of iterations.\n",
      "  \"the number of iterations.\", ConvergenceWarning)\n",
      "/usr/local/lib/python3.7/site-packages/sklearn/svm/_base.py:947: ConvergenceWarning: Liblinear failed to converge, increase the number of iterations.\n",
      "  \"the number of iterations.\", ConvergenceWarning)\n"
     ]
    }
   ],
   "source": [
    "accuracy = []\n",
    "weight_000 = []\n",
    "loss = []\n",
    "for max_iter in range(1,41):\n",
    "    clf = LogisticRegression(solver='liblinear',max_iter=max_iter).fit(x_tr, y_tr)\n",
    "    weight_000.append(clf.coef_[0][0])\n",
    "    accuracy.append(clf.score(x_tr,y_tr))\n",
    "    loss.append(loss_detection(x_tr,y_tr,max_iter))"
   ]
  },
  {
   "cell_type": "code",
   "execution_count": 249,
   "metadata": {},
   "outputs": [
    {
     "data": {
      "image/png": "[encoded data removed]",
      "text/plain": [
       "<Figure size 576x396 with 1 Axes>"
      ]
     },
     "metadata": {},
     "output_type": "display_data"
    },
    {
     "data": {
      "image/png": "[encoded data removed]",
      "text/plain": [
       "<Figure size 576x396 with 1 Axes>"
      ]
     },
     "metadata": {},
     "output_type": "display_data"
    }
   ],
   "source": [
    "# TODO make plot\n",
    "plt.figure()\n",
    "plt.subplot(211)\n",
    "plt.xlabel('max_iter')\n",
    "plt.ylabel('loss')\n",
    "plt.plot([_ for _ in range(1,41)],accuracy, color='blue',label = \"Score Curve\")\n",
    "plt.legend()\n",
    "plt.show()\n",
    "\n",
    "plt.subplot(212)\n",
    "plt.xlabel('max_iter')\n",
    "plt.ylabel('loss')\n",
    "plt.plot([_ for _ in range(1,41)],loss, color='red',label = \"Loss Curve\")\n",
    "plt.legend()\n",
    "plt.show()"
   ]
  },
  {
   "cell_type": "code",
   "execution_count": 251,
   "metadata": {},
   "outputs": [
    {
     "data": {
      "text/plain": [
       "(2000, 784)"
      ]
     },
     "execution_count": 251,
     "metadata": {},
     "output_type": "execute_result"
    }
   ],
   "source": [
    "x_te.shape\n"
   ]
  },
  {
   "cell_type": "code",
   "execution_count": 347,
   "metadata": {},
   "outputs": [],
   "source": [
    "clf = LogisticRegression(solver='liblinear').fit(x_tr, y_tr)\n",
    "y_pred_1 = clf.predict(x_te)"
   ]
  },
  {
   "cell_type": "code",
   "execution_count": 254,
   "metadata": {},
   "outputs": [
    {
     "data": {
      "text/plain": [
       "array([1., 0., 1., ..., 1., 1., 1.])"
      ]
     },
     "execution_count": 254,
     "metadata": {},
     "output_type": "execute_result"
    }
   ],
   "source": [
    "y_pred"
   ]
  },
  {
   "cell_type": "code",
   "execution_count": 316,
   "metadata": {},
   "outputs": [
    {
     "data": {
      "text/plain": [
       "10"
      ]
     },
     "execution_count": 316,
     "metadata": {},
     "output_type": "execute_result"
    }
   ],
   "source": [
    "k"
   ]
  },
  {
   "cell_type": "code",
   "execution_count": 290,
   "metadata": {},
   "outputs": [],
   "source": [
    "k = 10 # building 10 folds\n",
    "x_folds,y_folds = make_folds(k,x_tr,y_tr)"
   ]
  },
  {
   "cell_type": "code",
   "execution_count": 334,
   "metadata": {},
   "outputs": [
    {
     "data": {
      "text/plain": [
       "0.0"
      ]
     },
     "execution_count": 334,
     "metadata": {},
     "output_type": "execute_result"
    }
   ],
   "source": [
    "xTrain = ((1),(1),(1))"
   ]
  },
  {
   "cell_type": "code",
   "execution_count": 404,
   "metadata": {},
   "outputs": [],
   "source": [
    "def TestingTrainingError(k,xTrains=None,yTrains=None,x_folds=None,y_dolfs=None):\n",
    "    \n",
    "    best_C = []\n",
    "    best_score = []\n",
    "    C_grid = np.logspace(-9, 6, 31)\n",
    "    for i in range(k):\n",
    "        print (\"fold: %d\"%i)\n",
    "        C_accuracy = []\n",
    "        C_loss = []\n",
    "        xTrain = tuple(xTrains[i])\n",
    "        yTrain = tuple(yTrains[i])\n",
    "        xTest = tuple(x_folds[i])\n",
    "        yTest = tuple(y_folds[i])\n",
    "        #sorted_zip = sorted(zip(xTrain, yTrain), key=operator.itemgetter(0))\n",
    "        #xTrain, yTrain = zip(*sorted_zip)\n",
    "        for C in C_grid:\n",
    "            LRM = LogisticRegression(solver='liblinear',C=C).fit(xTrain, yTrain)\n",
    "            pred_te = LRM.predict_proba(xTest)\n",
    "            C_accuracy.append(LRM.score(xTest,yTest))\n",
    "            C_loss.append(sklearn.metrics.log_loss(yTest,pred_te))\n",
    "        best_C.append(C_grid[np.argmin(C_loss)])\n",
    "        best_score.append(np.array(C_accuracy))\n",
    "        \n",
    "    return np.array(best_C), np.array(best_score)"
   ]
  },
  {
   "cell_type": "code",
   "execution_count": 340,
   "metadata": {},
   "outputs": [],
   "source": [
    "def generateFolds(x=None,y=None,k=1):\n",
    "    xTrains=[]\n",
    "    yTrains=[]\n",
    "    step = int(len(x) / k)\n",
    "    j = 0\n",
    "    for i in range(k):\n",
    "        rows = [_ for _ in range(j,j+step)]\n",
    "        xTrains.append(np.delete(x,rows,0))\n",
    "        yTrains.append(np.delete(y,rows,0))\n",
    "        j += step\n",
    "    return np.array(xTrains),np.array(yTrains)"
   ]
  },
  {
   "cell_type": "code",
   "execution_count": 390,
   "metadata": {},
   "outputs": [],
   "source": [
    "xTrains,yTrains = generateFolds(new_x_tr,y_tr,k)"
   ]
  },
  {
   "cell_type": "code",
   "execution_count": null,
   "metadata": {},
   "outputs": [],
   "source": [
    "best_C = TestingTrainingError(k,xTrains,yTrains,x_folds,y_folds)"
   ]
  },
  {
   "cell_type": "code",
   "execution_count": 343,
   "metadata": {},
   "outputs": [
    {
     "data": {
      "text/plain": [
       "array([1.        , 0.31622777, 1.        , 1.        , 0.31622777,\n",
       "       1.        , 0.31622777, 0.31622777, 1.        , 0.31622777])"
      ]
     },
     "execution_count": 343,
     "metadata": {},
     "output_type": "execute_result"
    }
   ],
   "source": [
    "best_C"
   ]
  },
  {
   "cell_type": "code",
   "execution_count": 353,
   "metadata": {},
   "outputs": [
    {
     "data": {
      "text/plain": [
       "100000.0"
      ]
     },
     "execution_count": 353,
     "metadata": {},
     "output_type": "execute_result"
    }
   ],
   "source": [
    "C_loss = []\n",
    "for C in C_grid:\n",
    "    LRM = LogisticRegression(solver='liblinear',C=C).fit(x_tr, y_tr)\n",
    "    pred_tr = LRM.predict_proba(x_tr)\n",
    "    C_accuracy.append(LRM.score(x_tr,y_tr))\n",
    "    C_loss.append(sklearn.metrics.log_loss(y_tr,pred_tr))\n",
    "curC = C_grid[np.argmin(C_loss)]\n",
    "curC"
   ]
  },
  {
   "cell_type": "code",
   "execution_count": 352,
   "metadata": {},
   "outputs": [
    {
     "data": {
      "text/plain": [
       "(63,)"
      ]
     },
     "execution_count": 352,
     "metadata": {},
     "output_type": "execute_result"
    }
   ],
   "source": [
    "np.array(C_loss).shape\n",
    "# C_grid.shape"
   ]
  },
  {
   "cell_type": "code",
   "execution_count": 374,
   "metadata": {},
   "outputs": [],
   "source": [
    "clf = LogisticRegression(solver='liblinear',C=curC).fit(x_tr, y_tr)\n",
    "y_pred_2 = clf.predict(x_te)\n",
    "np.savetxt('yproba1_test.txt', y_pred_2)"
   ]
  },
  {
   "cell_type": "code",
   "execution_count": 356,
   "metadata": {},
   "outputs": [],
   "source": []
  },
  {
   "cell_type": "code",
   "execution_count": 393,
   "metadata": {},
   "outputs": [],
   "source": [
    "clf = LogisticRegression(solver='liblinear',C=0.31622777,max_iter=500).fit(new_x_tr, y_tr)\n",
    "y_pred_3 = clf.predict(new_x_te)\n",
    "np.savetxt('yproba1_test.txt', y_pred_3)"
   ]
  },
  {
   "cell_type": "code",
   "execution_count": 378,
   "metadata": {},
   "outputs": [],
   "source": [
    "clf = LogisticRegression(solver='liblinear',C=0.658113885).fit(x_tr, y_tr)\n",
    "y_pred_4 = clf.predict(x_te)\n",
    "np.savetxt('yproba1_test.txt', y_pred_4)"
   ]
  },
  {
   "cell_type": "code",
   "execution_count": 388,
   "metadata": {},
   "outputs": [],
   "source": [
    "new_x_tr = []\n",
    "new_x_te = []\n",
    "for x in x_tr:\n",
    "    x = np.append(x, [sum(x)])\n",
    "    new_x_tr.append(x)\n",
    "\n",
    "for x in x_te:\n",
    "    x = np.append(x, [sum(x)])\n",
    "    new_x_te.append(x)\n",
    "new_x_tr = np.array(new_x_tr)\n",
    "new_x_te = np.array(new_x_te)"
   ]
  },
  {
   "cell_type": "code",
   "execution_count": 396,
   "metadata": {},
   "outputs": [],
   "source": [
    "new_xTrains,new_yTrains = generateFolds(new_x_tr,y_tr,k)\n",
    "new_x_folds,new_y_folds = make_folds(k,new_x_tr,y_tr)\n"
   ]
  },
  {
   "cell_type": "code",
   "execution_count": 399,
   "metadata": {},
   "outputs": [],
   "source": [
    "fold1_x_tr = new_xTrains[0]\n",
    "flod1_y_tr = new_yTrains[0]\n",
    "fold1_x_te = new_x_folds[0]\n",
    "flod1_y_te = new_y_folds[0]\n",
    "C_loss = []\n",
    "for C in C_grid:\n",
    "    LRM = LogisticRegression(solver='liblinear',C=C).fit(fold1_x_tr, flod1_y_tr)\n",
    "    pred_te = LRM.predict_proba(fold1_x_te)\n",
    "    C_loss.append(sklearn.metrics.log_loss(flod1_y_te,pred_te))\n",
    "\n",
    "best_C = C_grid[np.argmin(C_loss)]\n",
    "print (best_C)\n",
    "\n",
    "\n",
    "clf = LogisticRegression(solver='liblinear',C=best_C).fit(fold1_x_tr, flod1_y_tr)\n",
    "y_pred_4 = clf.predict(new_x_te)\n",
    "np.savetxt('yproba1_test.txt', y_pred_4)\n",
    "#0.040000000000000036"
   ]
  },
  {
   "cell_type": "code",
   "execution_count": 400,
   "metadata": {},
   "outputs": [
    {
     "data": {
      "text/plain": [
       "(2000, 785)"
      ]
     },
     "execution_count": 400,
     "metadata": {},
     "output_type": "execute_result"
    }
   ],
   "source": [
    "new_x_te.shape"
   ]
  },
  {
   "cell_type": "code",
   "execution_count": 401,
   "metadata": {},
   "outputs": [],
   "source": [
    "clf = LogisticRegression(solver='liblinear',C=0.31622777).fit(fold1_x_tr, flod1_y_tr)\n",
    "y_pred_4 = clf.predict(new_x_te)\n",
    "np.savetxt('yproba1_test.txt', y_pred_4)\n",
    "#0.03949999999999998"
   ]
  },
  {
   "cell_type": "code",
   "execution_count": 407,
   "metadata": {},
   "outputs": [
    {
     "name": "stdout",
     "output_type": "stream",
     "text": [
      "fold: 0\n",
      "fold: 1\n",
      "fold: 2\n",
      "fold: 3\n",
      "fold: 4\n",
      "fold: 5\n",
      "fold: 6\n",
      "fold: 7\n",
      "fold: 8\n",
      "fold: 9\n"
     ]
    }
   ],
   "source": [
    "\n",
    "C_Values,Scores = TestingTrainingError(k,new_xTrains,new_yTrains,new_x_folds,new_y_folds)"
   ]
  },
  {
   "cell_type": "code",
   "execution_count": 412,
   "metadata": {},
   "outputs": [
    {
     "name": "stdout",
     "output_type": "stream",
     "text": [
      "[1.         0.31622777 1.         1.         0.31622777 1.\n",
      " 0.31622777 0.31622777 1.         0.31622777]\n",
      "25.35916666666667\n",
      "24.96583333333333\n",
      "25.19\n",
      "24.894166666666663\n",
      "25.003333333333337\n",
      "25.305833333333325\n",
      "25.207499999999996\n",
      "25.143333333333338\n",
      "25.163333333333334\n",
      "25.00833333333334\n",
      "[1.00000000e-09 3.16227766e-09 1.00000000e-08 3.16227766e-08\n",
      " 1.00000000e-07 3.16227766e-07 1.00000000e-06 3.16227766e-06\n",
      " 1.00000000e-05 3.16227766e-05 1.00000000e-04 3.16227766e-04\n",
      " 1.00000000e-03 3.16227766e-03 1.00000000e-02 3.16227766e-02\n",
      " 1.00000000e-01 3.16227766e-01 1.00000000e+00 3.16227766e+00\n",
      " 1.00000000e+01 3.16227766e+01 1.00000000e+02 3.16227766e+02\n",
      " 1.00000000e+03 3.16227766e+03 1.00000000e+04 3.16227766e+04\n",
      " 1.00000000e+05 3.16227766e+05 1.00000000e+06]\n"
     ]
    }
   ],
   "source": [
    "print(C_Values)\n",
    "for x in Scores:\n",
    "    print(sum(x))\n",
    "print (C_grid)\n"
   ]
  },
  {
   "cell_type": "code",
   "execution_count": 420,
   "metadata": {},
   "outputs": [],
   "source": [
    "C_grid = np.logspace(-9, 6, 31)\n",
    "C = 0.01\n",
    "new_C_grid = []\n",
    "while C <= 0.31622777*2:\n",
    "    new_C_grid.append(C)\n",
    "    C += 0.01"
   ]
  },
  {
   "cell_type": "code",
   "execution_count": 422,
   "metadata": {},
   "outputs": [
    {
     "name": "stdout",
     "output_type": "stream",
     "text": [
      "0.5700000000000003\n"
     ]
    }
   ],
   "source": [
    "best_fold_id = 3\n",
    "\n",
    "fold1_x_tr = new_xTrains[best_fold_id]\n",
    "flod1_y_tr = new_yTrains[best_fold_id]\n",
    "fold1_x_te = new_x_folds[best_fold_id]\n",
    "flod1_y_te = new_y_folds[best_fold_id]\n",
    "C_loss = []\n",
    "for C in new_C_grid:\n",
    "    LRM = LogisticRegression(solver='liblinear',C=C).fit(fold1_x_tr, flod1_y_tr)\n",
    "    pred_te = LRM.predict_proba(fold1_x_te)\n",
    "    C_loss.append(sklearn.metrics.log_loss(flod1_y_te,pred_te))\n",
    "\n",
    "best_C = new_C_grid[np.argmin(C_loss)]\n",
    "print (best_C)"
   ]
  },
  {
   "cell_type": "code",
   "execution_count": 423,
   "metadata": {},
   "outputs": [],
   "source": [
    "LRM = LogisticRegression(solver='liblinear',C=best_C).fit(fold1_x_tr, flod1_y_tr)\n",
    "y_pred = LRM.predict(new_x_te)\n",
    "np.savetxt('yproba1_test.txt', y_pred)\n",
    "#0.039000000000000035"
   ]
  },
  {
   "cell_type": "code",
   "execution_count": 435,
   "metadata": {},
   "outputs": [
    {
     "data": {
      "text/plain": [
       "207"
      ]
     },
     "execution_count": 435,
     "metadata": {},
     "output_type": "execute_result"
    }
   ],
   "source": [
    "\n",
    "s = abs(LRM.coef_[0])[::-1]\n",
    "np.argmax(s[:247])"
   ]
  },
  {
   "cell_type": "code",
   "execution_count": 447,
   "metadata": {},
   "outputs": [
    {
     "data": {
      "text/plain": [
       "(12000, 785)"
      ]
     },
     "execution_count": 447,
     "metadata": {},
     "output_type": "execute_result"
    }
   ],
   "source": [
    "new_x_tr.shape"
   ]
  },
  {
   "cell_type": "code",
   "execution_count": 448,
   "metadata": {},
   "outputs": [
    {
     "data": {
      "text/plain": [
       "SVC(C=1.0, break_ties=False, cache_size=200, class_weight=None, coef0=0.0,\n",
       "    decision_function_shape='ovr', degree=3, gamma='scale', kernel='rbf',\n",
       "    max_iter=-1, probability=False, random_state=0, shrinking=True, tol=0.001,\n",
       "    verbose=False)"
      ]
     },
     "execution_count": 448,
     "metadata": {},
     "output_type": "execute_result"
    }
   ],
   "source": [
    "from sklearn import svm\n",
    "clf = svm.SVC(random_state=0)\n",
    "clf.fit(new_x_tr, y_tr)"
   ]
  },
  {
   "cell_type": "code",
   "execution_count": 449,
   "metadata": {},
   "outputs": [],
   "source": [
    "y_pred = clf.predict(new_x_te)\n",
    "np.savetxt('yproba1_test.txt', y_pred)\n",
    "# 0.10250000000000004"
   ]
  },
  {
   "cell_type": "code",
   "execution_count": null,
   "metadata": {},
   "outputs": [],
   "source": [
    "C_grid = np.logspace(-9, 6, 31)\n",
    "best_fold_id = 3\n",
    "\n",
    "fold1_x_tr = new_xTrains[best_fold_id]\n",
    "flod1_y_tr = new_yTrains[best_fold_id]\n",
    "fold1_x_te = new_x_folds[best_fold_id]\n",
    "flod1_y_te = new_y_folds[best_fold_id]\n",
    "C_loss = []\n",
    "for C in C_grid:\n",
    "    clf = svm.SVC(random_state=0,C=C,probability=True).fit(new_x_tr, y_tr)\n",
    "#     LRM = LogisticRegression(solver='liblinear',C=C).fit(fold1_x_tr, flod1_y_tr)\n",
    "    pred_te = clf.predict_proba(fold1_x_te)\n",
    "    C_loss.append(sklearn.metrics.log_loss(flod1_y_te,pred_te))\n",
    "\n",
    "best_C = new_C_grid[np.argmin(C_loss)]\n",
    "print (best_C)"
   ]
  },
  {
   "cell_type": "code",
   "execution_count": null,
   "metadata": {},
   "outputs": [],
   "source": []
  }
 ],
 "metadata": {
  "kernelspec": {
   "display_name": "Python 3",
   "language": "python",
   "name": "python3"
  },
  "language_info": {
   "codemirror_mode": {
    "name": "ipython",
    "version": 3
   },
   "file_extension": ".py",
   "mimetype": "text/x-python",
   "name": "python",
   "nbconvert_exporter": "python",
   "pygments_lexer": "ipython3",
   "version": "3.7.6"
  }
 },
 "nbformat": 4,
 "nbformat_minor": 2
}
