{
 "cells": [
  {
   "cell_type": "markdown",
   "metadata": {},
   "source": [
    "## Yunke Zhu and 1330327"
   ]
  },
  {
   "cell_type": "markdown",
   "metadata": {},
   "source": [
    "## Project 1\n",
    "\n",
    "\n",
    "### Import required libraries."
   ]
  },
  {
   "cell_type": "code",
   "execution_count": 321,
   "metadata": {},
   "outputs": [],
   "source": [
    "import numpy as np\n",
    "import pandas as pd\n",
    "import csv\n",
    "from sklearn.linear_model import LogisticRegression\n",
    "import warnings\n",
    "import nltk\n",
    "from nltk.corpus import stopwords # import the stop word list\n",
    "import os,re\n",
    "from matplotlib import pyplot as plt\n",
    "import seaborn as sns\n",
    "%matplotlib inline\n",
    "plt.style.use('seaborn') # pretty matplotlib plots\n",
    "\n",
    "import graphviz"
   ]
  },
  {
   "cell_type": "code",
   "execution_count": 487,
   "metadata": {},
   "outputs": [],
   "source": [
    "import numpy as np\n",
    "import pandas as pd\n",
    "\n",
    "x_train_df = pd.read_csv('data/data_reviews/x_train.csv')\n",
    "y_train_df = pd.read_csv('data/data_reviews/y_train.csv')\n",
    "\n",
    "\n",
    "tr_text_list = x_train_df['text'].values.tolist()\n",
    "te_text_list = x_test_df['text'].values.tolist()\n",
    "tr_label_list = x_train_df['website_name'].values.tolist()\n",
    "te_label_list = x_test_df['website_name'].values.tolist()\n",
    "y_tr_list = y_train_df['is_positive_sentiment'].values.tolist()\n",
    "y_tr = np.loadtxt('./data/data_reviews/y_train.csv', delimiter=',', skiprows=1)\n",
    "\n",
    "# for text in tr_text_list:\n",
    "#     print(text)"
   ]
  },
  {
   "cell_type": "code",
   "execution_count": 488,
   "metadata": {},
   "outputs": [],
   "source": [
    "tr_te_test_list = tr_text_list + te_text_list"
   ]
  },
  {
   "cell_type": "code",
   "execution_count": 112,
   "metadata": {},
   "outputs": [],
   "source": [
    "eng_stopwords = stopwords.words('english')"
   ]
  },
  {
   "cell_type": "code",
   "execution_count": 113,
   "metadata": {},
   "outputs": [],
   "source": [
    "def clean_text(text, remove_stopwords=True):\n",
    "    text = re.sub(r'[^a-zA-Z]', ' ', text)\n",
    "    words = text.lower().split()\n",
    "    if remove_stopwords:\n",
    "        words = [w for w in words if w not in eng_stopwords]\n",
    "    return words"
   ]
  },
  {
   "cell_type": "code",
   "execution_count": 114,
   "metadata": {},
   "outputs": [],
   "source": [
    "def clean_text(text, remove_stopwords=True):\n",
    "    text = re.sub(r'[^a-zA-Z]', ' ', text)\n",
    "    words = text.lower().split()\n",
    "    if remove_stopwords:\n",
    "        words = [w for w in words if w not in eng_stopwords]\n",
    "    return words\n",
    "def review_to_words(raw_review):\n",
    "    # Function to convert a raw review to a string of words\n",
    "    # The input is a single string (a raw movie review), and \n",
    "    # the output is a single string (a preprocessed movie review)\n",
    "    #\n",
    "    # 1. Remove HTML\n",
    "    #\n",
    "    # 2. Remove non-letters        \n",
    "    letters_only = re.sub(\"[^a-zA-Z]\", \" \", raw_review) \n",
    "    #\n",
    "    # 3. Convert to lower case, split into individual words\n",
    "    words = letters_only.lower().split()                             \n",
    "    #\n",
    "    # 4. In Python, searching a set is much faster than searching\n",
    "    #   a list, so convert the stop words to a set\n",
    "    stops = set(stopwords.words(\"english\"))                  \n",
    "    # \n",
    "    # 5. Remove stop words\n",
    "    meaningful_words = [w for w in words if not w in stops]   \n",
    "    #\n",
    "    # 6. Join the words back into one string separated by space, \n",
    "    # and return the result.\n",
    "    return( \" \".join( meaningful_words )) "
   ]
  },
  {
   "cell_type": "code",
   "execution_count": 115,
   "metadata": {},
   "outputs": [
    {
     "name": "stdout",
     "output_type": "stream",
     "text": [
      "Creating the bag of words...\n",
      "\n"
     ]
    }
   ],
   "source": [
    "\n",
    "clean_review = review_to_words(tr_te_test_list[0])\n",
    "tr_te_test_list = np.array(tr_te_test_list)\n",
    "\n",
    "# number of reviews\n",
    "num_reviews = tr_te_test_list.size\n",
    "\n",
    "# initialize an empty list to hold the clean reviews\n",
    "clean_all_reviews = []\n",
    "\n",
    "# loop over each review\n",
    "for i in range(0, num_reviews):\n",
    "    #call function for each one, and add the result to the new list\n",
    "    clean_all_reviews.append(review_to_words(tr_te_test_list[i]))\n",
    "    \n",
    "print(\"Creating the bag of words...\\n\")\n",
    "from sklearn.feature_extraction.text import CountVectorizer\n",
    "\n",
    "# Initialize the \"CountVectorizer\" object, which is scikit-learn's\n",
    "# bag of words tool.  \n",
    "vectorizer = CountVectorizer(analyzer = \"word\",   \n",
    "                             tokenizer = None,    \n",
    "                             preprocessor = None, \n",
    "                             stop_words = None,   \n",
    "                             max_features = 5000) \n",
    "\n",
    "# fit_transform() does two functions: \n",
    "# First, it fits the model and learns the vocabulary; \n",
    "# second, it transforms our training data into feature vectors. \n",
    "# The input to fit_transform should be a list of strings.\n",
    "all_data_features = vectorizer.fit_transform(clean_all_reviews)\n",
    "\n",
    "# Numpy arrays are easy to work with, \n",
    "# so convert the result to an array\n",
    "all_data_features = all_data_features.toarray()"
   ]
  },
  {
   "cell_type": "code",
   "execution_count": 118,
   "metadata": {},
   "outputs": [],
   "source": [
    "x_tr = all_data_features[:2400]\n",
    "x_te = all_data_features[2400:]"
   ]
  },
  {
   "cell_type": "code",
   "execution_count": 141,
   "metadata": {},
   "outputs": [],
   "source": [
    "clf = LogisticRegression(solver='liblinear').fit(x_tr, y_tr)\n",
    "\n",
    "y_te = clf.predict(x_te)\n",
    "np.savetxt('yproba1_test.txt', y_te)"
   ]
  },
  {
   "cell_type": "code",
   "execution_count": 123,
   "metadata": {},
   "outputs": [],
   "source": [
    "from MLPClassifierWithSolverLBFGS import MLPClassifierLBFGS\n"
   ]
  },
  {
   "cell_type": "code",
   "execution_count": 128,
   "metadata": {},
   "outputs": [],
   "source": [
    "mlp_lbfgs = MLPClassifierLBFGS(\n",
    "        hidden_layer_sizes=[2],\n",
    "        activation='logistic',\n",
    "        alpha=0.0001,\n",
    "        max_iter=200, tol=1e-6,\n",
    "        random_state=i\n",
    "        )\n",
    "mlp_lbfgs.fit(x_tr, y_tr)\n",
    "y_te = clf.predict(x_te)\n",
    "np.savetxt('yproba1_test.txt', y_te)"
   ]
  },
  {
   "cell_type": "code",
   "execution_count": 133,
   "metadata": {},
   "outputs": [
    {
     "name": "stderr",
     "output_type": "stream",
     "text": [
      "/usr/local/lib/python3.7/site-packages/sklearn/neural_network/_multilayer_perceptron.py:571: ConvergenceWarning: Stochastic Optimizer: Maximum iterations (400) reached and the optimization hasn't converged yet.\n",
      "  % self.max_iter, ConvergenceWarning)\n"
     ]
    }
   ],
   "source": [
    "from sklearn.neural_network import MLPClassifier\n",
    "\n",
    "mlp_sgd = MLPClassifier(\n",
    "        hidden_layer_sizes=[2],\n",
    "        activation='relu',\n",
    "        alpha=0.0001,\n",
    "        max_iter=400, tol=1e-8,\n",
    "        random_state=i,\n",
    "        solver='sgd', batch_size=10,\n",
    "        learning_rate='adaptive', learning_rate_init=0.1, momentum=0.0,\n",
    "        )\n",
    "\n",
    "mlp_sgd.fit(x_tr, y_tr)\n",
    "y_te = clf.predict(x_te)\n",
    "np.savetxt('yproba1_test.txt', y_te)"
   ]
  },
  {
   "cell_type": "code",
   "execution_count": 135,
   "metadata": {},
   "outputs": [
    {
     "data": {
      "text/plain": [
       "SVC(C=1.0, break_ties=False, cache_size=200, class_weight=None, coef0=0.0,\n",
       "    decision_function_shape='ovr', degree=3, gamma='scale', kernel='rbf',\n",
       "    max_iter=-1, probability=False, random_state=0, shrinking=True, tol=0.001,\n",
       "    verbose=False)"
      ]
     },
     "execution_count": 135,
     "metadata": {},
     "output_type": "execute_result"
    }
   ],
   "source": [
    "from sklearn import svm\n",
    "clf = svm.SVC(random_state=0)\n",
    "clf.fit(x_tr, y_tr)\n",
    "y_pred = clf.predict(x_te)\n",
    "np.savetxt('yproba1_test.txt', y_pred)\n",
    "# 0.242"
   ]
  },
  {
   "cell_type": "code",
   "execution_count": 136,
   "metadata": {},
   "outputs": [],
   "source": []
  },
  {
   "cell_type": "code",
   "execution_count": 138,
   "metadata": {},
   "outputs": [
    {
     "data": {
      "text/plain": [
       "KNeighborsRegressor(algorithm='brute', leaf_size=30, metric='euclidean',\n",
       "                    metric_params=None, n_jobs=None, n_neighbors=5, p=2,\n",
       "                    weights='uniform')"
      ]
     },
     "execution_count": 138,
     "metadata": {},
     "output_type": "execute_result"
    }
   ],
   "source": [
    "k5nn_regr = sklearn.neighbors.KNeighborsRegressor(\n",
    "    n_neighbors=5, algorithm='brute', metric='euclidean')\n",
    "k5nn_regr.fit(x_tr, y_tr)\n",
    "y_pred = k5nn_regr.predict(x_te)\n",
    "np.savetxt('yproba1_test.txt', y_pred)\n",
    "#0.328"
   ]
  },
  {
   "cell_type": "code",
   "execution_count": 140,
   "metadata": {},
   "outputs": [],
   "source": [
    "from sklearn import tree\n",
    "clf = tree.DecisionTreeRegressor()\n",
    "clf = clf.fit(x_tr, y_tr)\n",
    "y_pred = clf.predict(x_te)\n",
    "np.savetxt('yproba1_test.txt', y_pred)\n",
    "# 0.28833"
   ]
  },
  {
   "cell_type": "code",
   "execution_count": 143,
   "metadata": {},
   "outputs": [],
   "source": [
    "from sklearn.feature_extraction.text import TfidfVectorizer"
   ]
  },
  {
   "cell_type": "code",
   "execution_count": 206,
   "metadata": {},
   "outputs": [],
   "source": [
    "x_train_df = pd.read_csv('data/data_reviews/x_train.csv')\n",
    "\n",
    "\n",
    "tr_text_list = x_train_df['text'].values.tolist()\n",
    "te_text_list = x_test_df['text'].values.tolist()\n",
    "tr_label_list = x_train_df['website_name'].values.tolist()\n",
    "te_label_list = x_test_df['website_name'].values.tolist()\n",
    "\n",
    "\n",
    "tr_te_test_list = tr_text_list + te_text_list\n",
    "tr_te_test_list = np.array(tr_te_test_list)\n",
    " "
   ]
  },
  {
   "cell_type": "code",
   "execution_count": 207,
   "metadata": {},
   "outputs": [
    {
     "name": "stdout",
     "output_type": "stream",
     "text": [
      "(3000, 5155)\n"
     ]
    }
   ],
   "source": [
    "vectorizer = TfidfVectorizer()\n",
    "all_test_list = vectorizer.fit_transform(tr_te_test_list)\n",
    "# print(vectorizer.get_feature_names())\n",
    "# ['and', 'document', 'first', 'is', 'one', 'second', 'the', 'third', 'this']\n",
    "print(all_test_list.shape)"
   ]
  },
  {
   "cell_type": "code",
   "execution_count": 208,
   "metadata": {},
   "outputs": [],
   "source": [
    "x_new_tr = all_test_list[:2400]\n",
    "x_new_te = all_test_list[2400:]"
   ]
  },
  {
   "cell_type": "code",
   "execution_count": 189,
   "metadata": {},
   "outputs": [],
   "source": [
    "clf = LogisticRegression(solver='liblinear').fit(x_new_tr, y_tr)\n",
    "\n",
    "y_te = clf.predict(x_new_te)\n",
    "np.savetxt('yproba1_test.txt', y_te)\n",
    "# 0.17667"
   ]
  },
  {
   "cell_type": "code",
   "execution_count": 212,
   "metadata": {},
   "outputs": [],
   "source": [
    "mlp_lbfgs = MLPClassifierLBFGS(\n",
    "        hidden_layer_sizes=[5],\n",
    "        activation='logistic',\n",
    "        alpha=0.0001,\n",
    "        max_iter=400, tol=1e-6,\n",
    "        random_state=0\n",
    "        )\n",
    "mlp_lbfgs.fit(x_new_tr, y_tr)\n",
    "y_te = clf.predict(x_new_te)\n",
    "np.savetxt('yproba1_test.txt', y_te)"
   ]
  },
  {
   "cell_type": "markdown",
   "metadata": {},
   "source": [
    "## New data"
   ]
  },
  {
   "cell_type": "code",
   "execution_count": 357,
   "metadata": {},
   "outputs": [],
   "source": [
    "raw_data = pd.read_csv('data/data_reviews/IMDB.csv')\n",
    "raw_data = raw_data[:2000]"
   ]
  },
  {
   "cell_type": "code",
   "execution_count": 358,
   "metadata": {},
   "outputs": [],
   "source": [
    "len(raw_data)\n",
    "new_data = []"
   ]
  },
  {
   "cell_type": "code",
   "execution_count": 359,
   "metadata": {},
   "outputs": [],
   "source": [
    "big_new_x = raw_data['review'].values.tolist()\n",
    "big_new_y = raw_data['sentiment'].values.tolist()"
   ]
  },
  {
   "cell_type": "code",
   "execution_count": 360,
   "metadata": {},
   "outputs": [],
   "source": [
    "for i,_ in enumerate(big_new_y):\n",
    "    if _ == 'positive':\n",
    "        big_new_y[i] = 1\n",
    "    else:\n",
    "        big_new_y[i] = 0"
   ]
  },
  {
   "cell_type": "code",
   "execution_count": 298,
   "metadata": {},
   "outputs": [
    {
     "name": "stdout",
     "output_type": "stream",
     "text": [
      "Creating the bag of words...\n",
      "\n"
     ]
    }
   ],
   "source": [
    "\n",
    "tr_te_test_list = big_new_x +tr_text_list + te_text_list\n",
    "big_new_y = big_new_y + y_tr_list\n",
    "tr_te_test_list = np.array(tr_te_test_list)\n",
    "\n",
    "# number of reviews\n",
    "num_reviews = tr_te_test_list.size\n",
    "\n",
    "# initialize an empty list to hold the clean reviews\n",
    "clean_all_reviews = []\n",
    "\n",
    "# loop over each review\n",
    "for i in range(0, num_reviews):\n",
    "    #call function for each one, and add the result to the new list\n",
    "    clean_all_reviews.append(review_to_words(tr_te_test_list[i]))\n",
    "    \n",
    "print(\"Creating the bag of words...\\n\")\n",
    "from sklearn.feature_extraction.text import CountVectorizer\n",
    "\n",
    "# Initialize the \"CountVectorizer\" object, which is scikit-learn's\n",
    "# bag of words tool.  \n",
    "vectorizer = CountVectorizer(analyzer = \"word\",   \n",
    "                             tokenizer = None,    \n",
    "                             preprocessor = None, \n",
    "                             stop_words = None,   \n",
    "                             max_features = 5000) \n",
    "\n",
    "# fit_transform() does two functions: \n",
    "# First, it fits the model and learns the vocabulary; \n",
    "# second, it transforms our training data into feature vectors. \n",
    "# The input to fit_transform should be a list of strings.\n",
    "all_data_features = vectorizer.fit_transform(clean_all_reviews)\n",
    "\n",
    "# Numpy arrays are easy to work with, \n",
    "# so convert the result to an array\n",
    "all_data_features = all_data_features.toarray()"
   ]
  },
  {
   "cell_type": "code",
   "execution_count": 289,
   "metadata": {},
   "outputs": [],
   "source": [
    "all_data_features.shape\n",
    "big_x_tr = all_data_features[:5400]\n",
    "big_x_te = all_data_features[5400:]"
   ]
  },
  {
   "cell_type": "code",
   "execution_count": 290,
   "metadata": {},
   "outputs": [],
   "source": [
    "clf = LogisticRegression(solver='liblinear').fit(big_x_tr, big_new_y)\n",
    "\n",
    "y_te = clf.predict(big_x_te)\n",
    "np.savetxt('yproba1_test.txt', y_te)"
   ]
  },
  {
   "cell_type": "markdown",
   "metadata": {},
   "source": [
    "## TFIDF"
   ]
  },
  {
   "cell_type": "code",
   "execution_count": 425,
   "metadata": {},
   "outputs": [],
   "source": [
    "\n",
    "tr_te_test_list = big_new_x +tr_text_list + te_text_list\n",
    "big_new_y = big_new_y + y_tr_list\n",
    "tr_te_test_list = np.array(tr_te_test_list)\n",
    "\n",
    "# number of reviews\n",
    "num_reviews = tr_te_test_list.size\n",
    "\n",
    "for i in range(0, num_reviews):\n",
    "    #call function for each one, and add the result to the new list\n",
    "    clean_all_reviews.append(review_to_words(tr_te_test_list[i]))\n",
    "    \n",
    "vectorizer = TfidfVectorizer()\n",
    "\n",
    "\n",
    "all_test_list = vectorizer.fit_transform(tr_te_test_list)"
   ]
  },
  {
   "cell_type": "code",
   "execution_count": 321,
   "metadata": {},
   "outputs": [
    {
     "data": {
      "text/plain": [
       "(5000, 26134)"
      ]
     },
     "execution_count": 321,
     "metadata": {},
     "output_type": "execute_result"
    }
   ],
   "source": [
    "all_test_list.shape"
   ]
  },
  {
   "cell_type": "code",
   "execution_count": 325,
   "metadata": {},
   "outputs": [
    {
     "data": {
      "text/plain": [
       "array([[0., 0., 0., ..., 0., 0., 0.],\n",
       "       [0., 0., 0., ..., 0., 0., 0.],\n",
       "       [0., 0., 0., ..., 0., 0., 0.],\n",
       "       ...,\n",
       "       [0., 0., 0., ..., 0., 0., 0.],\n",
       "       [0., 0., 0., ..., 0., 0., 0.],\n",
       "       [0., 0., 0., ..., 0., 0., 0.]])"
      ]
     },
     "execution_count": 325,
     "metadata": {},
     "output_type": "execute_result"
    }
   ],
   "source": [
    "all_test_list.toarray()"
   ]
  },
  {
   "cell_type": "code",
   "execution_count": 322,
   "metadata": {},
   "outputs": [],
   "source": [
    "big_x_tr = all_test_list[:4400]\n",
    "big_x_te = all_test_list[4400:]"
   ]
  },
  {
   "cell_type": "code",
   "execution_count": 480,
   "metadata": {},
   "outputs": [],
   "source": [
    "clf = LogisticRegression(solver='liblinear').fit(big_x_tr, big_new_y)\n",
    "\n",
    "y_te_logis = clf.predict(big_x_te)\n",
    "np.savetxt('yproba1_test.txt', y_te)\n",
    "# 0.16833"
   ]
  },
  {
   "cell_type": "code",
   "execution_count": 479,
   "metadata": {},
   "outputs": [],
   "source": [
    "mlp_lbfgs = MLPClassifierLBFGS(\n",
    "        hidden_layer_sizes=[2],\n",
    "        activation='logistic',\n",
    "        alpha=0.0001,\n",
    "        max_iter=200, tol=1e-6,\n",
    "        random_state=i\n",
    "        )\n",
    "\n",
    "mlp_lbfgs.fit(big_x_tr, big_new_y)\n",
    "y_te_mlp = clf.predict(big_x_te)\n",
    "np.savetxt('yproba1_test.txt', y_te)\n",
    "\n",
    "# 0.16833"
   ]
  },
  {
   "cell_type": "code",
   "execution_count": 485,
   "metadata": {},
   "outputs": [],
   "source": [
    "from sklearn.ensemble import RandomForestClassifier\n",
    "\n",
    "# Initialize a Random Forest classifier with 100 trees\n",
    "forest = RandomForestClassifier(n_estimators = 100) \n",
    "\n",
    "# Fit the forest to the training set, using the bag of words as \n",
    "# features and the sentiment labels as the response variable\n",
    "#\n",
    "# This may take a few minutes to run\n",
    "forest = forest.fit( big_x_tr, big_new_y )\n",
    "y_te_forest = forest.predict(big_x_te)\n",
    "np.savetxt('yproba1_test.txt', y_te)"
   ]
  },
  {
   "cell_type": "code",
   "execution_count": 484,
   "metadata": {},
   "outputs": [],
   "source": [
    "k10nn_regr = sklearn.neighbors.KNeighborsRegressor(\n",
    "    n_neighbors=10, algorithm='brute', metric='euclidean')\n",
    "k10nn_regr.fit(big_x_tr, big_new_y)\n",
    "y_pred_knn = k5nn_regr.predict(big_x_te)\n",
    "np.savetxt('yproba1_test.txt', y_pred)\n",
    "# 0.25"
   ]
  },
  {
   "cell_type": "code",
   "execution_count": 426,
   "metadata": {},
   "outputs": [],
   "source": [
    "clf = svm.SVC(random_state=0)\n",
    "clf.fit(big_x_tr, big_new_y)\n",
    "y_pred = clf.predict(big_x_te)\n",
    "np.savetxt('yproba1_test.txt', y_pred)\n",
    "# 0.165"
   ]
  },
  {
   "cell_type": "code",
   "execution_count": null,
   "metadata": {},
   "outputs": [],
   "source": []
  },
  {
   "cell_type": "markdown",
   "metadata": {},
   "source": [
    "## k-fold on mlp"
   ]
  },
  {
   "cell_type": "code",
   "execution_count": 395,
   "metadata": {},
   "outputs": [],
   "source": [
    "def make_folds(num_folds=1,x=None, y=None):\n",
    "    '''Splits data into num_folds separate folds for cross-validation.\n",
    "       Each fold should consist of M consecutive items from the\n",
    "       original data; each fold should be the same size (we will assume \n",
    "       that  the data divides evenly by num_folds).  Every data item should \n",
    "       appear in exactly one fold.\n",
    "       \n",
    "       Args\n",
    "       ----\n",
    "       num_folds : some positive integer value\n",
    "           Number of folds to divide data into.\n",
    "           \n",
    "        Returns\n",
    "        -------\n",
    "        x_folds : list of sub-sequences of original x-data \n",
    "            There will be num_folds such sequences; each will \n",
    "            consist of 1/num_folds of the original data, in\n",
    "            the original order.\n",
    "        y_folds : list of sub-sequences of original y data\n",
    "            There will be num_folds such sequences; each will \n",
    "            consist of 1/num_folds of the original data, in\n",
    "            the original order.\n",
    "       '''\n",
    "    i = 0\n",
    "    step = int(len(x) / num_folds)\n",
    "    x_folds = list()\n",
    "    y_folds = list()\n",
    "    for k in range(num_folds):\n",
    "        x_folds.append(x[i:i+step])\n",
    "        y_folds.append(y[i:i+step])\n",
    "        i += step\n",
    "    \n",
    "    # TODO: Complete method to generate partition into folds.\n",
    "    \n",
    "    return x_folds, y_folds"
   ]
  },
  {
   "cell_type": "code",
   "execution_count": 396,
   "metadata": {},
   "outputs": [],
   "source": [
    "def generateFolds(k=1, x=None, y=None):\n",
    "    xTrains=[]\n",
    "    yTrains=[]\n",
    "    step = int(len(x) / k)\n",
    "    j = 0\n",
    "    for i in range(k):\n",
    "        rows = [_ for _ in range(j,j+step)]\n",
    "        xTrains.append(np.delete(x,rows,0))\n",
    "        yTrains.append(np.delete(y,rows,0))\n",
    "        j += step\n",
    "    return xTrains,yTrains"
   ]
  },
  {
   "cell_type": "code",
   "execution_count": 390,
   "metadata": {},
   "outputs": [],
   "source": [
    "x_all_folds = big_new_x +tr_text_list \n",
    "y_all_folds = big_new_y + y_tr_list\n"
   ]
  },
  {
   "cell_type": "code",
   "execution_count": 537,
   "metadata": {},
   "outputs": [],
   "source": [
    "def review_to_words(raw_review):\n",
    "    # Function to convert a raw review to a string of words\n",
    "    # The input is a single string (a raw movie review), and \n",
    "    # the output is a single string (a preprocessed movie review)\n",
    "    #\n",
    "    # 1. Remove HTML\n",
    "    #\n",
    "    # 2. Remove non-letters        \n",
    "    letters_only = re.sub(\"[^a-zA-Z]\", \" \", raw_review) \n",
    "    #\n",
    "    # 3. Convert to lower case, split into individual words\n",
    "    words = letters_only.lower().split()                             \n",
    "    #\n",
    "    # 4. In Python, searching a set is much faster than searching\n",
    "    #   a list, so convert the stop words to a set\n",
    "    stops = set(stopwords.words(\"english\"))                  \n",
    "    # \n",
    "    # 5. Remove stop words\n",
    "    meaningful_words = [w for w in words if not w in stops]   \n",
    "    #\n",
    "    # 6. Join the words back into one string separated by space, \n",
    "    # and return the result.\n",
    "    return( \" \".join( meaningful_words )) "
   ]
  },
  {
   "cell_type": "code",
   "execution_count": 490,
   "metadata": {},
   "outputs": [
    {
     "name": "stdout",
     "output_type": "stream",
     "text": [
      "Creating the bag of words...\n",
      "\n"
     ]
    }
   ],
   "source": [
    "\n",
    "tr_te_test_list = np.array(tr_te_test_list)\n",
    "\n",
    "# number of reviews\n",
    "num_reviews = tr_te_test_list.size\n",
    "\n",
    "# initialize an empty list to hold the clean reviews\n",
    "clean_all_reviews = []\n",
    "\n",
    "# loop over each review\n",
    "for i in range(0, num_reviews):\n",
    "    #call function for each one, and add the result to the new list\n",
    "    clean_all_reviews.append(review_to_words(tr_te_test_list[i]))\n",
    "    \n",
    "print(\"Creating the bag of words...\\n\")\n",
    "\n",
    "# Initialize the \"CountVectorizer\" object, which is scikit-learn's\n",
    "# bag of words tool.  \n",
    "vectorizer = CountVectorizer(analyzer = \"word\",   \n",
    "                             tokenizer = None,    \n",
    "                             preprocessor = None, \n",
    "                             stop_words = None,   \n",
    "                             max_features = 5000) \n",
    "\n",
    "# fit_transform() does two functions: \n",
    "# First, it fits the model and learns the vocabulary; \n",
    "# second, it transforms our training data into feature vectors. \n",
    "# The input to fit_transform should be a list of strings.\n",
    "all_data_features = vectorizer.fit_transform(clean_all_reviews)\n",
    "\n",
    "# Numpy arrays are easy to work with, \n",
    "# so convert the result to an array\n",
    "all_data_features = all_data_features.toarray()"
   ]
  },
  {
   "cell_type": "code",
   "execution_count": 491,
   "metadata": {},
   "outputs": [
    {
     "data": {
      "text/plain": [
       "(3000, 5000)"
      ]
     },
     "execution_count": 491,
     "metadata": {},
     "output_type": "execute_result"
    }
   ],
   "source": [
    "all_data_features.shape"
   ]
  },
  {
   "cell_type": "markdown",
   "metadata": {},
   "source": [
    "# Preprocessing"
   ]
  },
  {
   "cell_type": "code",
   "execution_count": 704,
   "metadata": {},
   "outputs": [],
   "source": [
    "def TestingTrainingErrorModel(k,xTrains=None,yTrains=None,x_folds=None,y_folds=None):\n",
    "    \n",
    "    C_loss = []\n",
    "    C_accuracy = []\n",
    "    for i in range(k):\n",
    "#         print (\"fold: %d\"%i)\n",
    "        \n",
    "        \n",
    "        x_tr_tmp = tuple(xTrains[i])\n",
    "        yTrain = yTrains[i]\n",
    "        x_te_tmp = tuple(x_folds[i])\n",
    "        yTest = y_folds[i]\n",
    "\n",
    "        all_tmp = np.asarray(x_tr_tmp + x_te_tmp)\n",
    "        vectorizer = CountVectorizer(analyzer = \"word\",   \n",
    "                             tokenizer = None,    \n",
    "                             preprocessor = None, \n",
    "                             stop_words = None,   \n",
    "                             max_features = 5000) \n",
    "        all_generater = vectorizer.fit_transform(all_tmp)\n",
    "        \n",
    "        \n",
    "        \n",
    "        tr_len = len(x_tr_tmp)\n",
    "        te_len = len(x_te_tmp)\n",
    "        xTrain = all_generater[:tr_len]\n",
    "        xTest = all_generater[tr_len:tr_len+te_len]\n",
    "\n",
    "\n",
    "#         mlp_lbfgs = MLPClassifierLBFGS(\n",
    "#         hidden_layer_sizes=[2],\n",
    "#         activation='logistic',\n",
    "#         alpha=0.0001,\n",
    "#         max_iter=400, tol=1e-6,\n",
    "#         random_state=0\n",
    "#         )\n",
    "        \n",
    "#         mlp_lbfgs.fit(xTrain, yTrain)\n",
    "#         pred_te = mlp_lbfgs.predict(xTest)\n",
    "        \n",
    "        LRM = LogisticRegression(solver='liblinear',C=1).fit(xTrain, yTrain)\n",
    "        pred_te = LRM.predict_proba(xTest)\n",
    "#         C_accuracy.append(clf.score(xTest,yTest))\n",
    "        C_loss.append(sklearn.metrics.log_loss(yTest,pred_te))\n",
    "        \n",
    "#         counter = 0.0\n",
    "#         for k in range(te_len):\n",
    "#             if yTest[k] != pred_te[k]:\n",
    "#                 counter += 1\n",
    "#         C_accuracy.append(1-counter/te_len)\n",
    "        \n",
    "        \n",
    "        \n",
    "    return np.array(C_loss), np.array(C_accuracy)"
   ]
  },
  {
   "cell_type": "code",
   "execution_count": 706,
   "metadata": {},
   "outputs": [],
   "source": [
    "loss_1,accuracy_1 = TestingTrainingErrorModel(k, xTrains, yTrains, x_folds, y_folds)"
   ]
  },
  {
   "cell_type": "code",
   "execution_count": 625,
   "metadata": {},
   "outputs": [
    {
     "data": {
      "text/plain": [
       "0.7358333333333335"
      ]
     },
     "execution_count": 625,
     "metadata": {},
     "output_type": "execute_result"
    }
   ],
   "source": [
    "sum(accuracy_1)/10"
   ]
  },
  {
   "cell_type": "code",
   "execution_count": 626,
   "metadata": {},
   "outputs": [],
   "source": [
    "def TestingTrainingErrorModelEX(k,xTrains=None,yTrains=None,x_folds=None,y_folds=None):\n",
    "    \n",
    "    C_loss = []\n",
    "    C_accuracy = []\n",
    "    for i in range(k):\n",
    "        \n",
    "        \n",
    "        x_tr_tmp = tuple(xTrains[i])\n",
    "        yTrain = yTrains[i]\n",
    "        x_te_tmp = tuple(x_folds[i])\n",
    "        yTest = y_folds[i]\n",
    "        all_tmp = np.asarray(x_tr_tmp + x_te_tmp)\n",
    "        \n",
    "        tr_te_test_list = np.array(all_tmp)\n",
    "\n",
    "\n",
    "        num_reviews = tr_te_test_list.size\n",
    "\n",
    "        clean_all_reviews = []\n",
    "\n",
    "\n",
    "        for i in range(0, num_reviews):\n",
    "    \n",
    "            clean_all_reviews.append(review_to_words(tr_te_test_list[i]))\n",
    "        \n",
    "        \n",
    "\n",
    "        vectorizer = CountVectorizer(analyzer = \"word\",   \n",
    "                             tokenizer = None,    \n",
    "                             preprocessor = None, \n",
    "                             stop_words = None,   \n",
    "                             max_features = 5000) \n",
    "        all_generater = vectorizer.fit_transform(clean_all_reviews)\n",
    "        \n",
    "        \n",
    "        \n",
    "        tr_len = len(x_tr_tmp)\n",
    "        te_len = len(x_te_tmp)\n",
    "        xTrain = all_generater[:tr_len]\n",
    "        xTest = all_generater[tr_len:tr_len+te_len]\n",
    "\n",
    "\n",
    "        mlp_lbfgs = MLPClassifierLBFGS(\n",
    "        hidden_layer_sizes=[2],\n",
    "        activation='logistic',\n",
    "        alpha=0.0001,\n",
    "        max_iter=400, tol=1e-6,\n",
    "        random_state=0\n",
    "        )\n",
    "        \n",
    "        mlp_lbfgs.fit(xTrain, yTrain)\n",
    "        pred_te = mlp_lbfgs.predict(xTest)\n",
    "        \n",
    "        counter = 0.0\n",
    "        for k in range(te_len):\n",
    "            if yTest[k] != pred_te[k]:\n",
    "                counter += 1\n",
    "        C_accuracy.append(1-counter/te_len)\n",
    "       \n",
    "        \n",
    "    return np.array(C_loss), np.array(C_accuracy)"
   ]
  },
  {
   "cell_type": "code",
   "execution_count": 627,
   "metadata": {},
   "outputs": [],
   "source": [
    "loss_2,accuracy_2 = TestingTrainingErrorModelEX(10, xTrains, yTrains, x_folds, y_folds)"
   ]
  },
  {
   "cell_type": "code",
   "execution_count": 628,
   "metadata": {},
   "outputs": [
    {
     "data": {
      "text/plain": [
       "0.7"
      ]
     },
     "execution_count": 628,
     "metadata": {},
     "output_type": "execute_result"
    }
   ],
   "source": [
    "sum(accuracy_2)/10"
   ]
  },
  {
   "cell_type": "code",
   "execution_count": 629,
   "metadata": {},
   "outputs": [],
   "source": [
    "def TestingTrainingErrorModelTF(k,xTrains=None,yTrains=None,x_folds=None,y_folds=None):\n",
    "    \n",
    "    C_loss = []\n",
    "    C_accuracy = []\n",
    "    for i in range(k):\n",
    "        \n",
    "        \n",
    "        x_tr_tmp = tuple(xTrains[i])\n",
    "        yTrain = yTrains[i]\n",
    "        x_te_tmp = tuple(x_folds[i])\n",
    "        yTest = y_folds[i]\n",
    "        all_tmp = np.asarray(x_tr_tmp + x_te_tmp)\n",
    "        \n",
    "        tr_te_test_list = np.array(all_tmp)\n",
    "\n",
    "\n",
    "        num_reviews = tr_te_test_list.size\n",
    "\n",
    "        clean_all_reviews = []\n",
    "\n",
    "\n",
    "        for i in range(0, num_reviews):\n",
    "    \n",
    "            clean_all_reviews.append(review_to_words(tr_te_test_list[i]))\n",
    "        \n",
    "        \n",
    "\n",
    "        vectorizer = TfidfVectorizer()\n",
    "        all_generater = vectorizer.fit_transform(clean_all_reviews)\n",
    "        \n",
    "        \n",
    "        \n",
    "        tr_len = len(x_tr_tmp)\n",
    "        te_len = len(x_te_tmp)\n",
    "        xTrain = all_generater[:tr_len]\n",
    "        xTest = all_generater[tr_len:tr_len+te_len]\n",
    "\n",
    "        for i in range()\n",
    "        mlp_lbfgs = MLPClassifierLBFGS(\n",
    "        hidden_layer_sizes=[2],\n",
    "        activation='logistic',\n",
    "        alpha=0.0001,\n",
    "        max_iter=400, tol=1e-6,\n",
    "        random_state=0\n",
    "        )\n",
    "        \n",
    "        mlp_lbfgs.fit(xTrain, yTrain)\n",
    "        pred_te = mlp_lbfgs.predict(xTest)\n",
    "        \n",
    "        counter = 0.0\n",
    "        for k in range(te_len):\n",
    "            if yTest[k] != pred_te[k]:\n",
    "                counter += 1\n",
    "        C_accuracy.append(1-counter/te_len)\n",
    "         \n",
    "    return np.array(C_loss), np.array(C_accuracy)"
   ]
  },
  {
   "cell_type": "markdown",
   "metadata": {},
   "source": [
    "## Logistic"
   ]
  },
  {
   "cell_type": "code",
   "execution_count": 830,
   "metadata": {},
   "outputs": [],
   "source": [
    "k = 5\n",
    "x_folds,y_folds = make_folds(k,tr_text_list,y_tr_list)\n",
    "xTrains,yTrains = generateFolds(5, tr_text_list, y_tr_list)"
   ]
  },
  {
   "cell_type": "code",
   "execution_count": 837,
   "metadata": {},
   "outputs": [
    {
     "name": "stdout",
     "output_type": "stream",
     "text": [
      "2400\n"
     ]
    }
   ],
   "source": [
    "i = 1\n",
    "x_tr_tmp = tuple(xTrains[i])\n",
    "yTrain = yTrains[i]\n",
    "x_te_tmp = tuple(x_folds[i])\n",
    "yTest = y_folds[i]\n",
    "all_tmp = np.asarray(x_tr_tmp + x_te_tmp)\n",
    "        \n",
    "tr_te_test_list = np.array(all_tmp)\n",
    "\n",
    "\n",
    "num_reviews = tr_te_test_list.size\n",
    "\n",
    "clean_all_reviews = []\n",
    "\n",
    "print (num_reviews)\n",
    "for i in range(0, num_reviews):\n",
    "    \n",
    "    clean_all_reviews.append(review_to_words(tr_te_test_list[i]))\n",
    "        \n",
    "        \n",
    "\n",
    "vectorizer = TfidfVectorizer()\n",
    "all_generater = vectorizer.fit_transform(clean_all_reviews)\n",
    "        \n",
    "tr_len = len(x_tr_tmp)\n",
    "te_len = len(x_te_tmp)\n",
    "xTrain = all_generater[:tr_len]\n",
    "xTest = all_generater[tr_len:tr_len+te_len]"
   ]
  },
  {
   "cell_type": "code",
   "execution_count": 838,
   "metadata": {},
   "outputs": [],
   "source": [
    "C_grid = np.logspace(-9, 6, 31)\n",
    "C_accuracy = []\n",
    "C_loss = []\n",
    "for C in C_grid:\n",
    "    LRM = LogisticRegression(solver='liblinear',C=C).fit(xTrain, yTrain)\n",
    "    pred_te = LRM.predict(xTest)\n",
    "#     C_accuracy.append(clf.score(xTest,yTest))\n",
    "    counter = 0.0\n",
    "    for k in range(te_len):\n",
    "        if yTest[k] != pred_te[k]:\n",
    "            counter += 1\n",
    "    C_accuracy.append(1-counter/te_len)\n",
    "    C_loss.append(sklearn.metrics.log_loss(yTest,pred_te))\n",
    "\n"
   ]
  },
  {
   "cell_type": "code",
   "execution_count": 839,
   "metadata": {},
   "outputs": [
    {
     "data": {
      "image/png": "[encoded data removed]",
      "text/plain": [
       "<Figure size 432x288 with 1 Axes>"
      ]
     },
     "metadata": {
      "needs_background": "light"
     },
     "output_type": "display_data"
    },
    {
     "data": {
      "image/png": "[encoded data removed]",
      "text/plain": [
       "<Figure size 432x288 with 1 Axes>"
      ]
     },
     "metadata": {
      "needs_background": "light"
     },
     "output_type": "display_data"
    },
    {
     "name": "stdout",
     "output_type": "stream",
     "text": [
      "Best C-value for LR with 784-feature data: 31.6227766\n",
      "Log-loss at best C-value: 11.9447\n",
      "The accuracy under the best C value: 0.6542\n"
     ]
    }
   ],
   "source": [
    "\n",
    "# TODO make plot\n",
    "plt.figure()\n",
    "plt.subplot(211)\n",
    "\n",
    "plt.xscale('log')\n",
    "plt.xlabel('log10(C)')\n",
    "plt.ylabel('logistic loss')\n",
    "plt.plot(C_grid,C_loss, color='red',label = \"Log Loss\")\n",
    "\n",
    "plt.legend()\n",
    "plt.show()\n",
    "\n",
    "plt.subplot(212)\n",
    "plt.xscale('log')\n",
    "plt.xlabel('log10(C)')\n",
    "plt.ylabel('accuracy')\n",
    "plt.plot(C_grid,C_accuracy, color='blue',label = \"Accuracy\")\n",
    "\n",
    "plt.legend()\n",
    "plt.show()\n",
    "print(\"Best C-value for LR with 784-feature data: %.7f\" % C_grid[np.argmax(C_accuracy)]) # TODO\n",
    "print(\"Log-loss at best C-value: %.4f\" % min(C_loss))\n",
    "print(\"The accuracy under the best C value: %.4f\" % C_accuracy[np.argmax(C_accuracy)])"
   ]
  },
  {
   "cell_type": "markdown",
   "metadata": {},
   "source": [
    "## MLP "
   ]
  },
  {
   "cell_type": "code",
   "execution_count": 844,
   "metadata": {},
   "outputs": [
    {
     "name": "stdout",
     "output_type": "stream",
     "text": [
      "2400\n"
     ]
    }
   ],
   "source": [
    "i = 1\n",
    "x_tr_tmp = tuple(xTrains[i])\n",
    "yTrain = yTrains[i]\n",
    "x_te_tmp = tuple(x_folds[i])\n",
    "yTest = y_folds[i]\n",
    "all_tmp = np.asarray(x_tr_tmp + x_te_tmp)\n",
    "        \n",
    "tr_te_test_list = np.array(all_tmp)\n",
    "\n",
    "\n",
    "num_reviews = tr_te_test_list.size\n",
    "\n",
    "clean_all_reviews = []\n",
    "\n",
    "print (num_reviews)\n",
    "for i in range(0, num_reviews):\n",
    "    \n",
    "    clean_all_reviews.append(review_to_words(tr_te_test_list[i]))\n",
    "        \n",
    "        \n",
    "\n",
    "vectorizer = TfidfVectorizer()\n",
    "all_generater = vectorizer.fit_transform(clean_all_reviews)\n",
    "        \n",
    "tr_len = len(x_tr_tmp)\n",
    "te_len = len(x_te_tmp)\n",
    "xTrain = all_generater[:tr_len]\n",
    "xTest = all_generater[tr_len:tr_len+te_len]"
   ]
  },
  {
   "cell_type": "code",
   "execution_count": 845,
   "metadata": {},
   "outputs": [],
   "source": [
    "C_grid = [_ for _ in range(1,301)]\n",
    "C_accuracy = []\n",
    "C_loss = []\n",
    "# for C in C_grid:\n",
    "#     LRM = LogisticRegression(solver='liblinear',C=C).fit(xTrain, yTrain)\n",
    "#     pred_te = LRM.predict(xTest)\n",
    "# #     C_accuracy.append(clf.score(xTest,yTest))\n",
    "#     counter = 0.0\n",
    "#     for k in range(te_len):\n",
    "#         if yTest[k] != pred_te[k]:\n",
    "#             counter += 1\n",
    "#     C_accuracy.append(1-counter/te_len)\n",
    "#     C_loss.append(sklearn.metrics.log_loss(yTest,pred_te))\n",
    "\n",
    "\n",
    "for i in range(1,301):\n",
    "    mlp_lbfgs = MLPClassifierLBFGS(\n",
    "        hidden_layer_sizes=[2],\n",
    "        activation='logistic',\n",
    "        alpha=0.0001,\n",
    "        max_iter=i, tol=1e-6,\n",
    "        random_state=i\n",
    "        )\n",
    "    mlp_lbfgs.fit(xTrain, yTrain)\n",
    "    pred_te = mlp_lbfgs.predict(xTest)\n",
    "    counter = 0.0\n",
    "    for k in range(te_len):\n",
    "        if yTest[k] != pred_te[k]:\n",
    "            counter += 1\n",
    "    C_accuracy.append(1-counter/te_len)\n",
    "    C_loss.append(sklearn.metrics.log_loss(yTest,pred_te))\n",
    "\n"
   ]
  },
  {
   "cell_type": "code",
   "execution_count": 846,
   "metadata": {},
   "outputs": [
    {
     "data": {
      "image/png": "[encoded data removed]",
      "text/plain": [
       "<Figure size 432x288 with 1 Axes>"
      ]
     },
     "metadata": {
      "needs_background": "light"
     },
     "output_type": "display_data"
    },
    {
     "data": {
      "image/png": "[encoded data removed]",
      "text/plain": [
       "<Figure size 432x288 with 1 Axes>"
      ]
     },
     "metadata": {
      "needs_background": "light"
     },
     "output_type": "display_data"
    },
    {
     "name": "stdout",
     "output_type": "stream",
     "text": [
      "Best C-value for LR with 784-feature data: 36.0000000\n",
      "Log-loss at best C-value: 9.6421\n",
      "The accuracy under the best C value: 0.7208\n"
     ]
    }
   ],
   "source": [
    "\n",
    "# TODO make plot\n",
    "plt.figure()\n",
    "plt.subplot(211)\n",
    "\n",
    "# plt.xscale('log')\n",
    "plt.xlabel('iterations')\n",
    "plt.ylabel('logistic loss')\n",
    "plt.plot(C_grid,C_loss, color='red',label = \"Log Loss\")\n",
    "\n",
    "plt.legend()\n",
    "plt.show()\n",
    "\n",
    "plt.subplot(212)\n",
    "# plt.xscale('log')\n",
    "plt.xlabel('iterations')\n",
    "plt.ylabel('accuracy')\n",
    "plt.plot(C_grid,C_accuracy, color='blue',label = \"Accuracy\")\n",
    "\n",
    "plt.legend()\n",
    "plt.show()\n",
    "print(\"Best C-value for LR with 784-feature data: %.7f\" % C_grid[np.argmax(C_accuracy)]) # TODO\n",
    "print(\"Log-loss at best C-value: %.4f\" % min(C_loss))\n",
    "print(\"The accuracy under the best C value: %.4f\" % C_accuracy[np.argmax(C_accuracy)])"
   ]
  },
  {
   "cell_type": "markdown",
   "metadata": {},
   "source": [
    "## SVM"
   ]
  },
  {
   "cell_type": "code",
   "execution_count": 847,
   "metadata": {},
   "outputs": [
    {
     "name": "stdout",
     "output_type": "stream",
     "text": [
      "2400\n"
     ]
    }
   ],
   "source": [
    "i = 1\n",
    "x_tr_tmp = tuple(xTrains[i])\n",
    "yTrain = yTrains[i]\n",
    "x_te_tmp = tuple(x_folds[i])\n",
    "yTest = y_folds[i]\n",
    "all_tmp = np.asarray(x_tr_tmp + x_te_tmp)\n",
    "        \n",
    "tr_te_test_list = np.array(all_tmp)\n",
    "\n",
    "\n",
    "num_reviews = tr_te_test_list.size\n",
    "\n",
    "clean_all_reviews = []\n",
    "\n",
    "print (num_reviews)\n",
    "for i in range(0, num_reviews):\n",
    "    \n",
    "    clean_all_reviews.append(review_to_words(tr_te_test_list[i]))\n",
    "        \n",
    "        \n",
    "\n",
    "vectorizer = TfidfVectorizer()\n",
    "all_generater = vectorizer.fit_transform(clean_all_reviews)\n",
    "        \n",
    "tr_len = len(x_tr_tmp)\n",
    "te_len = len(x_te_tmp)\n",
    "xTrain = all_generater[:tr_len]\n",
    "xTest = all_generater[tr_len:tr_len+te_len]"
   ]
  },
  {
   "cell_type": "code",
   "execution_count": 848,
   "metadata": {},
   "outputs": [],
   "source": [
    "C_grid = np.logspace(-2, 2, 20)\n",
    "rbf_C_accuracy = []\n",
    "rbf_C_loss = []\n",
    "# for C in C_grid:\n",
    "#     LRM = LogisticRegression(solver='liblinear',C=C).fit(xTrain, yTrain)\n",
    "#     pred_te = LRM.predict(xTest)\n",
    "# #     C_accuracy.append(clf.score(xTest,yTest))\n",
    "#     counter = 0.0\n",
    "#     for k in range(te_len):\n",
    "#         if yTest[k] != pred_te[k]:\n",
    "#             counter += 1\n",
    "#     C_accuracy.append(1-counter/te_len)\n",
    "#     C_loss.append(sklearn.metrics.log_loss(yTest,pred_te))\n",
    "\n",
    "\n",
    "for C in C_grid:\n",
    "    clf = svm.SVC(random_state=0,C=C,probability=True).fit(xTrain, yTrain)     \n",
    "    pred_te = clf.predict(xTest)\n",
    "    counter = 0.0\n",
    "    for k in range(te_len):\n",
    "        if yTest[k] != pred_te[k]:\n",
    "            counter += 1\n",
    "    rbf_C_accuracy.append(1-counter/te_len)\n",
    "    rbf_C_loss.append(sklearn.metrics.log_loss(yTest,pred_te))\n",
    "\n"
   ]
  },
  {
   "cell_type": "code",
   "execution_count": 849,
   "metadata": {},
   "outputs": [],
   "source": [
    "C_grid = np.logspace(-2, 2, 20)\n",
    "sigmoid_C_accuracy = []\n",
    "sigmoid_C_loss = []\n",
    "# for C in C_grid:\n",
    "#     LRM = LogisticRegression(solver='liblinear',C=C).fit(xTrain, yTrain)\n",
    "#     pred_te = LRM.predict(xTest)\n",
    "# #     C_accuracy.append(clf.score(xTest,yTest))\n",
    "#     counter = 0.0\n",
    "#     for k in range(te_len):\n",
    "#         if yTest[k] != pred_te[k]:\n",
    "#             counter += 1\n",
    "#     C_accuracy.append(1-counter/te_len)\n",
    "#     C_loss.append(sklearn.metrics.log_loss(yTest,pred_te))\n",
    "\n",
    "\n",
    "for C in C_grid:\n",
    "    clf = svm.SVC(random_state=0,C=C,kernel='sigmoid').fit(xTrain, yTrain)     \n",
    "    pred_te = clf.predict(xTest)\n",
    "    counter = 0.0\n",
    "    for k in range(te_len):\n",
    "        if yTest[k] != pred_te[k]:\n",
    "            counter += 1\n",
    "    sigmoid_C_accuracy.append(1-counter/te_len)\n",
    "    sigmoid_C_loss.append(sklearn.metrics.log_loss(yTest,pred_te))\n",
    "\n",
    "\n",
    "\n"
   ]
  },
  {
   "cell_type": "code",
   "execution_count": 850,
   "metadata": {},
   "outputs": [
    {
     "data": {
      "image/png": "[encoded data removed]",
      "text/plain": [
       "<Figure size 432x288 with 1 Axes>"
      ]
     },
     "metadata": {
      "needs_background": "light"
     },
     "output_type": "display_data"
    },
    {
     "data": {
      "image/png": "[encoded data removed]",
      "text/plain": [
       "<Figure size 432x288 with 1 Axes>"
      ]
     },
     "metadata": {
      "needs_background": "light"
     },
     "output_type": "display_data"
    }
   ],
   "source": [
    "\n",
    "# TODO make plot\n",
    "plt.figure()\n",
    "plt.subplot(211)\n",
    "\n",
    "plt.xscale('log')\n",
    "plt.xlabel('log10(C)')\n",
    "plt.ylabel('logistic loss')\n",
    "plt.plot(C_grid,rbf_C_loss, color='red',label = \"rbf\")\n",
    "plt.plot(C_grid,sigmoid_C_loss, color='blue',label = \"sigmoid\")\n",
    "\n",
    "plt.legend()\n",
    "plt.show()\n",
    "\n",
    "plt.subplot(212)\n",
    "plt.xscale('log')\n",
    "plt.xlabel('log10(C)')\n",
    "plt.ylabel('accuracy')\n",
    "plt.plot(C_grid,rbf_C_accuracy, color='red',label = \"rbf\")\n",
    "plt.plot(C_grid,sigmoid_C_accuracy, color='blue',label = \"sigmoid\")\n",
    "\n",
    "plt.legend()\n",
    "plt.show()\n"
   ]
  },
  {
   "cell_type": "code",
   "execution_count": 851,
   "metadata": {},
   "outputs": [
    {
     "name": "stdout",
     "output_type": "stream",
     "text": [
      "SVM costs: 0.25139 seconds, accuracy: 0.671, logloss: 11.37\n",
      "MLP costs: 0.05424 seconds, accuracy: 0.669, logloss: 11.44\n",
      "LogisticRegression costs: 0.00539 seconds, accuracy: 0.654, logloss: 11.94\n"
     ]
    }
   ],
   "source": [
    "import time\n",
    "start_time_sec = time.time()\n",
    "clf = svm.SVC(random_state=0,C=8,kernel='sigmoid').fit(xTrain, yTrain)\n",
    "pred_te = clf.predict(xTest)\n",
    "counter = 0.0\n",
    "for k in range(te_len):\n",
    "    if yTest[k] != pred_te[k]:\n",
    "        counter += 1\n",
    "\n",
    "print(\"SVM costs: %.5f seconds, accuracy: %.3f, logloss: %.2f\" %(time.time() - start_time_sec, 1-counter/te_len, sklearn.metrics.log_loss(yTest,pred_te)))\n",
    "\n",
    "\n",
    "start_time_sec = time.time()\n",
    "mlp_lbfgs = MLPClassifierLBFGS(\n",
    "        hidden_layer_sizes=[2],\n",
    "        activation='logistic',\n",
    "        alpha=0.0001,\n",
    "        max_iter=50, tol=1e-6,\n",
    "        random_state=i\n",
    "        )\n",
    "mlp_lbfgs.fit(xTrain, yTrain)\n",
    "pred_te = mlp_lbfgs.predict(xTest)\n",
    "counter = 0.0\n",
    "for k in range(te_len):\n",
    "    if yTest[k] != pred_te[k]:\n",
    "        counter += 1\n",
    "\n",
    "print(\"MLP costs: %.5f seconds, accuracy: %.3f, logloss: %.2f\" %(time.time() - start_time_sec, 1-counter/te_len, sklearn.metrics.log_loss(yTest,pred_te)))\n",
    "\n",
    "start_time_sec = time.time()\n",
    "\n",
    "LRM = LogisticRegression(solver='liblinear',C=31.6667).fit(xTrain, yTrain)\n",
    "pred_te = LRM.predict(xTest)\n",
    "counter = 0.0\n",
    "for k in range(te_len):\n",
    "    if yTest[k] != pred_te[k]:\n",
    "        counter += 1\n",
    "\n",
    "print(\"LogisticRegression costs: %.5f seconds, accuracy: %.3f, logloss: %.2f\" %(time.time() - start_time_sec, 1-counter/te_len, sklearn.metrics.log_loss(yTest,pred_te)))\n",
    "\n",
    "\n"
   ]
  },
  {
   "cell_type": "code",
   "execution_count": null,
   "metadata": {},
   "outputs": [],
   "source": []
  },
  {
   "cell_type": "code",
   "execution_count": null,
   "metadata": {},
   "outputs": [],
   "source": []
  },
  {
   "cell_type": "code",
   "execution_count": null,
   "metadata": {},
   "outputs": [],
   "source": []
  },
  {
   "cell_type": "code",
   "execution_count": null,
   "metadata": {},
   "outputs": [],
   "source": []
  },
  {
   "cell_type": "code",
   "execution_count": 630,
   "metadata": {},
   "outputs": [],
   "source": [
    "loss_3,accuracy_3 = TestingTrainingErrorModelTF(10, xTrains, yTrains, x_folds, y_folds)"
   ]
  },
  {
   "cell_type": "code",
   "execution_count": 631,
   "metadata": {},
   "outputs": [
    {
     "data": {
      "text/plain": [
       "0.7145833333333333"
      ]
     },
     "execution_count": 631,
     "metadata": {},
     "output_type": "execute_result"
    }
   ],
   "source": [
    "sum(accuracy_3)/10"
   ]
  },
  {
   "cell_type": "code",
   "execution_count": null,
   "metadata": {},
   "outputs": [],
   "source": []
  },
  {
   "cell_type": "code",
   "execution_count": null,
   "metadata": {},
   "outputs": [],
   "source": []
  },
  {
   "cell_type": "code",
   "execution_count": null,
   "metadata": {},
   "outputs": [],
   "source": []
  },
  {
   "cell_type": "code",
   "execution_count": 840,
   "metadata": {},
   "outputs": [],
   "source": [
    "logistic_accuracy = [0.654,0.632]"
   ]
  },
  {
   "cell_type": "code",
   "execution_count": 794,
   "metadata": {},
   "outputs": [
    {
     "data": {
      "text/plain": [
       "[0.0, 0.7]"
      ]
     },
     "execution_count": 794,
     "metadata": {},
     "output_type": "execute_result"
    }
   ],
   "source": [
    "logistic_accuracy"
   ]
  },
  {
   "cell_type": "code",
   "execution_count": 841,
   "metadata": {},
   "outputs": [],
   "source": [
    "svm_accuracy = [0.631, 0.612]"
   ]
  },
  {
   "cell_type": "code",
   "execution_count": 796,
   "metadata": {},
   "outputs": [
    {
     "data": {
      "text/plain": [
       "[0.0, 0.7]"
      ]
     },
     "execution_count": 796,
     "metadata": {},
     "output_type": "execute_result"
    }
   ],
   "source": [
    "svm_accuracy"
   ]
  },
  {
   "cell_type": "code",
   "execution_count": 797,
   "metadata": {},
   "outputs": [],
   "source": [
    "sigmoid_accuracy = [sum(accuracy_1)/10, sum(accuracy_2)/10]"
   ]
  },
  {
   "cell_type": "code",
   "execution_count": 592,
   "metadata": {},
   "outputs": [
    {
     "data": {
      "text/plain": [
       "[0.5908333333333332, 0.69625, 0.69625]"
      ]
     },
     "execution_count": 592,
     "metadata": {},
     "output_type": "execute_result"
    }
   ],
   "source": [
    "sigmoid_accuracy"
   ]
  },
  {
   "cell_type": "code",
   "execution_count": 842,
   "metadata": {},
   "outputs": [],
   "source": [
    "mlp_accuracy = [0.588, 0.573]"
   ]
  },
  {
   "cell_type": "code",
   "execution_count": 622,
   "metadata": {},
   "outputs": [
    {
     "data": {
      "text/plain": [
       "[0.7291666666666666, 0.6704166666666667, 0.68]"
      ]
     },
     "execution_count": 622,
     "metadata": {},
     "output_type": "execute_result"
    }
   ],
   "source": [
    "mlp_accuracy"
   ]
  },
  {
   "cell_type": "code",
   "execution_count": 665,
   "metadata": {},
   "outputs": [
    {
     "data": {
      "text/plain": [
       "array([0, 1, 2])"
      ]
     },
     "execution_count": 665,
     "metadata": {},
     "output_type": "execute_result"
    }
   ],
   "source": [
    "index"
   ]
  },
  {
   "cell_type": "code",
   "execution_count": 843,
   "metadata": {},
   "outputs": [
    {
     "data": {
      "image/png": "[encoded data removed]",
      "text/plain": [
       "<Figure size 432x288 with 1 Axes>"
      ]
     },
     "metadata": {
      "needs_background": "light"
     },
     "output_type": "display_data"
    }
   ],
   "source": [
    "n_groups = 2\n",
    "logistic_accuracy = (logistic_accuracy)\n",
    "svm_accuracy = (svm_accuracy)\n",
    "mlp_accuracy = (mlp_accuracy)\n",
    "# create plot\n",
    "fig, ax = plt.subplots()\n",
    "index = np.arange(n_groups)\n",
    "bar_width = 0.2\n",
    "opacity = 0.8\n",
    "\n",
    "rects1 = plt.bar(index, svm_accuracy, bar_width,\n",
    "alpha=opacity,\n",
    "color='b',\n",
    "label='LR')\n",
    "\n",
    "rects2 = plt.bar(index + bar_width, logistic_accuracy, bar_width,\n",
    "alpha=opacity,\n",
    "color='y',\n",
    "label='SVM')\n",
    "\n",
    "rects3 = plt.bar(index + bar_width+ bar_width, mlp_accuracy, bar_width,\n",
    "alpha=opacity,\n",
    "color='r',\n",
    "label='MLP')\n",
    "\n",
    "plt.xlabel('Word of Bags')\n",
    "plt.ylabel('Accuracy')\n",
    "plt.title('Accuracy about different kinds of word bags')\n",
    "plt.xticks(index + bar_width, ('Plan A', 'Plan B', 'Plan C'))\n",
    "plt.legend()\n",
    "\n",
    "plt.tight_layout()\n",
    "plt.show()"
   ]
  },
  {
   "cell_type": "code",
   "execution_count": 662,
   "metadata": {},
   "outputs": [
    {
     "data": {
      "text/plain": [
       "[0.725, 0.7291666666666666, 0.6174999999999999]"
      ]
     },
     "execution_count": 662,
     "metadata": {},
     "output_type": "execute_result"
    }
   ],
   "source": [
    "[logistic_accuracy[0],mlp_accuracy[0],svm_accuracy[0]]"
   ]
  },
  {
   "cell_type": "code",
   "execution_count": 656,
   "metadata": {},
   "outputs": [
    {
     "data": {
      "text/plain": [
       "<BarContainer object of 3 artists>"
      ]
     },
     "execution_count": 656,
     "metadata": {},
     "output_type": "execute_result"
    },
    {
     "data": {
      "image/png": "[encoded data removed]",
      "text/plain": [
       "<Figure size 432x288 with 1 Axes>"
      ]
     },
     "metadata": {
      "needs_background": "light"
     },
     "output_type": "display_data"
    }
   ],
   "source": [
    "data = [[30, 25, 50],\n",
    "[40, 23, 51],\n",
    "[35, 22, 45]]\n",
    "X = np.arange(3)\n",
    "fig = plt.figure()\n",
    "ax = fig.add_axes([0,0,1,1])\n",
    "ax.bar(\"plan1\", data[0], color = 'b', width = 0.25)\n",
    "ax.bar(\"plan2\", data[1], color = 'g', width = 0.25)\n",
    "ax.bar(X + 0.50, data[2], color = 'r', width = 0.25)"
   ]
  },
  {
   "cell_type": "code",
   "execution_count": 645,
   "metadata": {},
   "outputs": [
    {
     "data": {
      "text/plain": [
       "[30, 25, 50, 20]"
      ]
     },
     "execution_count": 645,
     "metadata": {},
     "output_type": "execute_result"
    }
   ],
   "source": [
    "data[0]"
   ]
  },
  {
   "cell_type": "code",
   "execution_count": null,
   "metadata": {},
   "outputs": [],
   "source": []
  },
  {
   "cell_type": "code",
   "execution_count": null,
   "metadata": {},
   "outputs": [],
   "source": []
  },
  {
   "cell_type": "code",
   "execution_count": null,
   "metadata": {},
   "outputs": [],
   "source": []
  },
  {
   "cell_type": "code",
   "execution_count": null,
   "metadata": {},
   "outputs": [],
   "source": []
  },
  {
   "cell_type": "code",
   "execution_count": null,
   "metadata": {},
   "outputs": [],
   "source": []
  },
  {
   "cell_type": "code",
   "execution_count": 407,
   "metadata": {},
   "outputs": [],
   "source": [
    "def TestingTrainingError(k,xTrains=None,yTrains=None,x_folds=None,y_folds=None):\n",
    "    \n",
    "    best_C = []\n",
    "    best_score = []\n",
    "    C_grid = np.logspace(-9, 6, 31)\n",
    "    \n",
    "    for i in range(k):\n",
    "        print (\"fold: %d\"%i)\n",
    "        \n",
    "        \n",
    "        x_tr_tmp = tuple(xTrains[i])\n",
    "        yTrain = yTrains[i]\n",
    "        x_te_tmp = tuple(x_folds[i])\n",
    "        yTest = y_folds[i]\n",
    "        constTe = tuple(te_text_list)\n",
    "\n",
    "        all_tmp = np.asarray(x_tr_tmp + x_te_tmp + constTe)\n",
    "        vectorizer = TfidfVectorizer()\n",
    "        all_generater = vectorizer.fit_transform(all_tmp)\n",
    "        \n",
    "        \n",
    "        \n",
    "        tr_len = len(x_tr_tmp)\n",
    "        te_len = len(x_te_tmp)\n",
    "        xTrain = all_generater[:tr_len]\n",
    "        xTest = all_generater[tr_len:tr_len+te_len]\n",
    "\n",
    "        \n",
    "        \n",
    "        C_accuracy = []\n",
    "        C_loss = []\n",
    "\n",
    "        for C in C_grid:\n",
    "            LRM = LogisticRegression(solver='lbfgs',C=C).fit(xTrain, yTrain)\n",
    "            pred_te = LRM.predict_proba(xTest)\n",
    "            C_accuracy.append(LRM.score(xTest,yTest))\n",
    "            C_loss.append(sklearn.metrics.log_loss(yTest,pred_te))\n",
    "        best_C.append(C_grid[np.argmin(C_loss)])\n",
    "        best_score.append(np.array(C_accuracy))\n",
    "        \n",
    "    return np.array(best_C), np.array(best_score)"
   ]
  },
  {
   "cell_type": "code",
   "execution_count": 408,
   "metadata": {},
   "outputs": [],
   "source": [
    "k = 5\n",
    "x_folds,y_folds = make_folds(k,x_all_folds,y_all_folds)\n",
    "xTrains,yTrains = generateFolds(5, x_all_folds, y_all_folds)\n"
   ]
  },
  {
   "cell_type": "code",
   "execution_count": 409,
   "metadata": {},
   "outputs": [
    {
     "name": "stdout",
     "output_type": "stream",
     "text": [
      "fold: 0\n",
      "fold: 1\n",
      "fold: 2\n",
      "fold: 3\n",
      "fold: 4\n"
     ]
    }
   ],
   "source": [
    "best_C,score = TestingTrainingError(k, xTrains, yTrains, x_folds, y_folds)"
   ]
  },
  {
   "cell_type": "code",
   "execution_count": 410,
   "metadata": {},
   "outputs": [
    {
     "data": {
      "text/plain": [
       "array([31.6227766 , 10.        ,  3.16227766, 10.        , 10.        ])"
      ]
     },
     "execution_count": 410,
     "metadata": {},
     "output_type": "execute_result"
    }
   ],
   "source": [
    "best_C"
   ]
  },
  {
   "cell_type": "code",
   "execution_count": 411,
   "metadata": {},
   "outputs": [],
   "source": [
    "x_tr_tmp = tuple(xTrains[1])\n",
    "yTrain = yTrains[1]\n",
    "x_te_tmp = tuple(x_folds[1])\n",
    "yTest = y_folds[1]\n",
    "constTe = tuple(te_text_list)\n",
    "all_tmp = np.asarray(x_tr_tmp + x_te_tmp + constTe)\n",
    "vectorizer = TfidfVectorizer()\n",
    "all_generater = vectorizer.fit_transform(all_tmp)\n",
    "        \n",
    "tr_len = len(x_tr_tmp)\n",
    "te_len = len(x_te_tmp)\n",
    "xTrain = all_generater[:tr_len]\n",
    "xTest = all_generater[tr_len:tr_len+te_len]\n",
    "\n",
    "LRM = LogisticRegression(solver='liblinear',C=10).fit(xTrain, yTrain)\n",
    "y_pred = LRM.predict(big_x_te)\n",
    "np.savetxt('yproba1_test.txt', y_pred)\n",
    "# 0.16833"
   ]
  },
  {
   "cell_type": "code",
   "execution_count": 455,
   "metadata": {},
   "outputs": [],
   "source": [
    "def TestingTrainingErrorSVM(k,xTrains=None,yTrains=None,x_folds=None,y_folds=None):\n",
    "    \n",
    "    best_C = []\n",
    "    best_score = []\n",
    "    C_grid = [0.01,0.1,1,10,100]\n",
    "    for i in range(k):\n",
    "        print (\"fold: %d\"%i)\n",
    "        \n",
    "        \n",
    "        x_tr_tmp = tuple(xTrains[i])\n",
    "        yTrain = yTrains[i]\n",
    "        x_te_tmp = tuple(x_folds[i])\n",
    "        yTest = y_folds[i]\n",
    "        constTe = tuple(te_text_list)\n",
    "\n",
    "        all_tmp = np.asarray(x_tr_tmp + x_te_tmp + constTe)\n",
    "        vectorizer = TfidfVectorizer()\n",
    "        all_generater = vectorizer.fit_transform(all_tmp)\n",
    "        \n",
    "        \n",
    "        \n",
    "        tr_len = len(x_tr_tmp)\n",
    "        te_len = len(x_te_tmp)\n",
    "        xTrain = all_generater[:tr_len]\n",
    "        xTest = all_generater[tr_len:tr_len+te_len]\n",
    "\n",
    "        C_accuracy = []\n",
    "        C_loss = []\n",
    "\n",
    "        for C in [0.01,0.1,1,10,100]:\n",
    "            clf = svm.SVC(random_state=0,C=C,probability=True).fit(xTrain, yTrain)\n",
    "            pred_te = clf.predict_proba(xTest)\n",
    "            C_accuracy.append(clf.score(xTest,yTest))\n",
    "            C_loss.append(sklearn.metrics.log_loss(yTest,pred_te))\n",
    "        best_C.append(C_grid[np.argmin(C_loss)])\n",
    "        best_score.append(np.array(C_accuracy))\n",
    "        \n",
    "    return np.array(best_C), np.array(best_score)"
   ]
  },
  {
   "cell_type": "code",
   "execution_count": 417,
   "metadata": {},
   "outputs": [
    {
     "name": "stdout",
     "output_type": "stream",
     "text": [
      "fold: 0\n",
      "fold: 1\n",
      "fold: 2\n",
      "fold: 3\n",
      "fold: 4\n"
     ]
    }
   ],
   "source": [
    "best_C,score = TestingTrainingErrorSVM(k, xTrains, yTrains, x_folds, y_folds)"
   ]
  },
  {
   "cell_type": "code",
   "execution_count": 421,
   "metadata": {},
   "outputs": [
    {
     "data": {
      "text/plain": [
       "array([[0.99772727, 0.99772727, 0.99772727, 0.99772727, 0.99772727],\n",
       "       [0.83068182, 0.83068182, 0.83068182, 0.83068182, 0.83068182],\n",
       "       [0.99545455, 0.99545455, 0.99545455, 0.99545455, 0.99545455],\n",
       "       [0.98636364, 0.98636364, 0.98636364, 0.98636364, 0.98636364],\n",
       "       [0.99090909, 0.99090909, 0.99090909, 0.99090909, 0.99090909]])"
      ]
     },
     "execution_count": 421,
     "metadata": {},
     "output_type": "execute_result"
    }
   ],
   "source": [
    "score"
   ]
  },
  {
   "cell_type": "code",
   "execution_count": 418,
   "metadata": {},
   "outputs": [
    {
     "data": {
      "text/plain": [
       "array([3.16227766e-08, 3.16227766e-08, 1.00000000e-08, 3.16227766e-08,\n",
       "       3.16227766e-08])"
      ]
     },
     "execution_count": 418,
     "metadata": {},
     "output_type": "execute_result"
    }
   ],
   "source": [
    "best_C"
   ]
  },
  {
   "cell_type": "code",
   "execution_count": 423,
   "metadata": {},
   "outputs": [],
   "source": [
    "x_tr_tmp = tuple(xTrains[0])\n",
    "yTrain = yTrains[0]\n",
    "x_te_tmp = tuple(x_folds[0])\n",
    "yTest = y_folds[0]\n",
    "constTe = tuple(te_text_list)\n",
    "all_tmp = np.asarray(x_tr_tmp + x_te_tmp + constTe)\n",
    "vectorizer = TfidfVectorizer()\n",
    "all_generater = vectorizer.fit_transform(all_tmp)\n",
    "        \n",
    "tr_len = len(x_tr_tmp)\n",
    "te_len = len(x_te_tmp)\n",
    "xTrain = all_generater[:tr_len]\n",
    "xTest = all_generater[tr_len:tr_len+te_len]\n",
    "\n",
    "clf = svm.SVC(random_state=0, tol = 0.000001, C=0.1,kernel='sigmoid').fit(xTrain, yTrain)\n",
    "\n",
    "y_pred = clf.predict(big_x_te)\n",
    "np.savetxt('yproba1_test.txt', y_pred)\n",
    "# 0.16833"
   ]
  },
  {
   "cell_type": "code",
   "execution_count": 438,
   "metadata": {},
   "outputs": [],
   "source": [
    "clf = svm.SVC(random_state=0,kernel='sigmoid')\n",
    "clf.fit(big_x_tr, big_new_y)\n",
    "y_pred = clf.predict(big_x_te)\n",
    "np.savetxt('yproba1_test.txt', y_pred)\n",
    "\n",
    "# 0.15"
   ]
  },
  {
   "cell_type": "code",
   "execution_count": 431,
   "metadata": {},
   "outputs": [],
   "source": [
    "clf = svm.SVC(random_state=0,kernel='linear')\n",
    "clf.fit(big_x_tr, big_new_y)\n",
    "y_pred = clf.predict(big_x_te)\n",
    "np.savetxt('yproba1_test.txt', y_pred)\n",
    "# 0.155\n"
   ]
  },
  {
   "cell_type": "code",
   "execution_count": 437,
   "metadata": {},
   "outputs": [],
   "source": [
    "clf = svm.SVC(random_state=0,kernel='poly',degree=2)\n",
    "clf.fit(big_x_tr, big_new_y)\n",
    "y_pred = clf.predict(big_x_te)\n",
    "np.savetxt('yproba1_test.txt', y_pred)\n",
    "\n",
    "# 0.16167"
   ]
  },
  {
   "cell_type": "code",
   "execution_count": null,
   "metadata": {},
   "outputs": [],
   "source": [
    "clf = svm.SVC(random_state=0,kernel='sigmoid')\n",
    "clf.fit(big_x_tr, big_new_y)\n",
    "y_pred = clf.predict(big_x_te)\n",
    "np.savetxt('yproba1_test.txt', y_pred)\n",
    "\n",
    "# 0.15"
   ]
  },
  {
   "cell_type": "code",
   "execution_count": 453,
   "metadata": {},
   "outputs": [],
   "source": [
    "def TestingTrainingErrorSVMCOEF(k,xTrains=None,yTrains=None,x_folds=None,y_folds=None):\n",
    "    \n",
    "    best_C = []\n",
    "    best_score = []\n",
    "    C_grid = [-100, -10, -1, -0.1, -0.01, 0, 0.01,0.1,1,10,100]\n",
    "    for i in range(k):\n",
    "        print (\"fold: %d\"%i)\n",
    "        \n",
    "        \n",
    "        x_tr_tmp = tuple(xTrains[i])\n",
    "        yTrain = yTrains[i]\n",
    "        x_te_tmp = tuple(x_folds[i])\n",
    "        yTest = y_folds[i]\n",
    "        constTe = tuple(te_text_list)\n",
    "\n",
    "        all_tmp = np.asarray(x_tr_tmp + x_te_tmp + constTe)\n",
    "        vectorizer = TfidfVectorizer()\n",
    "        all_generater = vectorizer.fit_transform(all_tmp)\n",
    "        \n",
    "        \n",
    "        \n",
    "        tr_len = len(x_tr_tmp)\n",
    "        te_len = len(x_te_tmp)\n",
    "        xTrain = all_generater[:tr_len]\n",
    "        xTest = all_generater[tr_len:tr_len+te_len]\n",
    "\n",
    "        C_accuracy = []\n",
    "        C_loss = []\n",
    "\n",
    "        for C in C_grid:\n",
    "            print (C)\n",
    "            clf = svm.SVC(random_state=0,probability=True,kernel='sigmoid',coef0=C).fit(xTrain, yTrain)\n",
    "            pred_te = clf.predict_proba(xTest)\n",
    "            C_accuracy.append(clf.score(xTest,yTest))\n",
    "            C_loss.append(sklearn.metrics.log_loss(yTest,pred_te))\n",
    "        best_C.append(C_grid[np.argmin(C_loss)])\n",
    "        best_score.append(np.array(C_accuracy))\n",
    "        \n",
    "    return np.array(best_C), np.array(best_score)"
   ]
  },
  {
   "cell_type": "code",
   "execution_count": 454,
   "metadata": {},
   "outputs": [
    {
     "name": "stdout",
     "output_type": "stream",
     "text": [
      "fold: 0\n",
      "-100\n",
      "-10\n",
      "-1\n",
      "-0.1\n",
      "-0.01\n",
      "0\n",
      "0.01\n",
      "0.1\n",
      "1\n",
      "10\n",
      "100\n",
      "fold: 1\n",
      "-100\n",
      "-10\n",
      "-1\n",
      "-0.1\n",
      "-0.01\n",
      "0\n",
      "0.01\n",
      "0.1\n",
      "1\n",
      "10\n",
      "100\n",
      "fold: 2\n",
      "-100\n",
      "-10\n",
      "-1\n",
      "-0.1\n",
      "-0.01\n",
      "0\n",
      "0.01\n",
      "0.1\n",
      "1\n",
      "10\n",
      "100\n",
      "fold: 3\n",
      "-100\n",
      "-10\n",
      "-1\n",
      "-0.1\n",
      "-0.01\n",
      "0\n",
      "0.01\n",
      "0.1\n",
      "1\n",
      "10\n",
      "100\n",
      "fold: 4\n",
      "-100\n",
      "-10\n",
      "-1\n",
      "-0.1\n",
      "-0.01\n",
      "0\n",
      "0.01\n",
      "0.1\n",
      "1\n",
      "10\n",
      "100\n"
     ]
    }
   ],
   "source": [
    "best_C,score = TestingTrainingErrorSVMCOEF(k, xTrains, yTrains, x_folds, y_folds)"
   ]
  },
  {
   "cell_type": "code",
   "execution_count": 456,
   "metadata": {},
   "outputs": [
    {
     "data": {
      "text/plain": [
       "array([-1, -1, -1, -1, -1])"
      ]
     },
     "execution_count": 456,
     "metadata": {},
     "output_type": "execute_result"
    }
   ],
   "source": [
    "best_C"
   ]
  },
  {
   "cell_type": "code",
   "execution_count": 457,
   "metadata": {},
   "outputs": [
    {
     "data": {
      "text/plain": [
       "array([[0.49886364, 0.49886364, 0.85      , 0.84659091, 0.84659091,\n",
       "        0.84772727, 0.84772727, 0.84431818, 0.8375    , 0.49886364,\n",
       "        0.49886364],\n",
       "       [0.48977273, 0.48977273, 0.83068182, 0.82840909, 0.82840909,\n",
       "        0.82954545, 0.82954545, 0.83181818, 0.80681818, 0.48977273,\n",
       "        0.48977273],\n",
       "       [0.40568182, 0.40568182, 0.72840909, 0.74204545, 0.74431818,\n",
       "        0.74659091, 0.74431818, 0.74431818, 0.71590909, 0.40568182,\n",
       "        0.40568182],\n",
       "       [0.45454545, 0.45454545, 0.8       , 0.80909091, 0.80681818,\n",
       "        0.80681818, 0.80681818, 0.80568182, 0.79659091, 0.45454545,\n",
       "        0.45454545],\n",
       "       [0.45454545, 0.45454545, 0.78409091, 0.76704545, 0.76931818,\n",
       "        0.76931818, 0.77045455, 0.77159091, 0.77386364, 0.45454545,\n",
       "        0.45454545]])"
      ]
     },
     "execution_count": 457,
     "metadata": {},
     "output_type": "execute_result"
    }
   ],
   "source": [
    "score"
   ]
  },
  {
   "cell_type": "code",
   "execution_count": 466,
   "metadata": {},
   "outputs": [],
   "source": [
    "x_tr_tmp = tuple(xTrains[0])\n",
    "yTrain = yTrains[0]\n",
    "x_te_tmp = tuple(x_folds[0])\n",
    "yTest = y_folds[0]\n",
    "constTe = tuple(te_text_list)\n",
    "all_tmp = np.asarray(x_tr_tmp + x_te_tmp + constTe)\n",
    "vectorizer = TfidfVectorizer()\n",
    "all_generater = vectorizer.fit_transform(all_tmp)\n",
    "        \n",
    "tr_len = len(x_tr_tmp)\n",
    "te_len = len(x_te_tmp)\n",
    "xTrain = all_generater[:tr_len]\n",
    "xTest = all_generater[tr_len:tr_len+te_len]\n",
    "\n",
    "clf = svm.SVC(random_state=0,coef0=-1,kernel='sigmoid').fit(xTrain, yTrain)\n",
    "\n",
    "y_pred = clf.predict(big_x_te)\n",
    "np.savetxt('yproba1_test.txt', y_pred)\n",
    "# 0.16333"
   ]
  },
  {
   "cell_type": "code",
   "execution_count": 465,
   "metadata": {},
   "outputs": [],
   "source": [
    "x_tr_tmp = tuple(xTrains[0])\n",
    "yTrain = yTrains[0]\n",
    "x_te_tmp = tuple(x_folds[0])\n",
    "yTest = y_folds[0]\n",
    "constTe = tuple(te_text_list)\n",
    "all_tmp = np.asarray(x_tr_tmp + x_te_tmp + constTe)\n",
    "vectorizer = TfidfVectorizer()\n",
    "all_generater = vectorizer.fit_transform(all_tmp)\n",
    "        \n",
    "tr_len = len(x_tr_tmp)\n",
    "te_len = len(x_te_tmp)\n",
    "xTrain = all_generater[:tr_len]\n",
    "xTest = all_generater[tr_len:tr_len+te_len]\n",
    "\n",
    "clf = svm.SVC(random_state=0,coef0=-1,kernel='sigmoid',C=10).fit(xTrain, yTrain)\n",
    "\n",
    "y_pred = clf.predict(big_x_te)\n",
    "np.savetxt('yproba1_test.txt', y_pred)\n",
    "# 0.155"
   ]
  },
  {
   "cell_type": "code",
   "execution_count": null,
   "metadata": {},
   "outputs": [],
   "source": []
  },
  {
   "cell_type": "code",
   "execution_count": 458,
   "metadata": {},
   "outputs": [
    {
     "name": "stdout",
     "output_type": "stream",
     "text": [
      "fold: 0\n",
      "fold: 1\n",
      "fold: 2\n",
      "fold: 3\n",
      "fold: 4\n"
     ]
    }
   ],
   "source": [
    "best_C,score = TestingTrainingErrorSVM(k, xTrains, yTrains, x_folds, y_folds)"
   ]
  },
  {
   "cell_type": "code",
   "execution_count": 459,
   "metadata": {},
   "outputs": [
    {
     "data": {
      "text/plain": [
       "array([10, 10,  1, 10, 10])"
      ]
     },
     "execution_count": 459,
     "metadata": {},
     "output_type": "execute_result"
    }
   ],
   "source": [
    "best_C"
   ]
  },
  {
   "cell_type": "code",
   "execution_count": 460,
   "metadata": {},
   "outputs": [
    {
     "data": {
      "text/plain": [
       "array([[0.49886364, 0.77045455, 0.84659091, 0.84545455, 0.84545455],\n",
       "       [0.48977273, 0.52159091, 0.81931818, 0.83068182, 0.83068182],\n",
       "       [0.40568182, 0.40795455, 0.72386364, 0.72386364, 0.72386364],\n",
       "       [0.45454545, 0.47613636, 0.8       , 0.81477273, 0.81477273],\n",
       "       [0.45454545, 0.47159091, 0.78295455, 0.78863636, 0.78863636]])"
      ]
     },
     "execution_count": 460,
     "metadata": {},
     "output_type": "execute_result"
    }
   ],
   "source": [
    "score"
   ]
  },
  {
   "cell_type": "code",
   "execution_count": 478,
   "metadata": {},
   "outputs": [],
   "source": [
    "clf = svm.SVC(random_state=0,kernel='sigmoid')\n",
    "clf.fit(big_x_tr, big_new_y)\n",
    "y_pred_svm = clf.predict(big_x_te)\n",
    "np.savetxt('yproba1_test.txt', y_pred)\n"
   ]
  },
  {
   "cell_type": "code",
   "execution_count": 481,
   "metadata": {},
   "outputs": [
    {
     "data": {
      "text/plain": [
       "(600,)"
      ]
     },
     "execution_count": 481,
     "metadata": {},
     "output_type": "execute_result"
    }
   ],
   "source": [
    "y_pred_svm.shape"
   ]
  },
  {
   "cell_type": "code",
   "execution_count": 486,
   "metadata": {},
   "outputs": [],
   "source": [
    "# y_te_mlp y_pred_svm y_te_logis\n",
    "\n",
    "for i in range(600):\n",
    "    if y_te_mlp[i] + y_pred_svm[i] + y_te_logis[i] +y_pred_knn[i] + y_te_forest[i] >= 3:\n",
    "        y_pred[i] = 1\n",
    "    else:\n",
    "        y_pred[i] = 0\n",
    "np.savetxt('yproba1_test.txt', y_pred)"
   ]
  },
  {
   "cell_type": "markdown",
   "metadata": {},
   "source": [
    "# PART2"
   ]
  },
  {
   "cell_type": "code",
   "execution_count": 443,
   "metadata": {},
   "outputs": [
    {
     "ename": "FileNotFoundError",
     "evalue": "[Errno 2] No such file or directory: 'glove.6B.50d.txt.zip'",
     "output_type": "error",
     "traceback": [
      "\u001b[0;31m---------------------------------------------------------------------------\u001b[0m",
      "\u001b[0;31mFileNotFoundError\u001b[0m                         Traceback (most recent call last)",
      "\u001b[0;32m<ipython-input-443-b4be2574925f>\u001b[0m in \u001b[0;36m<module>\u001b[0;34m()\u001b[0m\n\u001b[1;32m      6\u001b[0m word_embeddings = pd.read_csv('glove.6B.50d.txt.zip',\n\u001b[1;32m      7\u001b[0m                                \u001b[0mheader\u001b[0m\u001b[0;34m=\u001b[0m\u001b[0;32mNone\u001b[0m\u001b[0;34m,\u001b[0m \u001b[0msep\u001b[0m\u001b[0;34m=\u001b[0m\u001b[0;34m' '\u001b[0m\u001b[0;34m,\u001b[0m \u001b[0mindex_col\u001b[0m\u001b[0;34m=\u001b[0m\u001b[0;36m0\u001b[0m\u001b[0;34m,\u001b[0m\u001b[0;34m\u001b[0m\u001b[0;34m\u001b[0m\u001b[0m\n\u001b[0;32m----> 8\u001b[0;31m                                nrows=100000, compression='zip', encoding='utf-8', quoting=3)\n\u001b[0m\u001b[1;32m      9\u001b[0m \u001b[0;31m# Build a dict that will map from string word to 50-dim vector\u001b[0m\u001b[0;34m\u001b[0m\u001b[0;34m\u001b[0m\u001b[0;34m\u001b[0m\u001b[0m\n\u001b[1;32m     10\u001b[0m \u001b[0mword_list\u001b[0m \u001b[0;34m=\u001b[0m \u001b[0mword_embeddings\u001b[0m\u001b[0;34m.\u001b[0m\u001b[0mindex\u001b[0m\u001b[0;34m.\u001b[0m\u001b[0mvalues\u001b[0m\u001b[0;34m.\u001b[0m\u001b[0mtolist\u001b[0m\u001b[0;34m(\u001b[0m\u001b[0;34m)\u001b[0m\u001b[0;34m\u001b[0m\u001b[0;34m\u001b[0m\u001b[0m\n",
      "\u001b[0;32m/usr/local/lib/python3.7/site-packages/pandas/io/parsers.py\u001b[0m in \u001b[0;36mparser_f\u001b[0;34m(filepath_or_buffer, sep, delimiter, header, names, index_col, usecols, squeeze, prefix, mangle_dupe_cols, dtype, engine, converters, true_values, false_values, skipinitialspace, skiprows, skipfooter, nrows, na_values, keep_default_na, na_filter, verbose, skip_blank_lines, parse_dates, infer_datetime_format, keep_date_col, date_parser, dayfirst, iterator, chunksize, compression, thousands, decimal, lineterminator, quotechar, quoting, doublequote, escapechar, comment, encoding, dialect, tupleize_cols, error_bad_lines, warn_bad_lines, delim_whitespace, low_memory, memory_map, float_precision)\u001b[0m\n\u001b[1;32m    700\u001b[0m                     skip_blank_lines=skip_blank_lines)\n\u001b[1;32m    701\u001b[0m \u001b[0;34m\u001b[0m\u001b[0m\n\u001b[0;32m--> 702\u001b[0;31m         \u001b[0;32mreturn\u001b[0m \u001b[0m_read\u001b[0m\u001b[0;34m(\u001b[0m\u001b[0mfilepath_or_buffer\u001b[0m\u001b[0;34m,\u001b[0m \u001b[0mkwds\u001b[0m\u001b[0;34m)\u001b[0m\u001b[0;34m\u001b[0m\u001b[0;34m\u001b[0m\u001b[0m\n\u001b[0m\u001b[1;32m    703\u001b[0m \u001b[0;34m\u001b[0m\u001b[0m\n\u001b[1;32m    704\u001b[0m     \u001b[0mparser_f\u001b[0m\u001b[0;34m.\u001b[0m\u001b[0m__name__\u001b[0m \u001b[0;34m=\u001b[0m \u001b[0mname\u001b[0m\u001b[0;34m\u001b[0m\u001b[0;34m\u001b[0m\u001b[0m\n",
      "\u001b[0;32m/usr/local/lib/python3.7/site-packages/pandas/io/parsers.py\u001b[0m in \u001b[0;36m_read\u001b[0;34m(filepath_or_buffer, kwds)\u001b[0m\n\u001b[1;32m    427\u001b[0m \u001b[0;34m\u001b[0m\u001b[0m\n\u001b[1;32m    428\u001b[0m     \u001b[0;31m# Create the parser.\u001b[0m\u001b[0;34m\u001b[0m\u001b[0;34m\u001b[0m\u001b[0;34m\u001b[0m\u001b[0m\n\u001b[0;32m--> 429\u001b[0;31m     \u001b[0mparser\u001b[0m \u001b[0;34m=\u001b[0m \u001b[0mTextFileReader\u001b[0m\u001b[0;34m(\u001b[0m\u001b[0mfilepath_or_buffer\u001b[0m\u001b[0;34m,\u001b[0m \u001b[0;34m**\u001b[0m\u001b[0mkwds\u001b[0m\u001b[0;34m)\u001b[0m\u001b[0;34m\u001b[0m\u001b[0;34m\u001b[0m\u001b[0m\n\u001b[0m\u001b[1;32m    430\u001b[0m \u001b[0;34m\u001b[0m\u001b[0m\n\u001b[1;32m    431\u001b[0m     \u001b[0;32mif\u001b[0m \u001b[0mchunksize\u001b[0m \u001b[0;32mor\u001b[0m \u001b[0miterator\u001b[0m\u001b[0;34m:\u001b[0m\u001b[0;34m\u001b[0m\u001b[0;34m\u001b[0m\u001b[0m\n",
      "\u001b[0;32m/usr/local/lib/python3.7/site-packages/pandas/io/parsers.py\u001b[0m in \u001b[0;36m__init__\u001b[0;34m(self, f, engine, **kwds)\u001b[0m\n\u001b[1;32m    893\u001b[0m             \u001b[0mself\u001b[0m\u001b[0;34m.\u001b[0m\u001b[0moptions\u001b[0m\u001b[0;34m[\u001b[0m\u001b[0;34m'has_index_names'\u001b[0m\u001b[0;34m]\u001b[0m \u001b[0;34m=\u001b[0m \u001b[0mkwds\u001b[0m\u001b[0;34m[\u001b[0m\u001b[0;34m'has_index_names'\u001b[0m\u001b[0;34m]\u001b[0m\u001b[0;34m\u001b[0m\u001b[0;34m\u001b[0m\u001b[0m\n\u001b[1;32m    894\u001b[0m \u001b[0;34m\u001b[0m\u001b[0m\n\u001b[0;32m--> 895\u001b[0;31m         \u001b[0mself\u001b[0m\u001b[0;34m.\u001b[0m\u001b[0m_make_engine\u001b[0m\u001b[0;34m(\u001b[0m\u001b[0mself\u001b[0m\u001b[0;34m.\u001b[0m\u001b[0mengine\u001b[0m\u001b[0;34m)\u001b[0m\u001b[0;34m\u001b[0m\u001b[0;34m\u001b[0m\u001b[0m\n\u001b[0m\u001b[1;32m    896\u001b[0m \u001b[0;34m\u001b[0m\u001b[0m\n\u001b[1;32m    897\u001b[0m     \u001b[0;32mdef\u001b[0m \u001b[0mclose\u001b[0m\u001b[0;34m(\u001b[0m\u001b[0mself\u001b[0m\u001b[0;34m)\u001b[0m\u001b[0;34m:\u001b[0m\u001b[0;34m\u001b[0m\u001b[0;34m\u001b[0m\u001b[0m\n",
      "\u001b[0;32m/usr/local/lib/python3.7/site-packages/pandas/io/parsers.py\u001b[0m in \u001b[0;36m_make_engine\u001b[0;34m(self, engine)\u001b[0m\n\u001b[1;32m   1120\u001b[0m     \u001b[0;32mdef\u001b[0m \u001b[0m_make_engine\u001b[0m\u001b[0;34m(\u001b[0m\u001b[0mself\u001b[0m\u001b[0;34m,\u001b[0m \u001b[0mengine\u001b[0m\u001b[0;34m=\u001b[0m\u001b[0;34m'c'\u001b[0m\u001b[0;34m)\u001b[0m\u001b[0;34m:\u001b[0m\u001b[0;34m\u001b[0m\u001b[0;34m\u001b[0m\u001b[0m\n\u001b[1;32m   1121\u001b[0m         \u001b[0;32mif\u001b[0m \u001b[0mengine\u001b[0m \u001b[0;34m==\u001b[0m \u001b[0;34m'c'\u001b[0m\u001b[0;34m:\u001b[0m\u001b[0;34m\u001b[0m\u001b[0;34m\u001b[0m\u001b[0m\n\u001b[0;32m-> 1122\u001b[0;31m             \u001b[0mself\u001b[0m\u001b[0;34m.\u001b[0m\u001b[0m_engine\u001b[0m \u001b[0;34m=\u001b[0m \u001b[0mCParserWrapper\u001b[0m\u001b[0;34m(\u001b[0m\u001b[0mself\u001b[0m\u001b[0;34m.\u001b[0m\u001b[0mf\u001b[0m\u001b[0;34m,\u001b[0m \u001b[0;34m**\u001b[0m\u001b[0mself\u001b[0m\u001b[0;34m.\u001b[0m\u001b[0moptions\u001b[0m\u001b[0;34m)\u001b[0m\u001b[0;34m\u001b[0m\u001b[0;34m\u001b[0m\u001b[0m\n\u001b[0m\u001b[1;32m   1123\u001b[0m         \u001b[0;32melse\u001b[0m\u001b[0;34m:\u001b[0m\u001b[0;34m\u001b[0m\u001b[0;34m\u001b[0m\u001b[0m\n\u001b[1;32m   1124\u001b[0m             \u001b[0;32mif\u001b[0m \u001b[0mengine\u001b[0m \u001b[0;34m==\u001b[0m \u001b[0;34m'python'\u001b[0m\u001b[0;34m:\u001b[0m\u001b[0;34m\u001b[0m\u001b[0;34m\u001b[0m\u001b[0m\n",
      "\u001b[0;32m/usr/local/lib/python3.7/site-packages/pandas/io/parsers.py\u001b[0m in \u001b[0;36m__init__\u001b[0;34m(self, src, **kwds)\u001b[0m\n\u001b[1;32m   1851\u001b[0m         \u001b[0mkwds\u001b[0m\u001b[0;34m[\u001b[0m\u001b[0;34m'usecols'\u001b[0m\u001b[0;34m]\u001b[0m \u001b[0;34m=\u001b[0m \u001b[0mself\u001b[0m\u001b[0;34m.\u001b[0m\u001b[0musecols\u001b[0m\u001b[0;34m\u001b[0m\u001b[0;34m\u001b[0m\u001b[0m\n\u001b[1;32m   1852\u001b[0m \u001b[0;34m\u001b[0m\u001b[0m\n\u001b[0;32m-> 1853\u001b[0;31m         \u001b[0mself\u001b[0m\u001b[0;34m.\u001b[0m\u001b[0m_reader\u001b[0m \u001b[0;34m=\u001b[0m \u001b[0mparsers\u001b[0m\u001b[0;34m.\u001b[0m\u001b[0mTextReader\u001b[0m\u001b[0;34m(\u001b[0m\u001b[0msrc\u001b[0m\u001b[0;34m,\u001b[0m \u001b[0;34m**\u001b[0m\u001b[0mkwds\u001b[0m\u001b[0;34m)\u001b[0m\u001b[0;34m\u001b[0m\u001b[0;34m\u001b[0m\u001b[0m\n\u001b[0m\u001b[1;32m   1854\u001b[0m         \u001b[0mself\u001b[0m\u001b[0;34m.\u001b[0m\u001b[0munnamed_cols\u001b[0m \u001b[0;34m=\u001b[0m \u001b[0mself\u001b[0m\u001b[0;34m.\u001b[0m\u001b[0m_reader\u001b[0m\u001b[0;34m.\u001b[0m\u001b[0munnamed_cols\u001b[0m\u001b[0;34m\u001b[0m\u001b[0;34m\u001b[0m\u001b[0m\n\u001b[1;32m   1855\u001b[0m \u001b[0;34m\u001b[0m\u001b[0m\n",
      "\u001b[0;32mpandas/_libs/parsers.pyx\u001b[0m in \u001b[0;36mpandas._libs.parsers.TextReader.__cinit__\u001b[0;34m()\u001b[0m\n",
      "\u001b[0;32mpandas/_libs/parsers.pyx\u001b[0m in \u001b[0;36mpandas._libs.parsers.TextReader._setup_parser_source\u001b[0;34m()\u001b[0m\n",
      "\u001b[0;32m/usr/local/Cellar/python/3.7.6_1/Frameworks/Python.framework/Versions/3.7/lib/python3.7/zipfile.py\u001b[0m in \u001b[0;36m__init__\u001b[0;34m(self, file, mode, compression, allowZip64, compresslevel)\u001b[0m\n\u001b[1;32m   1238\u001b[0m             \u001b[0;32mwhile\u001b[0m \u001b[0;32mTrue\u001b[0m\u001b[0;34m:\u001b[0m\u001b[0;34m\u001b[0m\u001b[0;34m\u001b[0m\u001b[0m\n\u001b[1;32m   1239\u001b[0m                 \u001b[0;32mtry\u001b[0m\u001b[0;34m:\u001b[0m\u001b[0;34m\u001b[0m\u001b[0;34m\u001b[0m\u001b[0m\n\u001b[0;32m-> 1240\u001b[0;31m                     \u001b[0mself\u001b[0m\u001b[0;34m.\u001b[0m\u001b[0mfp\u001b[0m \u001b[0;34m=\u001b[0m \u001b[0mio\u001b[0m\u001b[0;34m.\u001b[0m\u001b[0mopen\u001b[0m\u001b[0;34m(\u001b[0m\u001b[0mfile\u001b[0m\u001b[0;34m,\u001b[0m \u001b[0mfilemode\u001b[0m\u001b[0;34m)\u001b[0m\u001b[0;34m\u001b[0m\u001b[0;34m\u001b[0m\u001b[0m\n\u001b[0m\u001b[1;32m   1241\u001b[0m                 \u001b[0;32mexcept\u001b[0m \u001b[0mOSError\u001b[0m\u001b[0;34m:\u001b[0m\u001b[0;34m\u001b[0m\u001b[0;34m\u001b[0m\u001b[0m\n\u001b[1;32m   1242\u001b[0m                     \u001b[0;32mif\u001b[0m \u001b[0mfilemode\u001b[0m \u001b[0;32min\u001b[0m \u001b[0mmodeDict\u001b[0m\u001b[0;34m:\u001b[0m\u001b[0;34m\u001b[0m\u001b[0;34m\u001b[0m\u001b[0m\n",
      "\u001b[0;31mFileNotFoundError\u001b[0m: [Errno 2] No such file or directory: 'glove.6B.50d.txt.zip'"
     ]
    }
   ],
   "source": [
    "\n",
    "import sklearn.neighbors\n",
    "\n",
    "from collections import OrderedDict\n",
    "\n",
    "word_embeddings = pd.read_csv('glove.6B.50d.txt.zip',\n",
    "                               header=None, sep=' ', index_col=0,\n",
    "                               nrows=100000, compression='zip', encoding='utf-8', quoting=3)\n",
    "# Build a dict that will map from string word to 50-dim vector\n",
    "word_list = word_embeddings.index.values.tolist()\n",
    "word2vec = OrderedDict(zip(word_list, word_embeddings.values))\n",
    "\n",
    "## Show some examples\n",
    "n_words = len(word2vec.keys())\n",
    "print(\"word2vec['london'] = \")\n",
    "print(word2vec['london'])\n",
    "\n",
    "print(\"word2vec['england'] = \")\n",
    "print(word2vec['england'])\n",
    "\n",
    "## Try some analogies\n",
    "def analogy_lookup(a1, a2, b1):\n",
    "    target_vec = word2vec[a2] - word2vec[a1] + word2vec[b1]\n",
    "    knn = sklearn.neighbors.NearestNeighbors(n_neighbors=7, metric='euclidean', algorithm='brute')\n",
    "    knn.fit(word_embeddings.values)\n",
    "    dists, indices = knn.kneighbors(target_vec[np.newaxis,:])\n",
    "    print(\"Query: %s:%s -> %s:____\" % (a1, a2, b1))\n",
    "    for ii, vv in enumerate(indices[0]):\n",
    "        print(\"   %20s  at dist %.3f\" % (word_list[vv], dists[0,ii]))\n",
    "\n",
    "analogy_lookup('england', 'london', 'france')\n",
    "analogy_lookup('england', 'london', 'germany')\n",
    "analogy_lookup('england', 'london', 'japan')\n",
    "analogy_lookup('england', 'london', 'indonesia')\n",
    "\n",
    "analogy_lookup('swim', 'swimming', 'run')\n"
   ]
  },
  {
   "cell_type": "code",
   "execution_count": null,
   "metadata": {},
   "outputs": [],
   "source": []
  }
 ],
 "metadata": {
  "kernelspec": {
   "display_name": "Python 3",
   "language": "python",
   "name": "python3"
  },
  "language_info": {
   "codemirror_mode": {
    "name": "ipython",
    "version": 3
   },
   "file_extension": ".py",
   "mimetype": "text/x-python",
   "name": "python",
   "nbconvert_exporter": "python",
   "pygments_lexer": "ipython3",
   "version": "3.7.6"
  }
 },
 "nbformat": 4,
 "nbformat_minor": 2
}
