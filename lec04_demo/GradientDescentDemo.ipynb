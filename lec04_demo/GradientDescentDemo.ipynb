{
 "cells": [
  {
   "cell_type": "markdown",
   "metadata": {},
   "source": [
    "## Fitting linear regression via gradient descent\n",
    "\n",
    "Here, we will see an implementation of gradient descent for a simple linear regression problem, featuring a single weight parameter.  The code will fit a line to a data-set, minimizing total squared error; it will examine the effect of different learning step-size (the $\\alpha$ parameter) values upon the regression process.\n",
    "\n",
    "(Based upon some example code originally written by [Dr. Mike Hughes](https://www.michaelchughes.com).)"
   ]
  },
  {
   "cell_type": "code",
   "execution_count": 1,
   "metadata": {},
   "outputs": [],
   "source": [
    "# imports and setup\n",
    "import math\n",
    "import pandas as pd\n",
    "import numpy as np\n",
    "\n",
    "import seaborn as sns\n",
    "import matplotlib\n",
    "import matplotlib.pyplot as plt\n",
    "\n",
    "%matplotlib inline\n",
    "np.set_printoptions(suppress=True, precision=2)\n",
    "pd.set_option('precision', 2) # number precision for pandas\n",
    "plt.style.use('seaborn') # pretty matplotlib plots"
   ]
  },
  {
   "cell_type": "markdown",
   "metadata": {},
   "source": [
    "### Create simple dataset:   \n",
    "\n",
    "We create a simple \"linear-like\" data-set of 50 points $(x, y)$, $x \\in [-2,2]$, $y = 4.2x + \\Delta$, where $\\Delta$ is some normally-distributed random noise (positive or negative)."
   ]
  },
  {
   "cell_type": "code",
   "execution_count": 2,
   "metadata": {},
   "outputs": [],
   "source": [
    "def create_dataset(N=100, slope=4.2, noise_stddev=0.1, random_state=0):\n",
    "    random_state = np.random.RandomState(int(random_state))\n",
    "    x_N = np.linspace(-2, 2, N)\n",
    "    y_N = slope * x_N + random_state.randn(N) * noise_stddev\n",
    "    \n",
    "    return x_N, y_N"
   ]
  },
  {
   "cell_type": "code",
   "execution_count": 3,
   "metadata": {},
   "outputs": [
    {
     "data": {
      "image/png": "[encoded data removed]",
      "text/plain": [
       "<Figure size 432x288 with 1 Axes>"
      ]
     },
     "metadata": {
      "needs_background": "light"
     },
     "output_type": "display_data"
    }
   ],
   "source": [
    "x_N, y_N = create_dataset(N=50, noise_stddev=0.3)\n",
    "\n",
    "plt.plot(x_N, y_N, 'k.');"
   ]
  },
  {
   "cell_type": "markdown",
   "metadata": {},
   "source": [
    "### Define loss function and its gradient (derivative)\n",
    "\n",
    "For our 1-dimensional data points $\\{x_1, \\ldots, x_n\\}$, with ouput values $\\{y_1, \\ldots y_n\\}$, we will define the hypothesis function for our data as a simple application of one weight coefficient: $h(x_i) = w x_i$.  We seek to minimize the sum of squared errors:\n",
    "$$\\mathcal{L} = \\sum_{i=1}^n (y_i - h(x_i))^2 = \\sum_{i=1}^n (y_i - w x_i)^2$$\n",
    "\n",
    "The gradient of this function with respect to weight $w$ is the first derivative:\n",
    "$$\\nabla \\mathcal{L} = \\frac{\\partial \\mathcal{L}}{\\partial w} \n",
    "= -2 \\sum_{i=1}^n (y_i - w x_i) x_i = 2 \\sum_{i=1}^n (w x_i^2 - y_i x_i)$$\n",
    "\n",
    "We can thus modify the weight $w$ by _subtracting_ the gradient value.  This has the effect that:\n",
    "\n",
    "1. If the gradient is _positive_ (i.e., we are on the _upward_ slope, _increasing_ the loss function as we move forward), we _decrease_ the weight $w$, moving in the _opposite_ direction.\n",
    "2. If the gradient is _negative_ (i.e., we are on the _downward_ slope, _decreasing_ the loss function as we move forward), we _increase_ the weight $w$ to move in the _same_ direction as the gradient.\n",
    "\n",
    "Thus we are doing a process of _**gradient descent**_.\n",
    "\n",
    "#### A convenient simplification of the mathematics\n",
    "\n",
    "The goal of gradient descent is to find the weight $w$ that minimizes the error:\n",
    "$$\\arg\\min_w \\mathcal{L} = \\arg\\min_w \\sum_{i=1}^n (y_i - w x_i)^2$$\n",
    "\n",
    "What happens if we apply a positive constant $c$ to our loss function?\n",
    "$$\\mathcal{L}^\\prime = c \\sum_{i=1}^n (y_i - w x_i)^2$$\n",
    "\n",
    "As it turns out, this makes _no difference_ to the minimization problem, since any $w$ that minimizes $\\mathcal{L}^\\prime$ also minimizes $\\mathcal{L}$:\n",
    "$$\\arg\\min_w \\mathcal{L}^\\prime = \\arg\\min_w c \\sum_{i=1}^n (y_i - w x_i)^2 \n",
    "= \\arg\\min_w \\sum_{i=1}^n (y_i - w x_i)^2 = \\arg\\min_w \\mathcal{L}$$\n",
    "\n",
    "Furthermore, the gradient of $\\mathcal{L}^\\prime$ is simply:\n",
    "$$\\nabla \\mathcal{L}^\\prime = \\frac{\\partial \\mathcal{L}^\\prime}{\\partial w} \n",
    "= 2 c \\sum_{i=1}^n (w x_i^2 - y_i x_i)$$\n",
    "\n",
    "Using the constant $c = 1/2$, this gives us loss function:\n",
    "$$\\mathcal{L}^\\prime = \\frac{1}{2} \\sum_{i=1}^n (y_i - w x_i)^2$$\n",
    "\n",
    "And, in turn, this means we can simplify our gradient somewhat (since $2 \\cdot 1/2 = 1)$:\n",
    "$$\\nabla \\mathcal{L}^\\prime = \\sum_{i=1}^n (w x_i^2 - y_i x_i)$$"
   ]
  },
  {
   "cell_type": "code",
   "execution_count": 4,
   "metadata": {},
   "outputs": [],
   "source": [
    "def calculate_loss(w):\n",
    "    hypothesis_N = x_N * w\n",
    "    sum_squared_error = 0.5 * np.sum(np.square(y_N - hypothesis_N))\n",
    "    return sum_squared_error"
   ]
  },
  {
   "cell_type": "code",
   "execution_count": 5,
   "metadata": {},
   "outputs": [],
   "source": [
    "def calculate_gradient(w):\n",
    "    gradient = np.sum(w * np.square(x_N) - y_N * x_N)\n",
    "    return gradient"
   ]
  },
  {
   "cell_type": "markdown",
   "metadata": {},
   "source": [
    "### Examining our weight-space\n",
    "\n",
    "We look at 100 different possible weight values $w \\in [0, 8]$."
   ]
  },
  {
   "cell_type": "code",
   "execution_count": 6,
   "metadata": {},
   "outputs": [
    {
     "data": {
      "text/plain": [
       "array([0.  , 0.08, 0.16, 0.24, 0.32, 0.4 , 0.48, 0.57, 0.65, 0.73, 0.81,\n",
       "       0.89, 0.97, 1.05, 1.13, 1.21, 1.29, 1.37, 1.45, 1.54, 1.62, 1.7 ,\n",
       "       1.78, 1.86, 1.94, 2.02, 2.1 , 2.18, 2.26, 2.34, 2.42, 2.51, 2.59,\n",
       "       2.67, 2.75, 2.83, 2.91, 2.99, 3.07, 3.15, 3.23, 3.31, 3.39, 3.47,\n",
       "       3.56, 3.64, 3.72, 3.8 , 3.88, 3.96, 4.04, 4.12, 4.2 , 4.28, 4.36,\n",
       "       4.44, 4.53, 4.61, 4.69, 4.77, 4.85, 4.93, 5.01, 5.09, 5.17, 5.25,\n",
       "       5.33, 5.41, 5.49, 5.58, 5.66, 5.74, 5.82, 5.9 , 5.98, 6.06, 6.14,\n",
       "       6.22, 6.3 , 6.38, 6.46, 6.55, 6.63, 6.71, 6.79, 6.87, 6.95, 7.03,\n",
       "       7.11, 7.19, 7.27, 7.35, 7.43, 7.52, 7.6 , 7.68, 7.76, 7.84, 7.92,\n",
       "       8.  ])"
      ]
     },
     "execution_count": 6,
     "metadata": {},
     "output_type": "execute_result"
    }
   ],
   "source": [
    "w_grid = np.linspace(0, 8, 100)\n",
    "w_grid"
   ]
  },
  {
   "cell_type": "markdown",
   "metadata": {},
   "source": [
    "#### Examine the loss function and its gradients\n",
    "\n",
    "We first plot the loss function,  evaluated at each weight value $w$, and then plot the gradient of the function, noting how it goes from negative for $w < 4$, to $0$ for $w = 4$, to positive for $w > 4$."
   ]
  },
  {
   "cell_type": "code",
   "execution_count": 7,
   "metadata": {},
   "outputs": [
    {
     "data": {
      "text/plain": [
       "[<matplotlib.lines.Line2D at 0x12baa9410>]"
      ]
     },
     "execution_count": 7,
     "metadata": {},
     "output_type": "execute_result"
    },
    {
     "data": {
      "image/png": "[encoded data removed]",
      "text/plain": [
       "<Figure size 432x288 with 1 Axes>"
      ]
     },
     "metadata": {
      "needs_background": "light"
     },
     "output_type": "display_data"
    }
   ],
   "source": [
    "loss_grid = [calculate_loss(w) for w in w_grid]\n",
    "plt.plot(w_grid, loss_grid, 'b.-')"
   ]
  },
  {
   "cell_type": "code",
   "execution_count": 21,
   "metadata": {},
   "outputs": [
    {
     "name": "stdout",
     "output_type": "stream",
     "text": [
      "[-284.08237274056125, -278.4752814191842, -272.8681900978072, -267.2610987764302, -261.6540074550531, -256.04691613367606, -250.43982481229907, -244.832733490922, -239.22564216954495, -233.6185508481679, -228.01145952679087, -222.40436820541387, -216.79727688403682, -211.19018556265976, -205.58309424128274, -199.9760029199057, -194.36891159852868, -188.76182027715166, -183.15472895577463, -177.54763763439755, -171.94054631302052, -166.3334549916435, -160.72636367026644, -155.11927234888944, -149.5121810275124, -143.90508970613539, -138.29799838475833, -132.69090706338127, -127.08381574200425, -121.47672442062724, -115.8696330992502, -110.26254177787314, -104.65545045649611, -99.04835913511906, -93.44126781374202, -87.83417649236499, -82.22708517098798, -76.61999384961094, -71.0129025282339, -65.40581120685685, -59.79871988547981, -54.191628564102786, -48.584537242725766, -42.97744592134872, -37.37035459997169, -31.763263278594643, -26.15617195721761, -20.54908063584057, -14.94198931446356, -9.33489799308652, -3.7278066717094798, 1.879284649667591, 7.486375971044602, 13.093467292421613, 18.700558613798677, 24.30764993517569, 29.91474125655276, 35.521832577929786, 41.128923899306784, 46.736015220683846, 52.343106542060866, 57.950197863437936, 63.55728918481494, 69.164380506192, 74.77147182756903, 80.37856314894603, 85.9856544703231, 91.59274579170011, 97.19983711307718, 102.80692843445419, 108.41401975583128, 114.02111107720827, 119.62820239858529, 125.23529371996236, 130.84238504133936, 136.44947636271644, 142.05656768409344, 147.66365900547046, 153.27075032684752, 158.87784164822452, 164.4849329696016, 170.09202429097863, 175.69911561235568, 181.3062069337327, 186.9132982551097, 192.52038957648676, 198.1274808978638, 203.73457221924085, 209.34166354061784, 214.94875486199493, 220.55584618337195, 226.16293750474892, 231.77002882612604, 237.37712014750306, 242.98421146888012, 248.5913027902571, 254.19839411163414, 259.8054854330112, 265.41257675438817, 271.0196680757652]\n"
     ]
    }
   ],
   "source": [
    "print (gradient_grid)"
   ]
  },
  {
   "cell_type": "code",
   "execution_count": 10,
   "metadata": {},
   "outputs": [
    {
     "data": {
      "text/plain": [
       "[<matplotlib.lines.Line2D at 0x12b8110d0>]"
      ]
     },
     "execution_count": 10,
     "metadata": {},
     "output_type": "execute_result"
    },
    {
     "data": {
      "image/png": "[encoded data removed]",
      "text/plain": [
       "<Figure size 432x288 with 1 Axes>"
      ]
     },
     "metadata": {
      "needs_background": "light"
     },
     "output_type": "display_data"
    }
   ],
   "source": [
    "gradient_grid = [calculate_gradient(w) for w in w_grid]\n",
    "plt.plot(w_grid, gradient_grid, 'b.-')"
   ]
  },
  {
   "cell_type": "markdown",
   "metadata": {},
   "source": [
    "### Define the gradient descent algorithm\n",
    "\n",
    "Our function applies a number of iterations of gradient descent, controlled by the `max_iters` parameter.  \n",
    "\n",
    "At each iteration, the value of the loss function (in its $\\mathcal{L}^\\prime$ form) is calculated, based upon the data-set given and the current value of weight $w$.  At every iteration _after_ the first, weight $w$ is updated:\n",
    "$$w \\ \\leftarrow \\ (w - \\alpha \\nabla \\mathcal{L}^\\prime) \\ = \\ (w - \\alpha \\sum_{i=1}^n (w x_i^2 - y_i x_i))$$\n",
    "\n",
    "The _step-size parameter_ ($\\alpha$) controls the magnitude of the change in the weight; it is controlled by the function parameter `step_size`.  While there is rarely a well-established value for what this parameter _must_ be, a good rule of thumb is to make it some small value, so that adjustements of the wieght in the direction down the gradient are also small.  This helps prevent over-shooting the minimizing value."
   ]
  },
  {
   "cell_type": "code",
   "execution_count": 11,
   "metadata": {},
   "outputs": [],
   "source": [
    "def minimize_via_gradient_descent(init_w=0.0, step_size=0.001, max_iters=100):\n",
    "    w = np.asarray(init_w).copy()\n",
    "    \n",
    "    trace_loss = []\n",
    "    trace_w = []\n",
    "    trace_gradient = []\n",
    "    gradient = np.nan\n",
    "    for iter_id in range(max_iters):\n",
    "        if iter_id > 0:\n",
    "            gradient = calculate_gradient(w)    \n",
    "            w = w - step_size * gradient\n",
    "        loss = calculate_loss(w)\n",
    "        \n",
    "        if iter_id < 10 or (iter_id % 10) == 9:\n",
    "            print(\"  iter %5d/%d | loss % 13.4f | w  % 13.5f\" % (iter_id, max_iters, loss, w))\n",
    "    \n",
    "        trace_loss.append(loss)\n",
    "        trace_w.append(w)\n",
    "        trace_gradient.append(gradient)\n",
    "        \n",
    "    wopt = w\n",
    "    return wopt, dict(trace_loss=trace_loss, trace_w=trace_w, trace_gradient=trace_gradient)"
   ]
  },
  {
   "cell_type": "markdown",
   "metadata": {},
   "source": [
    "### Try with `step_size = 0.0001`"
   ]
  },
  {
   "cell_type": "code",
   "execution_count": 12,
   "metadata": {},
   "outputs": [
    {
     "name": "stdout",
     "output_type": "stream",
     "text": [
      "  iter     0/100 | loss      584.0407 | w        0.00000\n",
      "  iter     1/100 | loss      506.1378 | w        0.28408\n",
      "  iter     2/100 | loss      438.6709 | w        0.54845\n",
      "  iter     3/100 | loss      380.2418 | w        0.79448\n",
      "  iter     4/100 | loss      329.6400 | w        1.02343\n",
      "  iter     5/100 | loss      285.8168 | w        1.23650\n",
      "  iter     6/100 | loss      247.8643 | w        1.43479\n",
      "  iter     7/100 | loss      214.9958 | w        1.61931\n",
      "  iter     8/100 | loss      186.5305 | w        1.79103\n",
      "  iter     9/100 | loss      161.8784 | w        1.95084\n",
      "  iter    19/100 | loss       40.3317 | w        3.04997\n",
      "  iter    29/100 | loss       11.4836 | w        3.58544\n",
      "  iter    39/100 | loss        4.6367 | w        3.84630\n",
      "  iter    49/100 | loss        3.0116 | w        3.97339\n",
      "  iter    59/100 | loss        2.6259 | w        4.03531\n",
      "  iter    69/100 | loss        2.5344 | w        4.06547\n",
      "  iter    79/100 | loss        2.5126 | w        4.08017\n",
      "  iter    89/100 | loss        2.5075 | w        4.08733\n",
      "  iter    99/100 | loss        2.5063 | w        4.09081\n"
     ]
    }
   ],
   "source": [
    "wopt, info_dict = minimize_via_gradient_descent(step_size=0.001);"
   ]
  },
  {
   "cell_type": "code",
   "execution_count": 13,
   "metadata": {},
   "outputs": [
    {
     "data": {
      "text/plain": [
       "(0, 100)"
      ]
     },
     "execution_count": 13,
     "metadata": {},
     "output_type": "execute_result"
    },
    {
     "data": {
      "image/png": "[encoded data removed]",
      "text/plain": [
       "<Figure size 576x216 with 3 Axes>"
      ]
     },
     "metadata": {
      "needs_background": "light"
     },
     "output_type": "display_data"
    }
   ],
   "source": [
    "fig, axes = plt.subplots(nrows=1, ncols=3, sharex=True, sharey=False, figsize=(8,3))\n",
    "\n",
    "axes[0].plot(info_dict['trace_loss']);\n",
    "axes[0].set_title('loss');\n",
    "axes[1].plot(info_dict['trace_gradient']);\n",
    "axes[1].set_title('gradient');\n",
    "axes[2].plot(info_dict['trace_w']);\n",
    "axes[2].set_title('w');\n",
    "\n",
    "plt.xlim([0, 100])"
   ]
  },
  {
   "cell_type": "markdown",
   "metadata": {},
   "source": [
    "With `step_size = 0.0001`, gradient descent progresses very smoothly.  The loss gradually decreases and plateaus near 0 (it is never exactly 0, since our data is not strictly on a line).  The algorithm smoothly descends the gradient to where it bottoms out, with the weight increasing from its intial value (0) to a final value $\\approx$ 4."
   ]
  },
  {
   "cell_type": "markdown",
   "metadata": {},
   "source": [
    "### Try with `step_size = 0.02`"
   ]
  },
  {
   "cell_type": "code",
   "execution_count": 14,
   "metadata": {},
   "outputs": [
    {
     "name": "stdout",
     "output_type": "stream",
     "text": [
      "  iter     0/100 | loss      584.0407 | w        0.00000\n",
      "  iter     1/100 | loss       89.9420 | w        5.68165\n",
      "  iter     2/100 | loss       15.6522 | w        3.47856\n",
      "  iter     3/100 | loss        4.4825 | w        4.33282\n",
      "  iter     4/100 | loss        2.8031 | w        4.00158\n",
      "  iter     5/100 | loss        2.5506 | w        4.13002\n",
      "  iter     6/100 | loss        2.5126 | w        4.08021\n",
      "  iter     7/100 | loss        2.5069 | w        4.09952\n",
      "  iter     8/100 | loss        2.5060 | w        4.09204\n",
      "  iter     9/100 | loss        2.5059 | w        4.09494\n",
      "  iter    19/100 | loss        2.5059 | w        4.09413\n",
      "  iter    29/100 | loss        2.5059 | w        4.09413\n",
      "  iter    39/100 | loss        2.5059 | w        4.09413\n",
      "  iter    49/100 | loss        2.5059 | w        4.09413\n",
      "  iter    59/100 | loss        2.5059 | w        4.09413\n",
      "  iter    69/100 | loss        2.5059 | w        4.09413\n",
      "  iter    79/100 | loss        2.5059 | w        4.09413\n",
      "  iter    89/100 | loss        2.5059 | w        4.09413\n",
      "  iter    99/100 | loss        2.5059 | w        4.09413\n"
     ]
    }
   ],
   "source": [
    "wopt, info_dict = minimize_via_gradient_descent(step_size=0.02);"
   ]
  },
  {
   "cell_type": "code",
   "execution_count": 15,
   "metadata": {},
   "outputs": [
    {
     "data": {
      "image/png": "[encoded data removed]",
      "text/plain": [
       "<Figure size 864x216 with 3 Axes>"
      ]
     },
     "metadata": {
      "needs_background": "light"
     },
     "output_type": "display_data"
    }
   ],
   "source": [
    "fig, axes = plt.subplots(nrows=1, ncols=3, sharex=True, sharey=False, figsize=(12,3))\n",
    "\n",
    "axes[0].plot(info_dict['trace_loss'], '.-');\n",
    "axes[0].set_title('loss');\n",
    "axes[1].plot(info_dict['trace_gradient'], '.-');\n",
    "axes[1].set_title('gradient');\n",
    "axes[2].plot(info_dict['trace_w'], '.-');\n",
    "axes[2].set_title('w');\n",
    "\n",
    "plt.xlim([0, 30]);"
   ]
  },
  {
   "cell_type": "markdown",
   "metadata": {},
   "source": [
    "With `step_size = 0.02`, gradient descent progresses in a less-smooth fashion.  The loss decreases more quickly, due to larger changes in the weight value, but the weight \"over-shoots\" the low point in the gradient, _ascending_ and _increasing_, before returning back down to a final value, again $\\approx$ 4."
   ]
  },
  {
   "cell_type": "markdown",
   "metadata": {},
   "source": [
    "### Try with `step_size = 0.5`"
   ]
  },
  {
   "cell_type": "code",
   "execution_count": 30,
   "metadata": {},
   "outputs": [
    {
     "name": "stdout",
     "output_type": "stream",
     "text": [
      "  iter     0/100 | loss      584.0407 | w        0.00000\n",
      "  iter     1/100 | loss   660205.8611 | w      142.04119\n",
      "  iter     2/100 | loss  749513940.7965 | w    -4643.87715\n",
      "  iter     3/100 | loss  850906223453.7733 | w   156612.26939\n",
      "  iter     4/100 | loss  966014591749143.7500 | w  -5276732.58657\n",
      "  iter     5/100 | loss  1096694519035568512.0000 | w   177793723.68271\n",
      "  iter     6/100 | loss  1245052485081911787520.0000 | w  -5990559813.06397\n",
      "  iter     7/100 | loss  1413479928733343976259584.0000 | w   201845188945.48215\n",
      "  iter     8/100 | loss  1604691796427019971599532032.0000 | w  -6800947080449.61035\n",
      "  iter     9/100 | loss  1821770305452964841320496496640.0000 | w   229150278159780.93750\n",
      "  iter    19/100 | loss  6479082105853981388580298981748662874210512544077059647864832.0000 | w   432145824507562065874013650944.00000\n",
      "  iter    29/100 | loss  23042699076138304762147348066273145967431978355944824780072020598141309600337976771934683136.0000 | w   814967431587002751255872080573519880431599616.00000\n",
      "  iter    39/100 | loss  81950802912919915778621523014794624580708764208355361754695363022954176925750360230802101494203413770265808812976453451776.0000 | w   1536916190974081724671428295814977983669883125229678846017536.00000\n",
      "  iter    49/100 | loss  291456051909599346875937025034797192438046413569300894325207338677343878489749679429722531079032561498506951207049489893431517011266934330966639768502272.0000 | w   2898411993567022067243571161297183774186301340553839162951824992760691163136.00000\n",
      "  iter    59/100 | loss  1036556411594826118883121445929052203596524161267577802315063774164063629059471424896083494164972003481794082212614949953227920672124021894550809512896203825049462396952488218887979008.0000 | w   5466005325331906131918846480332138213291619300739755534644082319025446733867370318500200448.00000\n",
      "  iter    69/100 | loss  3686487850839352809951709326665962194974568250853072114162412335328049340491982761094536596531718709155985569016586855688712612439515684845866079741242006679108975163159708875644355860367412912187289244739716513792.0000 | w   10308132274800385229367068602425492962724389142253390388577953572057867906441421604686237068326976110985216.00000\n",
      "  iter    79/100 | loss  13110905033597297985291657572542560064091276592816115233382591842854629328917177592271151324071021499681199992211340800563940692720484496313281611413791948146269883476552785364066407220461597616955274174616415183513858033847656384105264306978816.0000 | w   19439715966308399604357851578410862688764384019383039219369405315317881024324968207676318832621174758980430036193891057664.00000\n",
      "  iter    89/100 | loss  46628617197495764240158160791804536849340587342958406088277015938899851406642615151761917382404101348252010744256858605913984756939791812348702940189472006346437088594127743074116202100520974805043933023203141940560135071527791748276413174427398854450842111483997509860196352.0000 | w   36660623552006544453157112704603182938646465594146470801155325356665581245966416623643454878352429391082440520244134359890811706622869504.00000\n",
      "  iter    99/100 | loss  165833551244482362960204127610370249285319081531679665449914957105003947418589688743268375717754660174593558068255598820622114108575143698228015814998689898686580004790922902874431150292533399165225852781673629603004388844224809392955547791929250791393380296978340509326670885735882306661366471823930163200.0000 | w   69136880474553721681780957159045203951792046846777826097345168974826619560099335808361108708541163468618426205551575840203295792755798767459195450032128.00000\n"
     ]
    }
   ],
   "source": [
    "wopt, info_dict = minimize_via_gradient_descent(step_size=0.5);"
   ]
  },
  {
   "cell_type": "code",
   "execution_count": 31,
   "metadata": {},
   "outputs": [
    {
     "data": {
      "image/png": "[encoded data removed]",
      "text/plain": [
       "<Figure size 864x216 with 3 Axes>"
      ]
     },
     "metadata": {
      "needs_background": "light"
     },
     "output_type": "display_data"
    }
   ],
   "source": [
    "fig, axes = plt.subplots(nrows=1, ncols=3, sharex=True, sharey=False, figsize=(12,3))\n",
    "\n",
    "axes[0].plot(info_dict['trace_loss'], '.-');\n",
    "axes[0].set_title('loss');\n",
    "axes[1].plot(info_dict['trace_gradient'], '.-');\n",
    "axes[1].set_title('gradient');\n",
    "axes[2].plot(info_dict['trace_w'], '.-');\n",
    "axes[2].set_title('w');\n",
    "\n",
    "plt.xlim([0, 30]);"
   ]
  },
  {
   "cell_type": "markdown",
   "metadata": {},
   "source": [
    "With the larger step-size, we get degenerate results: the weight changes too much based upon the gradient, and ends up with values from which it cannot recover.  Loss grows uncontrollably, as the weight swings between very large and very small values on each iteration, without any convergence at all.  (**Note**: the plots here are basically meaningless, as the values are out of range for sensible plotting.)"
   ]
  }
 ],
 "metadata": {
  "kernelspec": {
   "display_name": "Python 3",
   "language": "python",
   "name": "python3"
  },
  "language_info": {
   "codemirror_mode": {
    "name": "ipython",
    "version": 3
   },
   "file_extension": ".py",
   "mimetype": "text/x-python",
   "name": "python",
   "nbconvert_exporter": "python",
   "pygments_lexer": "ipython3",
   "version": "3.7.6"
  }
 },
 "nbformat": 4,
 "nbformat_minor": 2
}
