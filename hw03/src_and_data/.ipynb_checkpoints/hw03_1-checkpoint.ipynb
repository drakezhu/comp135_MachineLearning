{
 "cells": [
  {
   "cell_type": "markdown",
   "metadata": {},
   "source": [
    "## Name and ID\n",
    "\n",
    "Le You 1306200"
   ]
  },
  {
   "cell_type": "markdown",
   "metadata": {},
   "source": [
    "## HW03 Code\n",
    "\n",
    "\n",
    "You will complete the following notebook, as described in the PDF for Homework 03 (included in the download with the starter code).  You will submit:\n",
    "1. This notebook file, along with your COLLABORATORS.txt file and the two tree images (PDFs generated using `graphviz` within the code), to the Gradescope link for code.\n",
    "2. A PDF of this notebook and all of its output, once it is completed, to the Gradescope link for the PDF.\n",
    "\n",
    "\n",
    "Please report any questions to the [class Piazza page](https://piazza.com/tufts/spring2020/comp135).\n",
    "\n",
    "### Import required libraries."
   ]
  },
  {
   "cell_type": "code",
   "execution_count": 1,
   "metadata": {},
   "outputs": [],
   "source": [
    "import os\n",
    "import numpy as np\n",
    "import pandas as pd\n",
    "\n",
    "import warnings\n",
    "\n",
    "import sklearn.linear_model\n",
    "import sklearn.tree\n",
    "import sklearn.metrics\n",
    "\n",
    "from matplotlib import pyplot as plt\n",
    "import seaborn as sns\n",
    "%matplotlib inline\n",
    "plt.style.use('seaborn') # pretty matplotlib plots\n",
    "\n",
    "import graphviz"
   ]
  },
  {
   "cell_type": "markdown",
   "metadata": {},
   "source": [
    "## Part One: Cancer-Risk Screening\n",
    "\n",
    "### 1.1: Compute true/false positives/negatives.\n",
    "\n",
    "Complete the following code."
   ]
  },
  {
   "cell_type": "code",
   "execution_count": 2,
   "metadata": {},
   "outputs": [],
   "source": [
    "def calc_TP_TN_FP_FN(ytrue_N, yhat_N):\n",
    "    ''' Compute counts of four possible outcomes of a binary classifier for evaluation.\n",
    "    \n",
    "    Args\n",
    "    ----\n",
    "    ytrue_N : 1D array of floats\n",
    "        Each entry represents the binary value (0 or 1) of 'true' label of one example\n",
    "        One entry per example in current dataset\n",
    "    yhat_N : 1D array of floats\n",
    "        Each entry represents a predicted binary value (either 0 or 1).\n",
    "        One entry per example in current dataset.\n",
    "        Needs to be same size as ytrue_N.\n",
    "\n",
    "    Returns\n",
    "    -------\n",
    "    TP : float\n",
    "        Number of true positives\n",
    "    TN : float\n",
    "        Number of true negatives\n",
    "    FP : float\n",
    "        Number of false positives\n",
    "    FN : float\n",
    "        Number of false negatives\n",
    "    '''\n",
    "    TP = 0.0\n",
    "    TN = 0.0\n",
    "    FP = 0.0\n",
    "    FN = 0.0\n",
    "    for i in range(len(ytrue_N)):\n",
    "        T = ytrue_N[i]\n",
    "        P = yhat_N[i]\n",
    "        if T == 1 and P == 1:\n",
    "            TP += 1\n",
    "        if T == 1 and P == 0:\n",
    "            FN += 1\n",
    "        if T == 0 and P == 0:\n",
    "            TN += 1\n",
    "        if T == 0 and P == 1:\n",
    "            FP += 1 \n",
    "    return TP, TN, FP, FN"
   ]
  },
  {
   "cell_type": "code",
   "execution_count": 3,
   "metadata": {},
   "outputs": [
    {
     "data": {
      "text/plain": [
       "(0.0, 0.0, 10.0, 0.0)"
      ]
     },
     "execution_count": 3,
     "metadata": {},
     "output_type": "execute_result"
    }
   ],
   "source": [
    "all0 = np.zeros(10)\n",
    "all1 = np.ones(10)\n",
    "calc_TP_TN_FP_FN(all0, all1)"
   ]
  },
  {
   "cell_type": "code",
   "execution_count": 4,
   "metadata": {},
   "outputs": [
    {
     "data": {
      "text/plain": [
       "(0.0, 0.0, 0.0, 10.0)"
      ]
     },
     "execution_count": 4,
     "metadata": {},
     "output_type": "execute_result"
    }
   ],
   "source": [
    "calc_TP_TN_FP_FN(all1, all0)"
   ]
  },
  {
   "cell_type": "code",
   "execution_count": 5,
   "metadata": {},
   "outputs": [
    {
     "data": {
      "text/plain": [
       "(10.0, 0.0, 0.0, 0.0)"
      ]
     },
     "execution_count": 5,
     "metadata": {},
     "output_type": "execute_result"
    }
   ],
   "source": [
    "calc_TP_TN_FP_FN(all1, all1)"
   ]
  },
  {
   "cell_type": "code",
   "execution_count": 6,
   "metadata": {},
   "outputs": [
    {
     "data": {
      "text/plain": [
       "(0.0, 10.0, 0.0, 0.0)"
      ]
     },
     "execution_count": 6,
     "metadata": {},
     "output_type": "execute_result"
    }
   ],
   "source": [
    "calc_TP_TN_FP_FN(all0, all0)"
   ]
  },
  {
   "cell_type": "markdown",
   "metadata": {},
   "source": [
    "### Supplied functions for later use\n",
    "\n",
    "***Do not*** edit the following functions.  They are already complete, and will be used in your later code."
   ]
  },
  {
   "cell_type": "code",
   "execution_count": 7,
   "metadata": {},
   "outputs": [],
   "source": [
    "def calc_perf_metrics_for_threshold(ytrue_N, yproba1_N, thresh):\n",
    "    ''' Compute performance metrics for a given probabilistic classifier and threshold\n",
    "    '''\n",
    "    tp, tn, fp, fn = calc_TP_TN_FP_FN(ytrue_N, yproba1_N >= thresh)\n",
    "    ## Compute ACC, TPR, TNR, etc.\n",
    "    acc = (tp + tn) / float(tp + tn + fp + fn + 1e-10)\n",
    "    tpr = tp / float(tp + fn + 1e-10)\n",
    "    tnr = tn / float(fp + tn + 1e-10)\n",
    "    ppv = tp / float(tp + fp + 1e-10)\n",
    "    npv = tn / float(tn + fn + 1e-10)\n",
    "    \n",
    "    return acc, tpr, tnr, ppv, npv\n",
    "\n",
    "def print_perf_metrics_for_threshold(ytrue_N, yproba1_N, thresh):\n",
    "    ''' Pretty print perf. metrics for a given probabilistic classifier and threshold\n",
    "    '''\n",
    "    acc, tpr, tnr, ppv, npv = calc_perf_metrics_for_threshold(ytrue_N, yproba1_N, thresh)\n",
    "    \n",
    "    ## Pretty print the results\n",
    "    print(\"%.3f ACC\" % acc)\n",
    "    print(\"%.3f TPR\" % tpr)\n",
    "    print(\"%.3f TNR\" % tnr)\n",
    "    print(\"%.3f PPV\" % ppv)\n",
    "    print(\"%.3f NPV\" % npv)"
   ]
  },
  {
   "cell_type": "code",
   "execution_count": 8,
   "metadata": {},
   "outputs": [],
   "source": [
    "def calc_confusion_matrix_for_threshold(ytrue_N, yproba1_N, thresh):\n",
    "    ''' Compute the confusion matrix for a given probabilistic classifier and threshold\n",
    "    \n",
    "    Args\n",
    "    ----\n",
    "    ytrue_N : 1D array of floats\n",
    "        Each entry represents the binary value (0 or 1) of 'true' label of one example\n",
    "        One entry per example in current dataset\n",
    "    yproba1_N : 1D array of floats\n",
    "        Each entry represents a probability (between 0 and 1) that correct label is positive (1)\n",
    "        One entry per example in current dataset\n",
    "        Needs to be same size as ytrue_N\n",
    "    thresh : float\n",
    "        Scalar threshold for converting probabilities into hard decisions\n",
    "        Calls an example \"positive\" if yproba1 >= thresh\n",
    "\n",
    "    Returns\n",
    "    -------\n",
    "    cm_df : Pandas DataFrame\n",
    "        Can be printed like print(cm_df) to easily display results\n",
    "    '''\n",
    "    cm = sklearn.metrics.confusion_matrix(ytrue_N, yproba1_N >= thresh)\n",
    "    cm_df = pd.DataFrame(data=cm, columns=[0, 1], index=[0, 1])\n",
    "    cm_df.columns.name = 'Predicted'\n",
    "    cm_df.index.name = 'True'\n",
    "    return cm_df"
   ]
  },
  {
   "cell_type": "code",
   "execution_count": 9,
   "metadata": {},
   "outputs": [],
   "source": [
    "def compute_perf_metrics_across_thresholds(ytrue_N, yproba1_N, thresh_grid=None):\n",
    "    ''' Compute common binary classifier performance metrics across many thresholds\n",
    "    \n",
    "    If no array of thresholds is provided, will use all 'unique' values\n",
    "    in the yproba1_N array to define all possible thresholds with different performance.\n",
    "    \n",
    "    Args\n",
    "    ----\n",
    "    ytrue_N : 1D array of floats\n",
    "        Each entry represents the binary value (0 or 1) of 'true' label of one example\n",
    "        One entry per example in current dataset\n",
    "    yproba1_N : 1D array of floats\n",
    "        Each entry represents a probability (between 0 and 1) that correct label is positive (1)\n",
    "        One entry per example in current dataset\n",
    "\n",
    "    Returns\n",
    "    -------\n",
    "    thresh_grid : 1D array of floats\n",
    "        One entry for each possible threshold\n",
    "    perf_dict : dict, with key, value pairs:\n",
    "        * 'acc' : 1D array of accuracy values (one per threshold)\n",
    "        * 'ppv' : 1D array of positive predictive values (one per threshold)\n",
    "        * 'npv' : 1D array of negative predictive values (one per threshold)\n",
    "        * 'tpr' : 1D array of true positive rates (one per threshold)\n",
    "        * 'tnr' : 1D array of true negative rates (one per threshold)\n",
    "    '''\n",
    "    if thresh_grid is None:\n",
    "        bin_edges = np.linspace(0, 1.001, 21)\n",
    "        thresh_grid = np.sort(np.hstack([bin_edges, np.unique(yproba1_N)]))\n",
    "    tpr_grid = np.zeros_like(thresh_grid)\n",
    "    tnr_grid = np.zeros_like(thresh_grid)\n",
    "    ppv_grid = np.zeros_like(thresh_grid)\n",
    "    npv_grid = np.zeros_like(thresh_grid)\n",
    "    acc_grid = np.zeros_like(thresh_grid)\n",
    "    for tt, thresh in enumerate(thresh_grid):\n",
    "        # Apply specific threshold to convert probas into hard binary values (0 or 1)\n",
    "        # Then count number of true positives, true negatives, etc.\n",
    "        # Then compute metrics like accuracy and true positive rate\n",
    "        acc, tpr, tnr, ppv, npv = calc_perf_metrics_for_threshold(ytrue_N, yproba1_N, thresh)\n",
    "        acc_grid[tt] = acc\n",
    "        tpr_grid[tt] = tpr\n",
    "        tnr_grid[tt] = tnr\n",
    "        ppv_grid[tt] = ppv\n",
    "        npv_grid[tt] = npv\n",
    "    return thresh_grid, dict(\n",
    "        acc=acc_grid,\n",
    "        tpr=tpr_grid,\n",
    "        tnr=tnr_grid,\n",
    "        ppv=ppv_grid,\n",
    "        npv=npv_grid)\n",
    "\n",
    "def make_plot_perf_vs_threshold(ytrue_N, yproba1_N, bin_edges=np.linspace(0, 1, 21)):\n",
    "    ''' Make pretty plot of binary classifier performance as threshold increases\n",
    "    \n",
    "    Produces a plot with 3 rows:\n",
    "    * top row: hist of predicted probabilities for negative examples (shaded red)\n",
    "    * middle row: hist of predicted probabilities for positive examples (shaded blue)\n",
    "    * bottom row: line plots of metrics that require hard decisions (ACC, TPR, TNR, etc.)\n",
    "    '''\n",
    "    fig, axes = plt.subplots(nrows=3, ncols=1, figsize=(12, 8))\n",
    "    sns.distplot(\n",
    "        yproba1_N[ytrue_N == 0],\n",
    "        color='r', bins=bin_edges, kde=False, rug=True, ax=axes[0]);\n",
    "    sns.distplot(\n",
    "        yproba1_N[ytrue_N == 1],\n",
    "        color='b', bins=bin_edges, kde=False, rug=True, ax=axes[1]);\n",
    "\n",
    "    thresh_grid, perf_grid = compute_perf_metrics_across_thresholds(ytrue_N, yproba1_N)\n",
    "    axes[2].plot(thresh_grid, perf_grid['acc'], 'k-', label='accuracy')\n",
    "    axes[2].plot(thresh_grid, perf_grid['tpr'], 'b-', label='TPR (recall/sensitivity)')\n",
    "    axes[2].plot(thresh_grid, perf_grid['tnr'], 'g-', label='TNR (specificity)')\n",
    "    axes[2].plot(thresh_grid, perf_grid['ppv'], 'c-', label='PPV (precision)')\n",
    "    axes[2].plot(thresh_grid, perf_grid['npv'], 'm-', label='NPV')\n",
    "    \n",
    "    axes[2].legend()\n",
    "    axes[2].set_ylim([0, 1])"
   ]
  },
  {
   "cell_type": "markdown",
   "metadata": {},
   "source": [
    "### Load the dataset.\n",
    "\n",
    "The following should ***not*** be modified.  After it runs, the various arrays it creates will contain the 2- or 3-feature input datasets."
   ]
  },
  {
   "cell_type": "code",
   "execution_count": 10,
   "metadata": {},
   "outputs": [],
   "source": [
    "# Load 3 feature version of x arrays\n",
    "x_tr_M3 = np.loadtxt('./data_cancer/x_train.csv', delimiter=',', skiprows=1)\n",
    "x_va_N3 = np.loadtxt('./data_cancer/x_valid.csv', delimiter=',', skiprows=1)\n",
    "x_te_N3 = np.loadtxt('./data_cancer/x_test.csv', delimiter=',', skiprows=1)\n",
    "\n",
    "# 2 feature version of x arrays\n",
    "x_tr_M2 = x_tr_M3[:, :2].copy()\n",
    "x_va_N2 = x_va_N3[:, :2].copy()\n",
    "x_te_N2 = x_te_N3[:, :2].copy()"
   ]
  },
  {
   "cell_type": "code",
   "execution_count": 11,
   "metadata": {},
   "outputs": [],
   "source": [
    "y_tr_M = np.loadtxt('./data_cancer/y_train.csv', delimiter=',', skiprows=1)\n",
    "y_va_N = np.loadtxt('./data_cancer/y_valid.csv', delimiter=',', skiprows=1)\n",
    "y_te_N = np.loadtxt('./data_cancer/y_test.csv', delimiter=',', skiprows=1)"
   ]
  },
  {
   "cell_type": "markdown",
   "metadata": {},
   "source": [
    "### 1.2: Compute the fraction of patients with cancer.\n",
    "\n",
    "Complete the following code.  Your solution needs to ***compute*** these values from the training, validation, and testing sets (i.e., don't simply hand-count and print the values)."
   ]
  },
  {
   "cell_type": "code",
   "execution_count": 12,
   "metadata": {},
   "outputs": [
    {
     "name": "stdout",
     "output_type": "stream",
     "text": [
      "Fraction with cancer in TRAIN: 0.141\n",
      "Fraction with cancer in VALID: 0.139\n",
      "Fraction with cancer in TEST : 0.139\n"
     ]
    }
   ],
   "source": [
    "def fraction_with_cancer(data):\n",
    "    cancer = 0.0\n",
    "    non_cancer = 0.0\n",
    "    rate = 0.0\n",
    "    for x in data:\n",
    "        if x ==1 :\n",
    "            cancer += 1\n",
    "        else:\n",
    "            non_cancer += 1\n",
    "    rate = cancer/(cancer + non_cancer)\n",
    "    return rate\n",
    "print(\"Fraction with cancer in TRAIN: %.3f\" % fraction_with_cancer(y_tr_M)) #TODO: modify what is printed here.\n",
    "print(\"Fraction with cancer in VALID: %.3f\" % fraction_with_cancer(y_va_N))\n",
    "print(\"Fraction with cancer in TEST : %.3f\" % fraction_with_cancer(y_te_N))"
   ]
  },
  {
   "cell_type": "markdown",
   "metadata": {},
   "source": [
    "### 1.3: The predict-0-always baseline\n",
    "\n",
    "#### (a) Compute the accuracy of the always-0 classifier.\n",
    "\n",
    "Complete the code to compute and print the accuracy of the always-0 classifier on validation and test outputs."
   ]
  },
  {
   "cell_type": "code",
   "execution_count": 13,
   "metadata": {},
   "outputs": [
    {
     "name": "stdout",
     "output_type": "stream",
     "text": [
      "Always-0: accuracy on VALID: 0.861\n",
      "Always-0: accuracy on TEST : 0.861\n"
     ]
    }
   ],
   "source": [
    "print(\"Always-0: accuracy on VALID: %.3f\" % (1-fraction_with_cancer(y_va_N))) # TODO edit values!\n",
    "print(\"Always-0: accuracy on TEST : %.3f\" % (1-fraction_with_cancer(y_te_N)))"
   ]
  },
  {
   "cell_type": "markdown",
   "metadata": {},
   "source": [
    "#### (b) Print a confusion matrix for the always-0 classifier.\n",
    "\n",
    "Add code below to generate a confusion matrix for the always-0 classifier on the validation set."
   ]
  },
  {
   "cell_type": "code",
   "execution_count": 14,
   "metadata": {},
   "outputs": [
    {
     "name": "stdout",
     "output_type": "stream",
     "text": [
      "Predicted    0  1\n",
      "True             \n",
      "0          155  0\n",
      "1           25  0\n"
     ]
    }
   ],
   "source": [
    "# TODO call print(calc_confusion_matrix_for_threshold(...))\n",
    "all_zeros_va = np.zeros(len(y_va_N))\n",
    "print(calc_confusion_matrix_for_threshold(y_va_N,all_zeros_va,0.861))"
   ]
  },
  {
   "cell_type": "markdown",
   "metadata": {},
   "source": [
    "#### (c) Reflect on the accuracy of the always-0 classifier.\n",
    "\n",
    "**Answer**: TODO\n",
    "We can't use this classifier. Because it always returns a negative prediction and has nothing to do with the input value. As a result, it seems that the overall accuracy is good, but the accuracy of positive data is 0. In this condition, if a patient had had a cancer, it will not be diagnosed by this classifier when the prediction always shows 0."
   ]
  },
  {
   "cell_type": "markdown",
   "metadata": {},
   "source": [
    "#### (d) Analyze the various costs of using the always-0 classifier.\n",
    "\n",
    "\n",
    "**Answer**: TODO\n",
    "There are two types of mistakes: False Positive(FP) and False Negative(FN). In this classifier, it only returns negative. So, it only has FN mistake./ When it comes to the disease diagnosis, FP will cost some extra time and money. However, FN mistake will be fatal for patients with specific disease which uses this classifier to diagnosis, because it is likely to delay, or even miss, the chance of curing the patients in an optimal period. As a result, this classifier is not suitable(or safe) for medical diagnosis."
   ]
  },
  {
   "cell_type": "markdown",
   "metadata": {},
   "source": [
    "### 1.4: Logistic Regression\n",
    "\n",
    "#### (a) Create a set of `LogisticRegression` models.\n",
    "\n",
    "Each model will use a different control parameter, `C`, and each will be fit to 2-feature data.  Probabilistic predictions will be made on both training set and validation set inputs, and logistic-loss for each will be recorded."
   ]
  },
  {
   "cell_type": "code",
   "execution_count": 15,
   "metadata": {},
   "outputs": [],
   "source": [
    "tr_loss_list = list()\n",
    "va_loss_list = list()\n",
    "\n",
    "# TODO fit, predict_proba, and evaluate logistic loss    \n",
    "# Record the best model here\n",
    "from sklearn.linear_model import LogisticRegression\n",
    "def logistic_loss(C, x_tr, y_tr, x_va, y_va):\n",
    "    log_reg = LogisticRegression(C=C,solver='liblinear').fit(x_tr, y_tr)\n",
    "    pred_tr = log_reg.predict_proba(x_tr)\n",
    "    pred_va = log_reg.predict_proba(x_va)\n",
    "    return sklearn.metrics.log_loss(y_tr,pred_tr),sklearn.metrics.log_loss(y_va,pred_va)"
   ]
  },
  {
   "cell_type": "code",
   "execution_count": 16,
   "metadata": {},
   "outputs": [],
   "source": [
    "C_grid = np.logspace(-9, 6, 31)\n",
    "for C in C_grid:\n",
    "    tr_loss,va_loss = logistic_loss(C,x_tr_M2,y_tr_M,x_va_N2,y_va_N)\n",
    "    tr_loss_list.append(tr_loss)\n",
    "    va_loss_list.append(va_loss)"
   ]
  },
  {
   "cell_type": "code",
   "execution_count": 17,
   "metadata": {},
   "outputs": [
    {
     "data": {
      "text/plain": [
       "[0.6929423280920441,\n",
       " 0.6925002464618575,\n",
       " 0.6911100154220391,\n",
       " 0.6867899689992202,\n",
       " 0.6738523046443242,\n",
       " 0.6391085559729428,\n",
       " 0.5686923562191202,\n",
       " 0.48555129089409615,\n",
       " 0.43638718610755234,\n",
       " 0.42107777358597426,\n",
       " 0.41814733757024947,\n",
       " 0.41769058262040804,\n",
       " 0.4175649089451484,\n",
       " 0.41737522554716705,\n",
       " 0.4168394863282041,\n",
       " 0.4153463889799307,\n",
       " 0.41180155203322877,\n",
       " 0.4042947151186308,\n",
       " 0.38935133917732717,\n",
       " 0.36929855186858007,\n",
       " 0.3565564997527291,\n",
       " 0.3548962589348302,\n",
       " 0.356692199686905,\n",
       " 0.35779419262307804,\n",
       " 0.3582260814049123,\n",
       " 0.3583722411169396,\n",
       " 0.3584194644090603,\n",
       " 0.35843449957007245,\n",
       " 0.3584392643377948,\n",
       " 0.35844077211439695,\n",
       " 0.35844124901785757]"
      ]
     },
     "execution_count": 17,
     "metadata": {},
     "output_type": "execute_result"
    }
   ],
   "source": [
    "va_loss_list"
   ]
  },
  {
   "cell_type": "markdown",
   "metadata": {},
   "source": [
    "#### Plot logistic loss (y-axis) vs. C (x-axis) on the training set and validation set.\n",
    "\n",
    "The best values for `C` and the loss should be printed."
   ]
  },
  {
   "cell_type": "code",
   "execution_count": 18,
   "metadata": {},
   "outputs": [
    {
     "data": {
      "image/png": "[encoded data removed]",
      "text/plain": [
       "<Figure size 432x288 with 1 Axes>"
      ]
     },
     "metadata": {
      "needs_background": "light"
     },
     "output_type": "display_data"
    },
    {
     "name": "stdout",
     "output_type": "stream",
     "text": [
      "Best C-value for LR with 2-feature data: 31.623\n",
      "Validation set log-loss at best C-value: 0.3549\n"
     ]
    }
   ],
   "source": [
    "# TODO make plot\n",
    "plt.xlabel('log10(C)');\n",
    "plt.ylabel('logistic loss');\n",
    "plt.ylim([0.0, 0.7]);\n",
    "\n",
    "# TODO add legend\n",
    "# plt.legend(...);\n",
    "plt.xscale('log')\n",
    "plt.plot(C_grid,va_loss_list, color='red',label = \"Validation Loss\")\n",
    "plt.plot(C_grid,tr_loss_list, color='blue',label = \"Training Loss\")\n",
    "plt.legend()\n",
    "plt.show()\n",
    "print(\"Best C-value for LR with 2-feature data: %.3f\" % C_grid[np.argmin(va_loss_list)]) # TODO\n",
    "print(\"Validation set log-loss at best C-value: %.4f\" % min(va_loss_list))"
   ]
  },
  {
   "cell_type": "markdown",
   "metadata": {},
   "source": [
    "#### (b) Plot the performance of the predictions made by the best classifier from step (a) on the validation set."
   ]
  },
  {
   "cell_type": "code",
   "execution_count": 19,
   "metadata": {},
   "outputs": [
    {
     "data": {
      "image/png": "[encoded data removed]",
      "text/plain": [
       "<Figure size 864x576 with 3 Axes>"
      ]
     },
     "metadata": {
      "needs_background": "light"
     },
     "output_type": "display_data"
    }
   ],
   "source": [
    "# TODO call make_plot_perf_vs_threshold(...)\n",
    "best_C2 = C_grid[np.argmin(va_loss_list)]\n",
    "log_reg_f2 = LogisticRegression(C=best_C2,solver='liblinear').fit(x_tr_M2, y_tr_M)\n",
    "yproba = log_reg_f2.predict_proba(x_va_N2)\n",
    "make_plot_perf_vs_threshold(y_va_N, yproba[:,1])"
   ]
  },
  {
   "cell_type": "markdown",
   "metadata": {},
   "source": [
    "#### (c) Model fitting with 3-feature data\n",
    "\n",
    "Repeat the model generation from **1.4 (a)**, using the full 3-feature data."
   ]
  },
  {
   "cell_type": "code",
   "execution_count": 20,
   "metadata": {},
   "outputs": [],
   "source": [
    "# TODO like 1.4 (a), but with 3 features\n",
    "tr_loss_list_3f = list()\n",
    "va_loss_list_3f = list()\n",
    "C_grid = np.logspace(-9, 6, 31)\n",
    "for C in C_grid:\n",
    "    tr_loss_3f,va_loss_3f = logistic_loss(C,x_tr_M3,y_tr_M,x_va_N3,y_va_N)\n",
    "    tr_loss_list_3f.append(tr_loss_3f)\n",
    "    va_loss_list_3f.append(va_loss_3f)"
   ]
  },
  {
   "cell_type": "markdown",
   "metadata": {},
   "source": [
    "#### Plot logistic loss (y-axis) vs. C (x-axis) for the 3-feature classifiers on the training set and validation set.\n",
    "\n",
    "Again, the best values for `C` and the loss should be printed."
   ]
  },
  {
   "cell_type": "code",
   "execution_count": 21,
   "metadata": {},
   "outputs": [
    {
     "data": {
      "image/png": "[encoded data removed]",
      "text/plain": [
       "<Figure size 432x288 with 1 Axes>"
      ]
     },
     "metadata": {
      "needs_background": "light"
     },
     "output_type": "display_data"
    },
    {
     "name": "stdout",
     "output_type": "stream",
     "text": [
      "Best C-value for LR with 2-feature data: 1000000.000\n",
      "Validation set log-loss at best C-value: 0.2810\n"
     ]
    }
   ],
   "source": [
    "# TODO make plot\n",
    "plt.xlabel('log10(C)');\n",
    "plt.ylabel('logistic loss');\n",
    "plt.ylim([0.0, 0.7]);\n",
    "\n",
    "# TODO add legend\n",
    "# plt.legend(...);\n",
    "plt.xscale('log')\n",
    "plt.plot(C_grid,va_loss_list_3f, color='red',label = \"Validation Loss\")\n",
    "plt.plot(C_grid,tr_loss_list_3f, color='blue',label = \"Training Loss\")\n",
    "plt.legend()\n",
    "plt.show()\n",
    "print(\"Best C-value for LR with 2-feature data: %.3f\" % C_grid[np.argmin(va_loss_list_3f)]) # TODO\n",
    "print(\"Validation set log-loss at best C-value: %.4f\" % min(va_loss_list_3f))"
   ]
  },
  {
   "cell_type": "markdown",
   "metadata": {},
   "source": [
    "#### Plot the performance of the predictions made by the best 3-valued classifier on the validation set."
   ]
  },
  {
   "cell_type": "code",
   "execution_count": 22,
   "metadata": {},
   "outputs": [
    {
     "data": {
      "image/png": "[encoded data removed]",
      "text/plain": [
       "<Figure size 864x576 with 3 Axes>"
      ]
     },
     "metadata": {
      "needs_background": "light"
     },
     "output_type": "display_data"
    }
   ],
   "source": [
    "# TODO call make_plot_perf_vs_threshold(...)\n",
    "best_C3 = C_grid[np.argmin(va_loss_list_3f)]\n",
    "log_reg_3f = LogisticRegression(C=best_C3,solver='liblinear').fit(x_tr_M3, y_tr_M)\n",
    "yproba_3f = log_reg_3f.predict_proba(x_va_N3)\n",
    "make_plot_perf_vs_threshold(y_va_N, yproba_3f[:,1])"
   ]
  },
  {
   "cell_type": "markdown",
   "metadata": {},
   "source": [
    "### 1.5: ROC Curves\n",
    "\n",
    "These curves allow us to compare model performance in terms of trade-offs between false positive and true positive results.\n",
    "\n",
    "#### (a) Plot ROC curves on the validation set.\n",
    "\n",
    "There should be two curves in the plot, one for each of the best two classifiers from prior steps."
   ]
  },
  {
   "cell_type": "code",
   "execution_count": 23,
   "metadata": {},
   "outputs": [
    {
     "data": {
      "image/png": "[encoded data removed]",
      "text/plain": [
       "<Figure size 432x288 with 1 Axes>"
      ]
     },
     "metadata": {
      "needs_background": "light"
     },
     "output_type": "display_data"
    }
   ],
   "source": [
    "# TODO something like: fpr, tpr, thr = sklearn.metrics.roc_curve(...)\n",
    "fpr_va_2, tpr_va_2, thr_va_2 = sklearn.metrics.roc_curve(y_va_N, yproba[:,1])\n",
    "fpr_va_3, tpr_va_3, thr_va_3 = sklearn.metrics.roc_curve(y_va_N, yproba_3f[:,1])\n",
    "plt.plot(fpr_va_2,tpr_va_2, color='red',label = \"2 feature validation dataset\")\n",
    "plt.plot(fpr_va_3,tpr_va_3, color='blue',label = \"3 feature validation dataset\")\n",
    "\n",
    "plt.ylim([0, 1]);\n",
    "plt.xlabel(\"False Postive rate (FPR = 1 - TPR)\");\n",
    "plt.ylabel(\"True Postive rate (TPR)\");\n",
    "\n",
    "plt.legend()\n",
    "plt.show()"
   ]
  },
  {
   "cell_type": "markdown",
   "metadata": {},
   "source": [
    "#### (b) Plot ROC curves on the test set.\n",
    "\n",
    "There should be two curves in the plot, one for each of the best two classifiers from prior steps."
   ]
  },
  {
   "cell_type": "code",
   "execution_count": 24,
   "metadata": {},
   "outputs": [
    {
     "data": {
      "image/png": "[encoded data removed]",
      "text/plain": [
       "<Figure size 432x288 with 1 Axes>"
      ]
     },
     "metadata": {
      "needs_background": "light"
     },
     "output_type": "display_data"
    }
   ],
   "source": [
    "# TODO something like: fpr, tpr, thr = sklearn.metrics.roc_curve(...)\n",
    "yproba_t_2f = log_reg_f2.predict_proba(x_te_N2)\n",
    "yproba_t_3f = log_reg_3f.predict_proba(x_te_N3)\n",
    "\n",
    "fpr_te_2, tpr_te_2, thr_te_2 = sklearn.metrics.roc_curve(y_te_N, yproba_t_2f[:,1])\n",
    "fpr_te_3, tpr_te_3, thr_te_3 = sklearn.metrics.roc_curve(y_te_N, yproba_t_3f[:,1])\n",
    "plt.plot(fpr_te_2,tpr_te_2, color='red',label = \"2 feature test dataset\")\n",
    "plt.plot(fpr_te_3,tpr_te_3, color='blue',label = \"3 feature test dataset\")\n",
    "\n",
    "plt.ylim([0, 1]);\n",
    "plt.xlabel(\"False Postive rate (FPR = 1 - TPR)\");\n",
    "plt.ylabel(\"True Postive rate (TPR)\");\n",
    "plt.legend()\n",
    "plt.show()"
   ]
  },
  {
   "cell_type": "markdown",
   "metadata": {},
   "source": [
    "#### (c) Analyze the results shown in both the above plots, to compare classifier performance."
   ]
  },
  {
   "cell_type": "markdown",
   "metadata": {},
   "source": [
    "**Answer**: TODO\n",
    "Based on the ROC curve, 3-features logistic regression model dominates in most condtions when it is compared with 2-features logistic regression model. Onlu, when TPR is about 0.9, the performance of two models is quite smiliar. As a result, I think 3-features is better in this classifier depending on the ROC curve."
   ]
  },
  {
   "cell_type": "markdown",
   "metadata": {},
   "source": [
    "### 1.6: Selecting a decision threshold\n",
    "\n",
    "#### (a) Using default 0.5 threshold. \n",
    "\n",
    "Generate a confusion matrix for the best 3-feature logistic model on the test set, using threshold 0.5."
   ]
  },
  {
   "cell_type": "code",
   "execution_count": 25,
   "metadata": {},
   "outputs": [
    {
     "name": "stdout",
     "output_type": "stream",
     "text": [
      "ON THE VALIDATION SET:\n",
      "Chosen best thr = 0.5000\n",
      "\n",
      "ON THE TEST SET:\n",
      "Predicted    0   1\n",
      "True              \n",
      "0          152   3\n",
      "1           15  10\n",
      "\n",
      "0.900 ACC\n",
      "0.400 TPR\n",
      "0.981 TNR\n",
      "0.769 PPV\n",
      "0.910 NPV\n",
      "None\n"
     ]
    }
   ],
   "source": [
    "best_thr = 0.5\n",
    "\n",
    "\n",
    "print(\"ON THE VALIDATION SET:\")\n",
    "print(\"Chosen best thr = %.4f\" % best_thr)\n",
    "print(\"\")\n",
    "print(\"ON THE TEST SET:\")\n",
    "# TODO: print(calc_confusion_matrix_for_threshold(...))\n",
    "print(calc_confusion_matrix_for_threshold(y_te_N, yproba_t_3f[:,1], best_thr))\n",
    "print(\"\")\n",
    "# TODO: print(print_perf_metrics_for_threshold(...))\n",
    "print(print_perf_metrics_for_threshold(y_te_N, yproba_t_3f[:,1], best_thr))"
   ]
  },
  {
   "cell_type": "markdown",
   "metadata": {},
   "source": [
    "#### (b) Pick a threshold to maximize TPR, while ensuring PPV >= 0.98.\n",
    "\n",
    "After finding the best threshold on the validation set, plot its confusion matrix and print its various performance metrics, for the test set."
   ]
  },
  {
   "cell_type": "code",
   "execution_count": 26,
   "metadata": {},
   "outputs": [
    {
     "data": {
      "text/plain": [
       "array([0.13888889, 0.13888889, 0.1396648 , 0.14044944, 0.14124294,\n",
       "       0.14204545, 0.14285714, 0.14367816, 0.14450867, 0.14534884,\n",
       "       0.14619883, 0.14705882, 0.14792899, 0.14880952, 0.1497006 ,\n",
       "       0.15060241, 0.15151515, 0.15243902, 0.15337423, 0.15432099,\n",
       "       0.1552795 , 0.15625   , 0.1572327 , 0.15822785, 0.15923567,\n",
       "       0.16025641, 0.16129032, 0.16233766, 0.16339869, 0.16447368,\n",
       "       0.16556291, 0.16666667, 0.16778523, 0.16891892, 0.17006803,\n",
       "       0.17123288, 0.17241379, 0.17361111, 0.17482517, 0.17605634,\n",
       "       0.17730496, 0.17857143, 0.17985612, 0.18115942, 0.18248175,\n",
       "       0.18382353, 0.18518519, 0.17910448, 0.18045113, 0.18181818,\n",
       "       0.18320611, 0.18461538, 0.18604651, 0.1875    , 0.18897638,\n",
       "       0.19047619, 0.192     , 0.19354839, 0.19512195, 0.19672131,\n",
       "       0.19834711, 0.2       , 0.2       , 0.20168067, 0.20338983,\n",
       "       0.20512821, 0.19827586, 0.2       , 0.20175439, 0.20353982,\n",
       "       0.20535714, 0.1981982 , 0.2       , 0.20183486, 0.2037037 ,\n",
       "       0.20560748, 0.20754717, 0.20952381, 0.21153846, 0.2038835 ,\n",
       "       0.20588235, 0.20792079, 0.21      , 0.21212121, 0.21428571,\n",
       "       0.21649485, 0.21875   , 0.22105263, 0.22340426, 0.22580645,\n",
       "       0.22826087, 0.23076923, 0.23333333, 0.23595506, 0.23863636,\n",
       "       0.22988506, 0.23255814, 0.23529412, 0.23809524, 0.24096386,\n",
       "       0.24390244, 0.24691358, 0.25      , 0.25316456, 0.25641026,\n",
       "       0.25641026, 0.25974026, 0.26315789, 0.26666667, 0.27027027,\n",
       "       0.2739726 , 0.27777778, 0.28169014, 0.28571429, 0.28985507,\n",
       "       0.29411765, 0.29850746, 0.3030303 , 0.30769231, 0.3125    ,\n",
       "       0.31746032, 0.32258065, 0.32786885, 0.33333333, 0.33898305,\n",
       "       0.34482759, 0.34482759, 0.35087719, 0.35714286, 0.36363636,\n",
       "       0.37037037, 0.37735849, 0.38461538, 0.39215686, 0.4       ,\n",
       "       0.40816327, 0.41666667, 0.42553191, 0.43478261, 0.44444444,\n",
       "       0.44444444, 0.45454545, 0.44186047, 0.45238095, 0.46341463,\n",
       "       0.45      , 0.46153846, 0.47368421, 0.48648649, 0.48648649,\n",
       "       0.5       , 0.48571429, 0.5       , 0.51515152, 0.53125   ,\n",
       "       0.5483871 , 0.56666667, 0.5862069 , 0.57142857, 0.55555556,\n",
       "       0.57692308, 0.57692308, 0.6       , 0.58333333, 0.60869565,\n",
       "       0.63636364, 0.61904762, 0.6       , 0.63157895, 0.63157895,\n",
       "       0.66666667, 0.70588235, 0.6875    , 0.73333333, 0.78571429,\n",
       "       0.84615385, 0.84615385, 0.83333333, 0.90909091, 0.9       ,\n",
       "       0.88888889, 0.88888889, 0.875     , 0.875     , 0.85714286,\n",
       "       0.85714286, 0.83333333, 0.83333333, 1.        , 1.        ,\n",
       "       1.        , 1.        , 1.        , 1.        , 1.        ,\n",
       "       1.        , 1.        , 1.        , 0.        , 0.        ,\n",
       "       0.        ])"
      ]
     },
     "execution_count": 26,
     "metadata": {},
     "output_type": "execute_result"
    }
   ],
   "source": [
    "thresh_grid, perf_grid = compute_perf_metrics_across_thresholds(y_va_N, yproba_3f[:,1])\n",
    "perf_grid[\"ppv\"]"
   ]
  },
  {
   "cell_type": "code",
   "execution_count": 27,
   "metadata": {},
   "outputs": [
    {
     "name": "stdout",
     "output_type": "stream",
     "text": [
      "ON THE VALIDATION SET:\n",
      "Chosen best thr = 0.6290\n",
      "\n",
      "ON THE TEST SET:\n",
      "Predicted    0  1\n",
      "True             \n",
      "0          155  0\n",
      "1           20  5\n",
      "\n",
      "0.889 ACC\n",
      "0.200 TPR\n",
      "1.000 TNR\n",
      "1.000 PPV\n",
      "0.886 NPV\n",
      "None\n"
     ]
    }
   ],
   "source": [
    "# TODO thresh_grid, perf_grid = compute_perf_metrics_across_thresholds(...)\n",
    "thresh_grid, perf_grid = compute_perf_metrics_across_thresholds(y_va_N, yproba_3f[:,1])\n",
    "# TODO Find threshold that makes TPR as large as possible, while satisfying PPV >= 0.98\n",
    "thr_possible = thresh_grid[perf_grid['ppv']>= 0.98]\n",
    "tpr_possible = perf_grid['tpr'][perf_grid['ppv']>= 0.98]\n",
    "idx = np.where(tpr_possible == max(tpr_possible))\n",
    "best_thr = thr_possible[idx]\n",
    "\n",
    "\n",
    "\n",
    "print(\"ON THE VALIDATION SET:\")\n",
    "print(\"Chosen best thr = %.4f\" % best_thr)\n",
    "print(\"\")\n",
    "print(\"ON THE TEST SET:\")\n",
    "# TODO: print(calc_confusion_matrix_for_threshold(...))\n",
    "print(calc_confusion_matrix_for_threshold(y_te_N, yproba_t_3f[:,1], best_thr))\n",
    "print(\"\")\n",
    "# TODO: print(print_perf_metrics_for_threshold(...))\n",
    "print(print_perf_metrics_for_threshold(y_te_N, yproba_t_3f[:,1], best_thr))"
   ]
  },
  {
   "cell_type": "markdown",
   "metadata": {},
   "source": [
    "#### (c) Pick a threshold to maximize PPV, while ensuring TPR >= 0.98.\n",
    "\n",
    "After finding the best threshold on the validation set, plot its confusion matrix and print its various performance metrics, for the test set."
   ]
  },
  {
   "cell_type": "code",
   "execution_count": 28,
   "metadata": {},
   "outputs": [
    {
     "name": "stdout",
     "output_type": "stream",
     "text": [
      "ON THE VALIDATION SET:\n",
      "Chosen best thr = 0.0300\n",
      "\n",
      "ON THE TEST SET:\n",
      "Predicted   0   1\n",
      "True             \n",
      "0          57  98\n",
      "1           0  25\n",
      "\n",
      "0.456 ACC\n",
      "1.000 TPR\n",
      "0.368 TNR\n",
      "0.203 PPV\n",
      "1.000 NPV\n",
      "None\n"
     ]
    }
   ],
   "source": [
    "# TODO thresh_grid, perf_grid = compute_perf_metrics_across_thresholds(...)\n",
    "thresh_grid, perf_grid = compute_perf_metrics_across_thresholds(y_va_N, yproba_3f[:,1])\n",
    "# TODO Find threshold that makes PPV as large as possible, while satisfying TPR >= 0.98\n",
    "thr_possible = thresh_grid[perf_grid['tpr']>= 0.98]\n",
    "ppv_possible = perf_grid['ppv'][perf_grid['tpr']>= 0.98]\n",
    "idx_tpr = np.where(ppv_possible == max(ppv_possible))\n",
    "best_thr_tpr = thr_possible[idx_tpr]\n",
    "\n",
    "\n",
    "print(\"ON THE VALIDATION SET:\")\n",
    "print(\"Chosen best thr = %.4f\" % best_thr_tpr) # TODO\n",
    "print(\"\")\n",
    "print(\"ON THE TEST SET:\")\n",
    "# TODO: print(calc_confusion_matrix_for_threshold(...))\n",
    "print(calc_confusion_matrix_for_threshold(y_te_N, yproba_t_3f[:,1], best_thr_tpr))\n",
    "print(\"\")\n",
    "# TODO: print(print_perf_metrics_for_threshold(...))\n",
    "print(print_perf_metrics_for_threshold(y_te_N, yproba_t_3f[:,1], best_thr_tpr))"
   ]
  },
  {
   "cell_type": "markdown",
   "metadata": {},
   "source": [
    "#### (d) Compare the confusion matrices from (a)–(c) to analyze the different thresholds."
   ]
  },
  {
   "cell_type": "markdown",
   "metadata": {},
   "source": [
    "**Answer**: TODO\n",
    "All of the 3 thresholds have some advantages and disadvantages. However, when it comes to medical diagnosis, we need to avoid even the least mistakes at all costs. The threshold in (c) is the best choice in this premise. The TPR in this threshold equals to nearly 100%, which means the patients who have had cancer will not be missed. Based on this, it should be the best threshold for medical diagnosis."
   ]
  },
  {
   "cell_type": "markdown",
   "metadata": {},
   "source": [
    "#### (e) How many biopsies can be avoided using the best threshold for the classifier?"
   ]
  },
  {
   "cell_type": "markdown",
   "metadata": {},
   "source": [
    "**Answer**: TODO\n",
    "57 biopsies can be avoided using threshold in (c). The avoidance rate is 57/180 = 31.7%"
   ]
  },
  {
   "cell_type": "markdown",
   "metadata": {},
   "source": [
    "## Part Two: Decision Trees\n",
    "\n",
    "You should start by computing the two heuristic values for the toy data described in the assignment handout. You should then load the two versions of the abalone data, compute the two heuristic values on features (for the simplified data), and then build decision trees for each set of data."
   ]
  },
  {
   "cell_type": "markdown",
   "metadata": {},
   "source": [
    "### 2.1 Compute both heuristics for toy data."
   ]
  },
  {
   "cell_type": "markdown",
   "metadata": {},
   "source": [
    "#### (a) Compute the counting-based heuristic, and order the features by it."
   ]
  },
  {
   "cell_type": "code",
   "execution_count": 29,
   "metadata": {},
   "outputs": [
    {
     "name": "stdout",
     "output_type": "stream",
     "text": [
      "A: 6/8\n",
      "B: 6/8\n"
     ]
    }
   ],
   "source": [
    "# TODO\n",
    "#use 1 represent o, 0 represent x\n",
    "tree_A = np.array([[1,1],[0,0,0,0,1,1]])\n",
    "tree_B = np.array([[1,1,1,0],[1,0,0,0]])\n",
    "\n",
    "\n",
    "def counting_based(feature, data, labels=2):\n",
    "    total_data = 0.0\n",
    "    num_correct = 0.0\n",
    "    \n",
    "    for d in data:\n",
    "        sub_feature = dict() \n",
    "        for i in range(labels):\n",
    "            sub_feature[i] = 0\n",
    "        if labels == 2:\n",
    "            num_correct += max(sum(d),len(d)-sum(d))\n",
    "        else:\n",
    "            for label in d:\n",
    "                sub_feature[label] += 1\n",
    "            num_correct += max(sub_feature[_] for _ in sub_feature)\n",
    "            \n",
    "        total_data += len(d)\n",
    "    print(feature + \": %(num_corrct)d/%(total_data)d\"  % \n",
    "          {\"num_corrct\": int(num_correct), 'total_data':int(total_data)})\n",
    "\n",
    "counting_based(\"A\", tree_A)\n",
    "counting_based(\"B\", tree_B)"
   ]
  },
  {
   "cell_type": "markdown",
   "metadata": {},
   "source": [
    "#### (b) Compute the information-theoretic heuristic, and order the features by it."
   ]
  },
  {
   "cell_type": "code",
   "execution_count": 30,
   "metadata": {
    "scrolled": true
   },
   "outputs": [],
   "source": [
    "# TODO\n",
    "def calc_entropy(probability):\n",
    "    if probability == 0:\n",
    "        return 0\n",
    "    else:\n",
    "        return probability*np.log2(1/probability)\n",
    "\n",
    "def information_theoretic(feature, data, labels=2):\n",
    "    total_number = 0\n",
    "    total_positive = 0\n",
    "    main_feature = dict()\n",
    "    H_Examples = float()\n",
    "    remainder = float()\n",
    "    information_gain = float()\n",
    "    for d in data:\n",
    "        total_number += len(d)\n",
    "        for f in d:\n",
    "            if f in main_feature:\n",
    "                main_feature[f] += 1\n",
    "            else:\n",
    "                main_feature[f] =1\n",
    "    \n",
    "    for main_key in main_feature.keys():\n",
    "        probability_label = main_feature[main_key] / total_number\n",
    "        H_Examples += calc_entropy(probability_label)\n",
    "    \n",
    "    for d in data:\n",
    "        probability = len(d) / total_number\n",
    "        sub_feature = dict()\n",
    "        for f in d:\n",
    "            if f in sub_feature:\n",
    "                sub_feature[f] += 1\n",
    "            else:\n",
    "                sub_feature[f] =1\n",
    "        for sub_key in sub_feature.keys():\n",
    "            probability_subfeature = sub_feature[sub_key] / len(d)\n",
    "            remainder += probability*calc_entropy(probability_subfeature)\n",
    "    \n",
    "    information_gain = H_Examples - remainder\n",
    "    print (feature + \": \" + str(information_gain))"
   ]
  },
  {
   "cell_type": "code",
   "execution_count": 31,
   "metadata": {},
   "outputs": [
    {
     "name": "stdout",
     "output_type": "stream",
     "text": [
      "A: 0.31127812445913294\n",
      "B: 0.18872187554086706\n"
     ]
    }
   ],
   "source": [
    "information_theoretic(\"A\", tree_A)\n",
    "information_theoretic(\"B\", tree_B)"
   ]
  },
  {
   "cell_type": "markdown",
   "metadata": {},
   "source": [
    "#### (c) Discussion of results.\n",
    "\n",
    "Based on the books and lectures, the counting_based heuristic finds the most important attributes based on the majority of each branch. When the graph B is balanced tree, the graph A shows more mistakes on right side. However, when computing the results, the useful information is balanced. Information-theoretic heuristic can help us find the real useful branch of the tree based on the features. In Information-theoretic, A is more important than B based on the results. When we compare these two methods, counting_based can be used in some simple condition, while Information-theoretic can help us find more accurate/important information."
   ]
  },
  {
   "cell_type": "markdown",
   "metadata": {},
   "source": [
    "### 2.2 Compute both heuristics for simplified abalone data."
   ]
  },
  {
   "cell_type": "markdown",
   "metadata": {},
   "source": [
    "#### (a) Compute the counting-based heuristic, and order the features by it."
   ]
  },
  {
   "cell_type": "code",
   "execution_count": 32,
   "metadata": {},
   "outputs": [],
   "source": [
    "# TODO\n",
    "small_tr_x = np.loadtxt('./data_abalone/small_binary_x_train.csv', delimiter=',', skiprows=1)\n",
    "small_te_x = np.loadtxt('./data_abalone/small_binary_x_test.csv', delimiter=',', skiprows=1)\n",
    "small_tr_y = np.loadtxt('./data_abalone/3class_y_train.csv', delimiter=',', skiprows=1)\n",
    "small_te_y = np.loadtxt('./data_abalone/3class_y_test.csv', delimiter=',', skiprows=1)"
   ]
  },
  {
   "cell_type": "code",
   "execution_count": 33,
   "metadata": {},
   "outputs": [],
   "source": [
    "small_data = pd.read_csv('./data_abalone/small_binary_x_train.csv')\n",
    "small_d_list = small_data.values.tolist()\n",
    "all_data = pd.read_csv('./data_abalone/x_train.csv')"
   ]
  },
  {
   "cell_type": "code",
   "execution_count": 34,
   "metadata": {},
   "outputs": [
    {
     "data": {
      "text/plain": [
       "0"
      ]
     },
     "execution_count": 34,
     "metadata": {},
     "output_type": "execute_result"
    }
   ],
   "source": [
    "small_d_list[0][1]"
   ]
  },
  {
   "cell_type": "code",
   "execution_count": 35,
   "metadata": {},
   "outputs": [
    {
     "data": {
      "text/plain": [
       "['is_male',\n",
       " 'length_mm',\n",
       " 'diam_mm',\n",
       " 'height_mm',\n",
       " 'whole_weight_g',\n",
       " 'shucked_weight_g',\n",
       " 'viscera_weight_g',\n",
       " 'shell_weight_g']"
      ]
     },
     "execution_count": 35,
     "metadata": {},
     "output_type": "execute_result"
    }
   ],
   "source": [
    "headers = small_data.columns.tolist()\n",
    "headers_all = all_data.columns.tolist()\n",
    "headers_all"
   ]
  },
  {
   "cell_type": "code",
   "execution_count": 36,
   "metadata": {},
   "outputs": [
    {
     "name": "stdout",
     "output_type": "stream",
     "text": [
      "is_male: 1864/3176\n",
      "length_mm: 2230/3176\n",
      "diam_mm: 2266/3176\n",
      "height_mm: 2316/3176\n"
     ]
    }
   ],
   "source": [
    "for i in range(len(small_data.columns)):\n",
    "    tree = []\n",
    "    true_list =[]\n",
    "    false_list = []\n",
    "    for index, value in enumerate(small_tr_x[:,i].transpose()):\n",
    "        if value == 0:\n",
    "            false_list.append(small_tr_y[index])\n",
    "        else:\n",
    "            true_list.append(small_tr_y[index])\n",
    "    tree.append(true_list)\n",
    "    tree.append(false_list)\n",
    "    feature = small_data.columns[i]\n",
    "    counting_based(feature, tree, 3)"
   ]
  },
  {
   "cell_type": "markdown",
   "metadata": {},
   "source": [
    "#### (b) Compute the information-theoretic heuristic, and order the features by it."
   ]
  },
  {
   "cell_type": "code",
   "execution_count": 37,
   "metadata": {
    "scrolled": true
   },
   "outputs": [
    {
     "name": "stdout",
     "output_type": "stream",
     "text": [
      "is_male: 0.02451648227175207\n",
      "length_mm: 0.13543816377043694\n",
      "diam_mm: 0.1500706886802703\n",
      "height_mm: 0.17302867291002488\n"
     ]
    }
   ],
   "source": [
    "# TODO\n",
    "for i in range(len(small_data.columns)):\n",
    "    tree = []\n",
    "    true_list =[]\n",
    "    false_list = []\n",
    "    for index, value in enumerate(small_tr_x[:,i].transpose()):\n",
    "        if value == 0:\n",
    "            false_list.append(small_tr_y[index])\n",
    "        else:\n",
    "            true_list.append(small_tr_y[index])\n",
    "    tree.append(true_list)\n",
    "    tree.append(false_list)\n",
    "    feature = small_data.columns[i]\n",
    "    information_theoretic(feature, tree, 3)"
   ]
  },
  {
   "cell_type": "markdown",
   "metadata": {},
   "source": [
    "### 2.3 Generate decision trees for full- and restricted-feature data\n",
    "\n",
    "#### (a) Print accuracy values and generate tree images."
   ]
  },
  {
   "cell_type": "code",
   "execution_count": 38,
   "metadata": {},
   "outputs": [],
   "source": [
    "# TODO\n",
    "all_tr_x = np.loadtxt('./data_abalone/x_train.csv', delimiter=',', skiprows=1)\n",
    "all_te_x = np.loadtxt('./data_abalone/x_test.csv', delimiter=',', skiprows=1)\n",
    "all_tr_y = np.loadtxt('./data_abalone/y_train.csv', delimiter=',', skiprows=1)\n",
    "all_te_y = np.loadtxt('./data_abalone/y_test.csv', delimiter=',', skiprows=1)"
   ]
  },
  {
   "cell_type": "code",
   "execution_count": 39,
   "metadata": {},
   "outputs": [
    {
     "name": "stdout",
     "output_type": "stream",
     "text": [
      "The accuracy of simplified testing dataset is: 0.7220\n",
      "The accuracy of simplified training dataset is: 0.7327\n"
     ]
    },
    {
     "data": {
      "text/plain": [
       "'simplified_dataset.pdf'"
      ]
     },
     "execution_count": 39,
     "metadata": {},
     "output_type": "execute_result"
    }
   ],
   "source": [
    "import graphviz\n",
    "decision_tree_small = sklearn.tree.DecisionTreeClassifier(criterion = 'entropy')\n",
    "decision_tree_small = decision_tree_small.fit(small_tr_x,small_tr_y)\n",
    "score_te_small = decision_tree_small.score(small_te_x,small_te_y)\n",
    "score_tr_small = decision_tree_small.score(small_tr_x,small_tr_y)\n",
    "print (\"The accuracy of simplified testing dataset is: %.4f\"%score_te_small)\n",
    "print (\"The accuracy of simplified training dataset is: %.4f\"%score_tr_small)\n",
    "\n",
    "dot_data = sklearn.tree.export_graphviz(decision_tree_small,out_file=None,feature_names = headers) \n",
    "graph = graphviz.Source(dot_data) \n",
    "graph.render(\"simplified_dataset\")"
   ]
  },
  {
   "cell_type": "code",
   "execution_count": 40,
   "metadata": {},
   "outputs": [
    {
     "name": "stdout",
     "output_type": "stream",
     "text": [
      "The accuracy of full testing dataset is: 0.2020\n",
      "The accuracy of full training dataset is: 1.0000\n"
     ]
    },
    {
     "data": {
      "text/plain": [
       "'full_dataset.pdf'"
      ]
     },
     "execution_count": 40,
     "metadata": {},
     "output_type": "execute_result"
    }
   ],
   "source": [
    "decision_tree_all = sklearn.tree.DecisionTreeClassifier(criterion = 'entropy')\n",
    "decision_tree_all = decision_tree_all.fit(all_tr_x,all_tr_y)\n",
    "score_te_all = decision_tree_all.score(all_te_x,all_te_y)\n",
    "score_tr_all = decision_tree_all.score(all_tr_x,all_tr_y)\n",
    "print (\"The accuracy of full testing dataset is: %.4f\"%score_te_all)\n",
    "print (\"The accuracy of full training dataset is: %.4f\"%score_tr_all)\n",
    "\n",
    "dot_data = sklearn.tree.export_graphviz(decision_tree_all,out_file=None,feature_names = headers_all) \n",
    "graph = graphviz.Source(dot_data) \n",
    "graph.render(\"full_dataset\")"
   ]
  },
  {
   "cell_type": "markdown",
   "metadata": {},
   "source": [
    "#### (b) Discuss the results seen for the two trees\n",
    "\n",
    "*TODO*"
   ]
  },
  {
   "cell_type": "markdown",
   "metadata": {},
   "source": [
    "From the two descision trees, by giving more features in full dataset, the training accuracy is improved a lot, but the training accuracy continues decreasing. It fits the condition of overfitting. As a result, in this question we should choose the smaller dataset. In overfitting, the dataset provides some unrelated information which contributes to the difference between the truth conditon and the prediction. In real life, we should keep the rate of testing dataset at a high level when we try to improve the training accuracy."
   ]
  },
  {
   "cell_type": "code",
   "execution_count": null,
   "metadata": {},
   "outputs": [],
   "source": []
  }
 ],
 "metadata": {
  "kernelspec": {
   "display_name": "Python 3",
   "language": "python",
   "name": "python3"
  },
  "language_info": {
   "codemirror_mode": {
    "name": "ipython",
    "version": 3
   },
   "file_extension": ".py",
   "mimetype": "text/x-python",
   "name": "python",
   "nbconvert_exporter": "python",
   "pygments_lexer": "ipython3",
   "version": "3.7.6"
  }
 },
 "nbformat": 4,
 "nbformat_minor": 2
}
