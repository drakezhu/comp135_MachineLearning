{
 "cells": [
  {
   "cell_type": "markdown",
   "metadata": {},
   "source": [
    "## Yunke Zhu and 1330327"
   ]
  },
  {
   "cell_type": "markdown",
   "metadata": {},
   "source": [
    "## HW03 Code\n",
    "\n",
    "\n",
    "You will complete the following notebook, as described in the PDF for Homework 03 (included in the download with the starter code).  You will submit:\n",
    "1. This notebook file, along with your COLLABORATORS.txt file and the two tree images (PDFs generated using `graphviz` within the code), to the Gradescope link for code.\n",
    "2. A PDF of this notebook and all of its output, once it is completed, to the Gradescope link for the PDF.\n",
    "\n",
    "\n",
    "Please report any questions to the [class Piazza page](https://piazza.com/tufts/spring2020/comp135).\n",
    "\n",
    "### Import required libraries."
   ]
  },
  {
   "cell_type": "code",
   "execution_count": 310,
   "metadata": {},
   "outputs": [],
   "source": [
    "import os\n",
    "import numpy as np\n",
    "import pandas as pd\n",
    "\n",
    "import warnings\n",
    "\n",
    "import sklearn.linear_model\n",
    "import sklearn.tree\n",
    "import sklearn.metrics\n",
    "\n",
    "from matplotlib import pyplot as plt\n",
    "import seaborn as sns\n",
    "%matplotlib inline\n",
    "plt.style.use('seaborn') # pretty matplotlib plots\n",
    "\n",
    "import graphviz"
   ]
  },
  {
   "cell_type": "markdown",
   "metadata": {},
   "source": [
    "## Part One: Cancer-Risk Screening\n",
    "\n",
    "### 1.1: Compute true/false positives/negatives.\n",
    "\n",
    "Complete the following code."
   ]
  },
  {
   "cell_type": "code",
   "execution_count": 311,
   "metadata": {},
   "outputs": [],
   "source": [
    "def calc_TP_TN_FP_FN(ytrue_N, yhat_N):\n",
    "    ''' Compute counts of four possible outcomes of a binary classifier for evaluation.\n",
    "    \n",
    "    Args\n",
    "    ----\n",
    "    ytrue_N : 1D array of floats\n",
    "        Each entry represents the binary value (0 or 1) of 'true' label of one example\n",
    "        One entry per example in current dataset\n",
    "    yhat_N : 1D array of floats\n",
    "        Each entry represents a predicted binary value (either 0 or 1).\n",
    "        One entry per example in current dataset.\n",
    "        Needs to be same size as ytrue_N.\n",
    "\n",
    "    Returns\n",
    "    -------\n",
    "    TP : float\n",
    "        Number of true positives\n",
    "    TN : float\n",
    "        Number of true negatives\n",
    "    FP : float\n",
    "        Number of false positives\n",
    "    FN : float\n",
    "        Number of false negatives\n",
    "    '''\n",
    "    TP = 0.0\n",
    "    TN = 0.0\n",
    "    FP = 0.0\n",
    "    FN = 0.0\n",
    "    for i in range(len(ytrue_N)):\n",
    "        real = ytrue_N[i]\n",
    "        predict = yhat_N[i]\n",
    "        if real == 1 and predict == 1:\n",
    "            TP += 1\n",
    "        if real == 0 and predict == 0:\n",
    "            TN += 1\n",
    "        if real == 1 and predict == 0:\n",
    "            FN += 1\n",
    "        if real == 0 and predict == 1:\n",
    "            FP += 1\n",
    "    return TP, TN, FP, FN"
   ]
  },
  {
   "cell_type": "code",
   "execution_count": 312,
   "metadata": {},
   "outputs": [
    {
     "data": {
      "text/plain": [
       "(0.0, 0.0, 10.0, 0.0)"
      ]
     },
     "execution_count": 312,
     "metadata": {},
     "output_type": "execute_result"
    }
   ],
   "source": [
    "all0 = np.zeros(10)\n",
    "all1 = np.ones(10)\n",
    "calc_TP_TN_FP_FN(all0, all1)"
   ]
  },
  {
   "cell_type": "code",
   "execution_count": 313,
   "metadata": {},
   "outputs": [
    {
     "data": {
      "text/plain": [
       "(0.0, 0.0, 0.0, 10.0)"
      ]
     },
     "execution_count": 313,
     "metadata": {},
     "output_type": "execute_result"
    }
   ],
   "source": [
    "calc_TP_TN_FP_FN(all1, all0)"
   ]
  },
  {
   "cell_type": "code",
   "execution_count": 314,
   "metadata": {},
   "outputs": [
    {
     "data": {
      "text/plain": [
       "(10.0, 0.0, 0.0, 0.0)"
      ]
     },
     "execution_count": 314,
     "metadata": {},
     "output_type": "execute_result"
    }
   ],
   "source": [
    "calc_TP_TN_FP_FN(all1, all1)"
   ]
  },
  {
   "cell_type": "code",
   "execution_count": 315,
   "metadata": {},
   "outputs": [
    {
     "data": {
      "text/plain": [
       "(0.0, 10.0, 0.0, 0.0)"
      ]
     },
     "execution_count": 315,
     "metadata": {},
     "output_type": "execute_result"
    }
   ],
   "source": [
    "calc_TP_TN_FP_FN(all0, all0)"
   ]
  },
  {
   "cell_type": "markdown",
   "metadata": {},
   "source": [
    "### Supplied functions for later use\n",
    "\n",
    "***Do not*** edit the following functions.  They are already complete, and will be used in your later code."
   ]
  },
  {
   "cell_type": "code",
   "execution_count": 316,
   "metadata": {},
   "outputs": [],
   "source": [
    "def calc_perf_metrics_for_threshold(ytrue_N, yproba1_N, thresh):\n",
    "    ''' Compute performance metrics for a given probabilistic classifier and threshold\n",
    "    '''\n",
    "    tp, tn, fp, fn = calc_TP_TN_FP_FN(ytrue_N, yproba1_N >= thresh)\n",
    "    ## Compute ACC, TPR, TNR, etc.\n",
    "    acc = (tp + tn) / float(tp + tn + fp + fn + 1e-10)\n",
    "    tpr = tp / float(tp + fn + 1e-10)\n",
    "    tnr = tn / float(fp + tn + 1e-10)\n",
    "    ppv = tp / float(tp + fp + 1e-10)\n",
    "    npv = tn / float(tn + fn + 1e-10)\n",
    "    \n",
    "    return acc, tpr, tnr, ppv, npv\n",
    "\n",
    "def print_perf_metrics_for_threshold(ytrue_N, yproba1_N, thresh):\n",
    "    ''' Pretty print perf. metrics for a given probabilistic classifier and threshold\n",
    "    '''\n",
    "    acc, tpr, tnr, ppv, npv = calc_perf_metrics_for_threshold(ytrue_N, yproba1_N, thresh)\n",
    "    \n",
    "    ## Pretty print the results\n",
    "    print(\"%.3f ACC\" % acc)\n",
    "    print(\"%.3f TPR\" % tpr)\n",
    "    print(\"%.3f TNR\" % tnr)\n",
    "    print(\"%.3f PPV\" % ppv)\n",
    "    print(\"%.3f NPV\" % npv)"
   ]
  },
  {
   "cell_type": "code",
   "execution_count": 317,
   "metadata": {},
   "outputs": [],
   "source": [
    "def calc_confusion_matrix_for_threshold(ytrue_N, yproba1_N, thresh):\n",
    "    ''' Compute the confusion matrix for a given probabilistic classifier and threshold\n",
    "    \n",
    "    Args\n",
    "    ----\n",
    "    ytrue_N : 1D array of floats\n",
    "        Each entry represents the binary value (0 or 1) of 'true' label of one example\n",
    "        One entry per example in current dataset\n",
    "    yproba1_N : 1D array of floats\n",
    "        Each entry represents a probability (between 0 and 1) that correct label is positive (1)\n",
    "        One entry per example in current dataset\n",
    "        Needs to be same size as ytrue_N\n",
    "    thresh : float\n",
    "        Scalar threshold for converting probabilities into hard decisions\n",
    "        Calls an example \"positive\" if yproba1 >= thresh\n",
    "\n",
    "    Returns\n",
    "    -------\n",
    "    cm_df : Pandas DataFrame\n",
    "        Can be printed like print(cm_df) to easily display results\n",
    "    '''\n",
    "    cm = sklearn.metrics.confusion_matrix(ytrue_N, yproba1_N >= thresh)\n",
    "    cm_df = pd.DataFrame(data=cm, columns=[0, 1], index=[0, 1])\n",
    "    cm_df.columns.name = 'Predicted'\n",
    "    cm_df.index.name = 'True'\n",
    "    return cm_df"
   ]
  },
  {
   "cell_type": "code",
   "execution_count": 318,
   "metadata": {},
   "outputs": [],
   "source": [
    "def compute_perf_metrics_across_thresholds(ytrue_N, yproba1_N, thresh_grid=None):\n",
    "    ''' Compute common binary classifier performance metrics across many thresholds\n",
    "    \n",
    "    If no array of thresholds is provided, will use all 'unique' values\n",
    "    in the yproba1_N array to define all possible thresholds with different performance.\n",
    "    \n",
    "    Args\n",
    "    ----\n",
    "    ytrue_N : 1D array of floats\n",
    "        Each entry represents the binary value (0 or 1) of 'true' label of one example\n",
    "        One entry per example in current dataset\n",
    "    yproba1_N : 1D array of floats\n",
    "        Each entry represents a probability (between 0 and 1) that correct label is positive (1)\n",
    "        One entry per example in current dataset\n",
    "\n",
    "    Returns\n",
    "    -------\n",
    "    thresh_grid : 1D array of floats\n",
    "        One entry for each possible threshold\n",
    "    perf_dict : dict, with key, value pairs:\n",
    "        * 'acc' : 1D array of accuracy values (one per threshold)\n",
    "        * 'ppv' : 1D array of positive predictive values (one per threshold)\n",
    "        * 'npv' : 1D array of negative predictive values (one per threshold)\n",
    "        * 'tpr' : 1D array of true positive rates (one per threshold)\n",
    "        * 'tnr' : 1D array of true negative rates (one per threshold)\n",
    "    '''\n",
    "    if thresh_grid is None:\n",
    "        bin_edges = np.linspace(0, 1.001, 21)\n",
    "        thresh_grid = np.sort(np.hstack([bin_edges, np.unique(yproba1_N)]))\n",
    "    tpr_grid = np.zeros_like(thresh_grid)\n",
    "    tnr_grid = np.zeros_like(thresh_grid)\n",
    "    ppv_grid = np.zeros_like(thresh_grid)\n",
    "    npv_grid = np.zeros_like(thresh_grid)\n",
    "    acc_grid = np.zeros_like(thresh_grid)\n",
    "    for tt, thresh in enumerate(thresh_grid):\n",
    "        # Apply specific threshold to convert probas into hard binary values (0 or 1)\n",
    "        # Then count number of true positives, true negatives, etc.\n",
    "        # Then compute metrics like accuracy and true positive rate\n",
    "        acc, tpr, tnr, ppv, npv = calc_perf_metrics_for_threshold(ytrue_N, yproba1_N, thresh)\n",
    "        acc_grid[tt] = acc\n",
    "        tpr_grid[tt] = tpr\n",
    "        tnr_grid[tt] = tnr\n",
    "        ppv_grid[tt] = ppv\n",
    "        npv_grid[tt] = npv\n",
    "    return thresh_grid, dict(\n",
    "        acc=acc_grid,\n",
    "        tpr=tpr_grid,\n",
    "        tnr=tnr_grid,\n",
    "        ppv=ppv_grid,\n",
    "        npv=npv_grid)\n",
    "\n",
    "def make_plot_perf_vs_threshold(ytrue_N, yproba1_N, bin_edges=np.linspace(0, 1, 21)):\n",
    "    ''' Make pretty plot of binary classifier performance as threshold increases\n",
    "    \n",
    "    Produces a plot with 3 rows:\n",
    "    * top row: hist of predicted probabilities for negative examples (shaded red)\n",
    "    * middle row: hist of predicted probabilities for positive examples (shaded blue)\n",
    "    * bottom row: line plots of metrics that require hard decisions (ACC, TPR, TNR, etc.)\n",
    "    '''\n",
    "    fig, axes = plt.subplots(nrows=3, ncols=1, figsize=(12, 8))\n",
    "    sns.distplot(\n",
    "        yproba1_N[ytrue_N == 0],\n",
    "        color='r', bins=bin_edges, kde=False, rug=True, ax=axes[0]);\n",
    "    sns.distplot(\n",
    "        yproba1_N[ytrue_N == 1],\n",
    "        color='b', bins=bin_edges, kde=False, rug=True, ax=axes[1]);\n",
    "\n",
    "    thresh_grid, perf_grid = compute_perf_metrics_across_thresholds(ytrue_N, yproba1_N)\n",
    "    axes[2].plot(thresh_grid, perf_grid['acc'], 'k-', label='accuracy')\n",
    "    axes[2].plot(thresh_grid, perf_grid['tpr'], 'b-', label='TPR (recall/sensitivity)')\n",
    "    axes[2].plot(thresh_grid, perf_grid['tnr'], 'g-', label='TNR (specificity)')\n",
    "    axes[2].plot(thresh_grid, perf_grid['ppv'], 'c-', label='PPV (precision)')\n",
    "    axes[2].plot(thresh_grid, perf_grid['npv'], 'm-', label='NPV')\n",
    "    \n",
    "    axes[2].legend()\n",
    "    axes[2].set_ylim([0, 1])"
   ]
  },
  {
   "cell_type": "markdown",
   "metadata": {},
   "source": [
    "### Load the dataset.\n",
    "\n",
    "The following should ***not*** be modified.  After it runs, the various arrays it creates will contain the 2- or 3-feature input datasets."
   ]
  },
  {
   "cell_type": "code",
   "execution_count": 319,
   "metadata": {},
   "outputs": [],
   "source": [
    "# Load 3 feature version of x arrays\n",
    "x_tr_M3 = np.loadtxt('./data_cancer/x_train.csv', delimiter=',', skiprows=1)\n",
    "x_va_N3 = np.loadtxt('./data_cancer/x_valid.csv', delimiter=',', skiprows=1)\n",
    "x_te_N3 = np.loadtxt('./data_cancer/x_test.csv', delimiter=',', skiprows=1)\n",
    "\n",
    "# 2 feature version of x arrays\n",
    "x_tr_M2 = x_tr_M3[:, :2].copy()\n",
    "x_va_N2 = x_va_N3[:, :2].copy()\n",
    "x_te_N2 = x_te_N3[:, :2].copy()"
   ]
  },
  {
   "cell_type": "code",
   "execution_count": 320,
   "metadata": {},
   "outputs": [],
   "source": [
    "y_tr_M = np.loadtxt('./data_cancer/y_train.csv', delimiter=',', skiprows=1)\n",
    "y_va_N = np.loadtxt('./data_cancer/y_valid.csv', delimiter=',', skiprows=1)\n",
    "y_te_N = np.loadtxt('./data_cancer/y_test.csv', delimiter=',', skiprows=1)"
   ]
  },
  {
   "cell_type": "markdown",
   "metadata": {},
   "source": [
    "### 1.2: Compute the fraction of patients with cancer.\n",
    "\n",
    "Complete the following code.  Your solution needs to ***compute*** these values from the training, validation, and testing sets (i.e., don't simply hand-count and print the values)."
   ]
  },
  {
   "cell_type": "code",
   "execution_count": 321,
   "metadata": {},
   "outputs": [],
   "source": [
    "def computeFrac(data):\n",
    "    return sum(data)/len(data)\n",
    "\n",
    "train_frac = computeFrac(y_tr_M)\n",
    "valid_frac = computeFrac(y_va_N)\n",
    "test_frac = computeFrac(y_te_N)"
   ]
  },
  {
   "cell_type": "code",
   "execution_count": 322,
   "metadata": {},
   "outputs": [
    {
     "name": "stdout",
     "output_type": "stream",
     "text": [
      "Fraction with cancer in TRAIN: 0.141\n",
      "Fraction with cancer in VALID: 0.139\n",
      "Fraction with cancer in TEST : 0.139\n"
     ]
    }
   ],
   "source": [
    "print(\"Fraction with cancer in TRAIN: %.3f\" % train_frac) #TODO: modify what is printed here.\n",
    "print(\"Fraction with cancer in VALID: %.3f\" % valid_frac)\n",
    "print(\"Fraction with cancer in TEST : %.3f\" % test_frac)"
   ]
  },
  {
   "cell_type": "markdown",
   "metadata": {},
   "source": [
    "### 1.3: The predict-0-always baseline\n",
    "\n",
    "#### (a) Compute the accuracy of the always-0 classifier.\n",
    "\n",
    "Complete the code to compute and print the accuracy of the always-0 classifier on validation and test outputs."
   ]
  },
  {
   "cell_type": "code",
   "execution_count": 323,
   "metadata": {},
   "outputs": [],
   "source": [
    "def computeAccuracy(data=None,baseline=None):\n",
    "    TP, TN, FP, FN = calc_TP_TN_FP_FN(data,baseline)\n",
    "    return float((TP + TN)/(TP+TN+FP+FN))"
   ]
  },
  {
   "cell_type": "code",
   "execution_count": 324,
   "metadata": {},
   "outputs": [],
   "source": [
    "valid_all_zero = np.zeros(len(y_va_N))\n",
    "valid_accuracy = computeAccuracy(y_va_N,valid_all_zero)\n",
    "\n",
    "test_all_zero = np.zeros(len(y_te_N))\n",
    "test_accuracy = computeAccuracy(y_te_N,test_all_zero)"
   ]
  },
  {
   "cell_type": "code",
   "execution_count": 325,
   "metadata": {},
   "outputs": [
    {
     "name": "stdout",
     "output_type": "stream",
     "text": [
      "Always-0: accuracy on VALID: 0.861\n",
      "Always-0: accuracy on TEST : 0.861\n"
     ]
    }
   ],
   "source": [
    "print(\"Always-0: accuracy on VALID: %.3f\" % valid_accuracy) # TODO edit values!\n",
    "print(\"Always-0: accuracy on TEST : %.3f\" % test_accuracy)"
   ]
  },
  {
   "cell_type": "markdown",
   "metadata": {},
   "source": [
    "#### (b) Print a confusion matrix for the always-0 classifier.\n",
    "\n",
    "Add code below to generate a confusion matrix for the always-0 classifier on the validation set."
   ]
  },
  {
   "cell_type": "code",
   "execution_count": 326,
   "metadata": {},
   "outputs": [
    {
     "data": {
      "text/html": [
       "<div>\n",
       "<style scoped>\n",
       "    .dataframe tbody tr th:only-of-type {\n",
       "        vertical-align: middle;\n",
       "    }\n",
       "\n",
       "    .dataframe tbody tr th {\n",
       "        vertical-align: top;\n",
       "    }\n",
       "\n",
       "    .dataframe thead th {\n",
       "        text-align: right;\n",
       "    }\n",
       "</style>\n",
       "<table border=\"1\" class=\"dataframe\">\n",
       "  <thead>\n",
       "    <tr style=\"text-align: right;\">\n",
       "      <th>Predicted</th>\n",
       "      <th>0</th>\n",
       "      <th>1</th>\n",
       "    </tr>\n",
       "    <tr>\n",
       "      <th>True</th>\n",
       "      <th></th>\n",
       "      <th></th>\n",
       "    </tr>\n",
       "  </thead>\n",
       "  <tbody>\n",
       "    <tr>\n",
       "      <th>0</th>\n",
       "      <td>155</td>\n",
       "      <td>0</td>\n",
       "    </tr>\n",
       "    <tr>\n",
       "      <th>1</th>\n",
       "      <td>25</td>\n",
       "      <td>0</td>\n",
       "    </tr>\n",
       "  </tbody>\n",
       "</table>\n",
       "</div>"
      ],
      "text/plain": [
       "Predicted    0  1\n",
       "True             \n",
       "0          155  0\n",
       "1           25  0"
      ]
     },
     "execution_count": 326,
     "metadata": {},
     "output_type": "execute_result"
    }
   ],
   "source": [
    "# TODO call print(calc_confusion_matrix_for_threshold(...))\n",
    "calc_confusion_matrix_for_threshold(y_va_N,valid_all_zero,0.5)\n",
    "#print_perf_metrics_for_threshold(valid_all_zero,y_va_N,0)"
   ]
  },
  {
   "cell_type": "markdown",
   "metadata": {},
   "source": [
    "#### (c) Reflect on the accuracy of the always-0 classifier.\n",
    "\n",
    "**Answer**: TODO"
   ]
  },
  {
   "cell_type": "markdown",
   "metadata": {},
   "source": [
    "#### (d) Analyze the various costs of using the always-0 classifier.\n",
    "\n",
    "\n",
    "**Answer**: TODO"
   ]
  },
  {
   "cell_type": "markdown",
   "metadata": {},
   "source": [
    "### 1.4: Logistic Regression\n",
    "\n",
    "#### (a) Create a set of `LogisticRegression` models.\n",
    "\n",
    "Each model will use a different control parameter, `C`, and each will be fit to 2-feature data.  Probabilistic predictions will be made on both training set and validation set inputs, and logistic-loss for each will be recorded."
   ]
  },
  {
   "cell_type": "code",
   "execution_count": 327,
   "metadata": {},
   "outputs": [],
   "source": [
    "from sklearn.linear_model import LogisticRegression\n",
    "tr_loss_list_2 = list()\n",
    "va_loss_list_2 = list()\n",
    "\n",
    "# TODO fit, predict_proba, and evaluate logistic loss    \n",
    "# Record the best model here\n",
    "def loss_detection(C,x_tr,y_tr,x_va,y_va):\n",
    "    LRM = LogisticRegression(C=C,solver='liblinear').fit(x_tr, y_tr)\n",
    "    pred_tr = LRM.predict_proba(x_tr)\n",
    "    pred_va = LRM.predict_proba(x_va)\n",
    "    return sklearn.metrics.log_loss(y_tr,pred_tr),sklearn.metrics.log_loss(y_va,pred_va) "
   ]
  },
  {
   "cell_type": "code",
   "execution_count": 328,
   "metadata": {
    "scrolled": true
   },
   "outputs": [],
   "source": [
    "C_grid = np.logspace(-9, 6, 31)\n",
    "for C in C_grid:\n",
    "    tr_loss,va_loss = loss_detection(C,x_tr_M2,y_tr_M,x_va_N2,y_va_N)\n",
    "    tr_loss_list_2.append(tr_loss)\n",
    "    va_loss_list_2.append(va_loss)"
   ]
  },
  {
   "cell_type": "markdown",
   "metadata": {},
   "source": [
    "#### Plot logistic loss (y-axis) vs. C (x-axis) on the training set and validation set.\n",
    "\n",
    "The best values for `C` and the loss should be printed."
   ]
  },
  {
   "cell_type": "code",
   "execution_count": 329,
   "metadata": {},
   "outputs": [
    {
     "data": {
      "image/png": "[encoded data removed]",
      "text/plain": [
       "<Figure size 576x396 with 1 Axes>"
      ]
     },
     "metadata": {},
     "output_type": "display_data"
    },
    {
     "name": "stdout",
     "output_type": "stream",
     "text": [
      "Best C-value for LR with 2-feature data: 31.623\n",
      "Validation set log-loss at best C-value: 0.3549\n"
     ]
    }
   ],
   "source": [
    "# TODO make plot\n",
    "plt.xscale('log')\n",
    "plt.xlabel('log10(C)')\n",
    "plt.ylabel('logistic loss')\n",
    "plt.plot(C_grid,va_loss_list_2, color='blue',label = \"Validation Loss\")\n",
    "plt.plot(C_grid,tr_loss_list_2, color='red',label = \"Training Loss\")\n",
    "plt.ylim([0.0, 0.7]);\n",
    "\n",
    "# TODO add legend\n",
    "# plt.legend(...);\n",
    "plt.legend()\n",
    "plt.show()\n",
    "print(\"Best C-value for LR with 2-feature data: %.3f\" % C_grid[np.argmin(va_loss_list_2)]) # TODO\n",
    "print(\"Validation set log-loss at best C-value: %.4f\" % min(va_loss_list_2))"
   ]
  },
  {
   "cell_type": "markdown",
   "metadata": {},
   "source": [
    "#### (b) Plot the performance of the predictions made by the best classifier from step (a) on the validation set."
   ]
  },
  {
   "cell_type": "code",
   "execution_count": 330,
   "metadata": {},
   "outputs": [],
   "source": [
    "best_C_2 = C_grid[np.argmin(va_loss_list_2)]\n",
    "LRM = LogisticRegression(C=best_C_2,solver='liblinear').fit(x_tr_M2, y_tr_M)\n",
    "yproba = LRM.predict_proba(x_va_N2)[:,1]"
   ]
  },
  {
   "cell_type": "code",
   "execution_count": 331,
   "metadata": {},
   "outputs": [
    {
     "data": {
      "image/png": "[encoded data removed]",
      "text/plain": [
       "<Figure size 864x576 with 3 Axes>"
      ]
     },
     "metadata": {},
     "output_type": "display_data"
    }
   ],
   "source": [
    "# TODO call make_plot_perf_vs_threshold(...)\n",
    "make_plot_perf_vs_threshold(ytrue_N, yproba)"
   ]
  },
  {
   "cell_type": "markdown",
   "metadata": {},
   "source": [
    "#### (c) Model fitting with 3-feature data\n",
    "\n",
    "Repeat the model generation from **1.4 (a)**, using the full 3-feature data."
   ]
  },
  {
   "cell_type": "code",
   "execution_count": 332,
   "metadata": {},
   "outputs": [],
   "source": [
    "# TODO like 1.4 (a), but with 3 features\n",
    "tr_loss_list_3 = list()\n",
    "va_loss_list_3 = list()\n",
    "C_grid = np.logspace(-9, 6, 31)\n",
    "for C in C_grid:\n",
    "    tr_loss,va_loss = loss_detection(C,x_tr_M3,y_tr_M,x_va_N3,y_va_N)\n",
    "    tr_loss_list_3.append(tr_loss)\n",
    "    va_loss_list_3.append(va_loss)"
   ]
  },
  {
   "cell_type": "markdown",
   "metadata": {},
   "source": [
    "#### Plot logistic loss (y-axis) vs. C (x-axis) for the 3-feature classifiers on the training set and validation set.\n",
    "\n",
    "Again, the best values for `C` and the loss should be printed."
   ]
  },
  {
   "cell_type": "code",
   "execution_count": 333,
   "metadata": {},
   "outputs": [
    {
     "data": {
      "image/png": "[encoded data removed]",
      "text/plain": [
       "<Figure size 576x396 with 1 Axes>"
      ]
     },
     "metadata": {},
     "output_type": "display_data"
    },
    {
     "name": "stdout",
     "output_type": "stream",
     "text": [
      "Best C-value for LR with 2-feature data: 1000000.000\n",
      "Validation set log-loss at best C-value: 0.2810\n"
     ]
    }
   ],
   "source": [
    "# TODO make plot\n",
    "plt.xscale('log')\n",
    "plt.xlabel('log10(C)')\n",
    "plt.ylabel('logistic loss')\n",
    "plt.plot(C_grid,va_loss_list_3, color='blue',label = \"Validation Loss\")\n",
    "plt.plot(C_grid,tr_loss_list_3, color='red',label = \"Training Loss\")\n",
    "plt.ylim([0.0, 0.7]);\n",
    "\n",
    "# TODO add legend\n",
    "# plt.legend(...);\n",
    "plt.legend()\n",
    "plt.show()\n",
    "print(\"Best C-value for LR with 2-feature data: %.3f\" % C_grid[np.argmin(va_loss_list_3)]) # TODO\n",
    "print(\"Validation set log-loss at best C-value: %.4f\" % min(va_loss_list_3))"
   ]
  },
  {
   "cell_type": "markdown",
   "metadata": {},
   "source": [
    "#### Plot the performance of the predictions made by the best 3-valued classifier on the validation set."
   ]
  },
  {
   "cell_type": "code",
   "execution_count": 334,
   "metadata": {},
   "outputs": [
    {
     "data": {
      "image/png": "[encoded data removed]",
      "text/plain": [
       "<Figure size 864x576 with 3 Axes>"
      ]
     },
     "metadata": {},
     "output_type": "display_data"
    }
   ],
   "source": [
    "# TODO call make_plot_perf_vs_threshold(...)\n",
    "best_C_3 = C_grid[np.argmin(va_loss_list_3)]\n",
    "LRM = LogisticRegression(C=best_C_3,solver='liblinear').fit(x_tr_M3, y_tr_M)\n",
    "yproba = LRM.predict_proba(x_va_N3)[:,1]\n",
    "\n",
    "make_plot_perf_vs_threshold(ytrue_N, yproba)"
   ]
  },
  {
   "cell_type": "markdown",
   "metadata": {},
   "source": [
    "### 1.5: ROC Curves\n",
    "\n",
    "These curves allow us to compare model performance in terms of trade-offs between false positive and true positive results.\n",
    "\n",
    "#### (a) Plot ROC curves on the validation set.\n",
    "\n",
    "There should be two curves in the plot, one for each of the best two classifiers from prior steps."
   ]
  },
  {
   "cell_type": "code",
   "execution_count": 335,
   "metadata": {},
   "outputs": [],
   "source": [
    "LRM = LogisticRegression(C=best_C_2,solver='liblinear').fit(x_tr_M2, y_tr_M)\n",
    "yproba_va_2 = LRM.predict_proba(x_va_N2)[:,1]\n",
    "LRM = LogisticRegression(C=best_C_3,solver='liblinear').fit(x_tr_M3, y_tr_M)\n",
    "yproba_va_3 = LRM.predict_proba(x_va_N3)[:,1]\n",
    "\n",
    "fpr_va_2, tpr_va_2, thresholds_va_2 = sklearn.metrics.roc_curve(ytrue_N, yproba_va_2)\n",
    "fpr_va_3, tpr_va_3, thresholds_va_3 = sklearn.metrics.roc_curve(ytrue_N, yproba_va_3)"
   ]
  },
  {
   "cell_type": "code",
   "execution_count": 336,
   "metadata": {},
   "outputs": [
    {
     "data": {
      "image/png": "[encoded data removed]",
      "text/plain": [
       "<Figure size 576x396 with 1 Axes>"
      ]
     },
     "metadata": {},
     "output_type": "display_data"
    }
   ],
   "source": [
    "# TODO something like: fpr, tpr, thr = sklearn.metrics.roc_curve(...)\n",
    "\n",
    "plt.ylim([0, 1]);\n",
    "plt.plot(fpr_va_2,tpr_va_2, color='blue',label = \"2 feature validation dataset\")\n",
    "plt.plot(fpr_va_3,tpr_va_3, color='red',label = \"3 feature validation dataset\")\n",
    "plt.xlabel(\"False Postive rate (FPR = 1 - TPR)\");\n",
    "plt.ylabel(\"True Postive rate (TPR)\");\n",
    "plt.legend()\n",
    "plt.show()"
   ]
  },
  {
   "cell_type": "markdown",
   "metadata": {},
   "source": [
    "#### (b) Plot ROC curves on the test set.\n",
    "\n",
    "There should be two curves in the plot, one for each of the best two classifiers from prior steps."
   ]
  },
  {
   "cell_type": "code",
   "execution_count": 337,
   "metadata": {},
   "outputs": [],
   "source": [
    "LRM = LogisticRegression(C=best_C_2,solver='liblinear').fit(x_tr_M2, y_tr_M)\n",
    "yproba_te_2 = LRM.predict_proba(x_te_N2)[:,1]\n",
    "LRM = LogisticRegression(C=best_C_3,solver='liblinear').fit(x_tr_M3, y_tr_M)\n",
    "yproba_te_3 = LRM.predict_proba(x_te_N3)[:,1]\n",
    "\n",
    "fpr_te_2, tpr_te_2, thresholds_te_2 = sklearn.metrics.roc_curve(y_te_N, yproba_te_2)\n",
    "fpr_te_3, tpr_te_3, thresholds_te_3 = sklearn.metrics.roc_curve(y_te_N, yproba_te_3)"
   ]
  },
  {
   "cell_type": "code",
   "execution_count": 338,
   "metadata": {},
   "outputs": [
    {
     "data": {
      "image/png": "[encoded data removed]",
      "text/plain": [
       "<Figure size 576x396 with 1 Axes>"
      ]
     },
     "metadata": {},
     "output_type": "display_data"
    }
   ],
   "source": [
    "# TODO something like: fpr, tpr, thr = sklearn.metrics.roc_curve(...)\n",
    "\n",
    "plt.ylim([0, 1]);\n",
    "plt.plot(fpr_te_2,tpr_te_2, color='blue',label = \"2 feature test dataset\")\n",
    "plt.plot(fpr_te_3,tpr_te_3, color='red',label = \"3 feature test dataset\")\n",
    "plt.xlabel(\"False Postive rate (FPR = 1 - TPR)\");\n",
    "plt.ylabel(\"True Postive rate (TPR)\");\n",
    "plt.legend()\n",
    "plt.show()"
   ]
  },
  {
   "cell_type": "markdown",
   "metadata": {},
   "source": [
    "#### (c) Analyze the results shown in both the above plots, to compare classifier performance."
   ]
  },
  {
   "cell_type": "markdown",
   "metadata": {},
   "source": [
    "**Answer**: TODO"
   ]
  },
  {
   "cell_type": "markdown",
   "metadata": {},
   "source": [
    "### 1.6: Selecting a decision threshold\n",
    "\n",
    "#### (a) Using default 0.5 threshold. \n",
    "\n",
    "Generate a confusion matrix for the best 3-feature logistic model on the test set, using threshold 0.5."
   ]
  },
  {
   "cell_type": "code",
   "execution_count": 475,
   "metadata": {
    "scrolled": true
   },
   "outputs": [
    {
     "name": "stdout",
     "output_type": "stream",
     "text": [
      "ON THE VALIDATION SET:\n",
      "Chosen best thr = 0.5000\n",
      "\n",
      "ON THE TEST SET:\n",
      "Predicted    0   1\n",
      "True              \n",
      "0          152   3\n",
      "1           15  10\n",
      "\n",
      "0.900 ACC\n",
      "0.400 TPR\n",
      "0.981 TNR\n",
      "0.769 PPV\n",
      "0.910 NPV\n",
      "None\n"
     ]
    }
   ],
   "source": [
    "best_thr = 0.5\n",
    "\n",
    "LRM = LogisticRegression(C=best_C_3,solver='liblinear').fit(x_tr_M3, y_tr_M)\n",
    "ypred_te_3 = LRM.predict(x_te_N3)\n",
    "print(\"ON THE VALIDATION SET:\")\n",
    "print(\"Chosen best thr = %.4f\" % best_thr)\n",
    "print(\"\")\n",
    "print(\"ON THE TEST SET:\")\n",
    "\n",
    "print(calc_confusion_matrix_for_threshold(y_te_N,ypred_te_3,best_thr))\n",
    "# TODO: print(calc_confusion_matrix_for_threshold(...))\n",
    "print(\"\")\n",
    "print(print_perf_metrics_for_threshold(y_te_N, ypred_te_3, best_thr))\n",
    "# TODO: print(print_perf_metrics_for_threshold(...))"
   ]
  },
  {
   "cell_type": "markdown",
   "metadata": {},
   "source": [
    "#### (b) Pick a threshold to maximize TPR, while ensuring PPV >= 0.98.\n",
    "\n",
    "After finding the best threshold on the validation set, plot its confusion matrix and print its various performance metrics, for the test set."
   ]
  },
  {
   "cell_type": "code",
   "execution_count": 488,
   "metadata": {},
   "outputs": [],
   "source": [
    "LRM = LogisticRegression(C=best_C_3,solver='liblinear').fit(x_tr_M3, y_tr_M)\n",
    "yproba_va_3 = LRM.predict_proba(x_va_N3)[:,1]\n",
    "thresh_grid,  = compute_perf_metrics_across_thresholds(y_va_N, yproba_va_3, thresh_grid=None)\n",
    "yproba_te_3 = LRM.predict_proba(x_te_N3)[:,1]\n",
    "\n",
    "\n",
    "def bestSatisfiedTPR(perf_grid,ppv):\n",
    "    tmp = perf_grid['tpr'].copy()\n",
    "    if (max(perf_grid['ppv']) < ppv):\n",
    "        print (\"no threshold satisfied!\")\n",
    "        return\n",
    "    \n",
    "    while True:\n",
    "        index = np.argmax(tmp)\n",
    "        if perf_grid['ppv'][index] >= ppv:\n",
    "            return index\n",
    "        else:\n",
    "            tmp[index] = 0\n",
    "            \n",
    "best_thr_index = bestSatisfiedTPR(perf_grid, 0.98)\n",
    "best_thr = thresh_grid[best_thr_index]\n",
    "\n"
   ]
  },
  {
   "cell_type": "code",
   "execution_count": 489,
   "metadata": {},
   "outputs": [
    {
     "name": "stdout",
     "output_type": "stream",
     "text": [
      "ON THE VALIDATION SET:\n",
      "Chosen best thr = 0.6290\n",
      "\n",
      "ON THE TEST SET:\n",
      "Predicted    0  1\n",
      "True             \n",
      "0          155  0\n",
      "1           20  5\n",
      "\n",
      "0.889 ACC\n",
      "0.200 TPR\n",
      "1.000 TNR\n",
      "1.000 PPV\n",
      "0.886 NPV\n",
      "None\n"
     ]
    }
   ],
   "source": [
    "# TODO thresh_grid, perf_grid = compute_perf_metrics_across_thresholds(...)\n",
    "\n",
    "# TODO Find threshold that makes TPR as large as possible, while satisfying PPV >= 0.98\n",
    "\n",
    "print(\"ON THE VALIDATION SET:\")\n",
    "print(\"Chosen best thr = %.4f\" % best_thr)\n",
    "\n",
    "print(\"\")\n",
    "print(\"ON THE TEST SET:\")\n",
    "print(calc_confusion_matrix_for_threshold(y_te_N,yproba_te_3,best_thr))\n",
    "# TODO: print(calc_confusion_matrix_for_threshold(...))\n",
    "print(\"\")\n",
    "print(print_perf_metrics_for_threshold(y_te_N, yproba_te_3, best_thr))\n",
    "# TODO: print(print_perf_metrics_for_threshold(...))"
   ]
  },
  {
   "cell_type": "markdown",
   "metadata": {},
   "source": [
    "#### (c) Pick a threshold to maximize PPV, while ensuring TPR >= 0.98.\n",
    "\n",
    "After finding the best threshold on the validation set, plot its confusion matrix and print its various performance metrics, for the test set."
   ]
  },
  {
   "cell_type": "code",
   "execution_count": 490,
   "metadata": {},
   "outputs": [],
   "source": [
    "LRM = LogisticRegression(C=best_C_3,solver='liblinear').fit(x_tr_M3, y_tr_M)\n",
    "yproba_va_3 = LRM.predict_proba(x_va_N3)[:,1]\n",
    "thresh_grid, perf_grid = compute_perf_metrics_across_thresholds(y_va_N, yproba_va_3)\n",
    "yproba_te_3 = LRM.predict_proba(x_te_N3)[:,1]\n",
    "\n",
    "\n",
    "def bestSatisfiedPPV(perf_grid,tpr):\n",
    "    if (max(perf_grid['tpr']) < tpr):\n",
    "        print (\"no threshold satisfied!\")\n",
    "        return\n",
    "    tmp = perf_grid['ppv'].copy()\n",
    "    while True:\n",
    "        index = np.argmax(tmp)\n",
    "        if perf_grid['tpr'][index] >= tpr:\n",
    "            return index\n",
    "        else:\n",
    "            tmp[index] = 0\n",
    "            \n",
    "            \n",
    "best_thr_index = bestSatisfiedPPV(perf_grid, 0.98)\n",
    "best_thr = thresh_grid[best_thr_index]\n",
    "\n"
   ]
  },
  {
   "cell_type": "code",
   "execution_count": 491,
   "metadata": {},
   "outputs": [
    {
     "name": "stdout",
     "output_type": "stream",
     "text": [
      "ON THE VALIDATION SET:\n",
      "Chosen best thr = 0.0300\n",
      "\n",
      "ON THE TEST SET:\n",
      "Predicted   0   1\n",
      "True             \n",
      "0          57  98\n",
      "1           0  25\n",
      "\n",
      "0.456 ACC\n",
      "1.000 TPR\n",
      "0.368 TNR\n",
      "0.203 PPV\n",
      "1.000 NPV\n",
      "None\n"
     ]
    }
   ],
   "source": [
    "# TODO thresh_grid, perf_grid = compute_perf_metrics_across_thresholds(...)\n",
    "\n",
    "# TODO Find threshold that makes PPV as large as possible, while satisfying TPR >= 0.98\n",
    "\n",
    "\n",
    "print(\"ON THE VALIDATION SET:\")\n",
    "print(\"Chosen best thr = %.4f\" % best_thr) # TODO\n",
    "print(\"\")\n",
    "print(\"ON THE TEST SET:\")\n",
    "# TODO: print(calc_confusion_matrix_for_threshold(...))\n",
    "print(calc_confusion_matrix_for_threshold(y_te_N,yproba_te_3,best_thr))\n",
    "print(\"\")\n",
    "# TODO: print(print_perf_metrics_for_threshold(...))\n",
    "print(print_perf_metrics_for_threshold(y_te_N, yproba_te_3, best_thr))"
   ]
  },
  {
   "cell_type": "markdown",
   "metadata": {},
   "source": [
    "#### (d) Compare the confusion matrices from (a)–(c) to analyze the different thresholds."
   ]
  },
  {
   "cell_type": "markdown",
   "metadata": {},
   "source": [
    "**Answer**: TODO"
   ]
  },
  {
   "cell_type": "markdown",
   "metadata": {},
   "source": [
    "#### (e) How many biopsies can be avoided using the best threshold for the classifier?"
   ]
  },
  {
   "cell_type": "markdown",
   "metadata": {},
   "source": [
    "**Answer**: TODO"
   ]
  },
  {
   "cell_type": "markdown",
   "metadata": {},
   "source": [
    "## Part Two: Decision Trees\n",
    "\n",
    "You should start by computing the two heuristic values for the toy data described in the assignment handout. You should then load the two versions of the abalone data, compute the two heuristic values on features (for the simplified data), and then build decision trees for each set of data."
   ]
  },
  {
   "cell_type": "markdown",
   "metadata": {},
   "source": [
    "### 2.1 Compute both heuristics for toy data."
   ]
  },
  {
   "cell_type": "markdown",
   "metadata": {},
   "source": [
    "#### (a) Compute the counting-based heuristic, and order the features by it."
   ]
  },
  {
   "cell_type": "code",
   "execution_count": 26,
   "metadata": {},
   "outputs": [],
   "source": [
    "# TODO"
   ]
  },
  {
   "cell_type": "markdown",
   "metadata": {},
   "source": [
    "#### (b) Compute the information-theoretic heuristic, and order the features by it."
   ]
  },
  {
   "cell_type": "code",
   "execution_count": 27,
   "metadata": {
    "scrolled": true
   },
   "outputs": [],
   "source": [
    "# TODO"
   ]
  },
  {
   "cell_type": "markdown",
   "metadata": {},
   "source": [
    "#### (c) Discussion of results.\n",
    "\n",
    "*TODO*"
   ]
  },
  {
   "cell_type": "markdown",
   "metadata": {},
   "source": [
    "### 2.2 Compute both heuristics for simplified abalone data."
   ]
  },
  {
   "cell_type": "markdown",
   "metadata": {},
   "source": [
    "#### (a) Compute the counting-based heuristic, and order the features by it."
   ]
  },
  {
   "cell_type": "code",
   "execution_count": 28,
   "metadata": {},
   "outputs": [],
   "source": [
    "# TODO"
   ]
  },
  {
   "cell_type": "markdown",
   "metadata": {},
   "source": [
    "#### (b) Compute the information-theoretic heuristic, and order the features by it."
   ]
  },
  {
   "cell_type": "code",
   "execution_count": 29,
   "metadata": {
    "scrolled": true
   },
   "outputs": [],
   "source": [
    "# TODO"
   ]
  },
  {
   "cell_type": "markdown",
   "metadata": {},
   "source": [
    "### 2.3 Generate decision trees for full- and restricted-feature data\n",
    "\n",
    "#### (a) Print accuracy values and generate tree images."
   ]
  },
  {
   "cell_type": "code",
   "execution_count": 30,
   "metadata": {},
   "outputs": [],
   "source": [
    "# TODO"
   ]
  },
  {
   "cell_type": "markdown",
   "metadata": {},
   "source": [
    "#### (b) Discuss the results seen for the two trees\n",
    "\n",
    "*TODO*"
   ]
  },
  {
   "cell_type": "code",
   "execution_count": null,
   "metadata": {},
   "outputs": [],
   "source": []
  }
 ],
 "metadata": {
  "kernelspec": {
   "display_name": "Python 3",
   "language": "python",
   "name": "python3"
  },
  "language_info": {
   "codemirror_mode": {
    "name": "ipython",
    "version": 3
   },
   "file_extension": ".py",
   "mimetype": "text/x-python",
   "name": "python",
   "nbconvert_exporter": "python",
   "pygments_lexer": "ipython3",
   "version": "3.7.6"
  }
 },
 "nbformat": 4,
 "nbformat_minor": 2
}
